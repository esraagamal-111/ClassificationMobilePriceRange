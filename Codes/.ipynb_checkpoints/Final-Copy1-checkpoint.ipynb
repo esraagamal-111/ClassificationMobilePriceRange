{
 "cells": [
  {
   "cell_type": "markdown",
   "id": "f5039bab",
   "metadata": {},
   "source": [
    "# Mobile Price Classification "
   ]
  },
  {
   "cell_type": "markdown",
   "id": "c1bc3a63",
   "metadata": {},
   "source": [
    "### Table of contenet:\n",
    "<li><a href='#intro'>Introduction</a></li>\n",
    "<li><a href='#wrang'>Data Wranglling</a></li>\n",
    "<li><a href='#fea'>Feature Engineering</a></li>\n",
    "<li><a href='#eda'>Exploratory Data Analysis</a></li>\n",
    "<li><a href='#ml'>Machine Learning Process</a></li>\n",
    "<li><a href='#conc'>Conclusion</a></li>"
   ]
  },
  {
   "cell_type": "markdown",
   "id": "384987fe",
   "metadata": {},
   "source": [
    "<a id='intro'></a>\n",
    "## Introduction\n",
    "\n",
    "* **Context**\n",
    "<p>Bob has started his own mobile company. He wants to give tough fight to big companies like Apple,Samsung etc.\n",
    "\n",
    "He does not know how to estimate price of mobiles his company creates. In this competitive mobile phone market you cannot simply assume things. To solve this problem he collects sales data of mobile phones of various companies.\n",
    "\n",
    "Bob wants to find out some relation between features of a mobile phone(eg:- RAM,Internal Memory etc) and its selling price. But he is not so good at Machine Learning. So he needs your help to solve this problem.\n",
    "\n",
    "In this problem you do not have to predict actual price but a price range indicating how high the price is. </p>\n",
    "you can find the dataset [here](https://www.kaggle.com/iabhishekofficial/mobile-price-classification).\n",
    "* **Project Goal**\n",
    "<p>Predict a price range indicating how high the price is</p>\n",
    "* **Attributes Defintion**\n",
    "<li>battery_power: Total energy a battery can store in one time measured in mAh</li>\n",
    "Hint: Capacity loss: the faster the charging speed, the greater the capacity loss.\n",
    "<li>blue: Has bluetooth or not</li>\n",
    "<li>clock_speed: speed at which microprocessor executes instructionst</li>\n",
    "<li>dual_sim: Has dual sim support or not</li>\n",
    "<li>fc: Front Camera mega pixels</li>\n",
    "<li>four_g: Has 4G or not</li>\n",
    "<li>int_memory: Internal Memory in Gigabytes</li>\n",
    "<li>m_dep: Mobile Depth in cm</li>\n",
    "<li>mobile_wt: Weight of mobile phone</li>\n",
    "<li>n_cores: Number of cores of processor</li>\n",
    "<li>pc: Primary Camera mega pixels</li>\n",
    "<li>px_height: Pixel Resolution Height</li>\n",
    "<li>px_width: Pixel Resolution Width</li>\n",
    "<li>ram: Random Access Memory in Megabytes</li>\n",
    "<li>sc_h: Screen Height of mobile in cm</li>\n",
    "<li>sc_w: Screen Width of mobile in cm</li>\n",
    "<li>talk_time: longest time that a single battery charge will last when you are</li>\n",
    "<li>three_g: Has 3G or not</li>\n",
    "<li>touch_screen: Has touch screen or not</li>\n",
    "<li>wifi: Has wifi or not</li>\n",
    "<li>price_range: This is the target variable with value of 0(low cost), 1(medium cost), 2(high cost) and 3(very high cost).</li>\n"
   ]
  },
  {
   "cell_type": "markdown",
   "id": "7620f5ea",
   "metadata": {},
   "source": [
    "#### Imports"
   ]
  },
  {
   "cell_type": "code",
   "execution_count": 1,
   "id": "81cca90d",
   "metadata": {},
   "outputs": [],
   "source": [
    "import numpy as np\n",
    "import pandas as pd\n",
    "from IPython.display import display\n",
    "import matplotlib.pyplot as plt\n",
    "import seaborn as sns\n",
    "sns.set(rc={'figure.figsize':[7,8]},font_scale=1.2)\n",
    "sns.set_theme(palette='rocket')\n",
    "from datasist.structdata import detect_outliers\n",
    "\n",
    "# stats models\n",
    "import phik\n",
    "from phik.report import plot_correlation_matrix\n",
    "\n",
    "# Machine learning\n",
    "from sklearn.model_selection import train_test_split, cross_val_score,cross_val_predict\n",
    "from sklearn.preprocessing import StandardScaler\n",
    "\n",
    "import statsmodels.api as sm\n",
    "from statsmodels.iolib.summary2 import summary_col\n",
    "\n",
    "from sklearn.model_selection import RandomizedSearchCV, GridSearchCV\n",
    "from sklearn.linear_model import SGDClassifier\n",
    "from sklearn.linear_model import LogisticRegression\n",
    "from sklearn.ensemble import RandomForestClassifier , GradientBoostingClassifier, AdaBoostClassifier\n",
    "from sklearn.tree import DecisionTreeClassifier\n",
    "from sklearn.neighbors import KNeighborsClassifier\n",
    "from sklearn.svm import SVC\n",
    "from xgboost import XGBRFClassifier, XGBClassifier\n",
    "from sklearn.multiclass import OneVsOneClassifier\n",
    "from sklearn.metrics import accuracy_score,classification_report,confusion_matrix,recall_score,precision_score,f1_score,fbeta_score\n",
    "from sklearn.metrics import ConfusionMatrixDisplay,PrecisionRecallDisplay,RocCurveDisplay\n",
    "import statistics\n",
    "from mlxtend.plotting import plot_confusion_matrix\n",
    "\n",
    "from sklearn.feature_selection import RFE, SelectFromModel\n",
    "from sklearn.decomposition import PCA\n",
    "import joblib\n",
    "# import warnings\n",
    "# warnings.filterwarnings('ignore')"
   ]
  },
  {
   "cell_type": "markdown",
   "id": "0d214ea2",
   "metadata": {},
   "source": [
    "<a id='wrang'></a>\n",
    "## Data Wrangling\n",
    "Data Wranglling contains some processes which we will follow it\n",
    "<ul>\n",
    "<li><a href='#disc'>Data Discovery</a></li>\n",
    "<li><a href='#clean'>Data Cleaning</a></li>\n",
    "<li><a href='#enrich'>Data Enriching</a></li>\n",
    "<li><a href='#valid'>Data Validating</a></li>\n",
    "<li><a href='#publi'>Data Publishing</a></li>\n",
    "    </ul>"
   ]
  },
  {
   "cell_type": "markdown",
   "id": "78a76959",
   "metadata": {},
   "source": [
    "\n",
    "<a id='clean'></a>Data Cleaning\n",
    "<a id='enrich'></a>Data Enriching\n",
    "<a id='valid'></a>Data Validating\n",
    "<a id='publi'></a>Data Publishing"
   ]
  },
  {
   "cell_type": "markdown",
   "id": "7dbf355f",
   "metadata": {},
   "source": [
    "<a id='disc'></a><li>Data Discovery</li>\n",
    "* Loading dataset and explore the data"
   ]
  },
  {
   "cell_type": "code",
   "execution_count": 2,
   "id": "c3e7c111",
   "metadata": {},
   "outputs": [],
   "source": [
    "train = '../Datasets/train.csv'"
   ]
  },
  {
   "cell_type": "code",
   "execution_count": 3,
   "id": "54af20e7",
   "metadata": {},
   "outputs": [],
   "source": [
    "def load_csv(fpath):\n",
    "    '''load csv file\n",
    "        Args:\n",
    "            fpath(str): str, path object or file-like object.\n",
    "            A local file could be: file://localhost/path/to/table.csv.            \n",
    "        Return: DataFrame\n",
    "    '''\n",
    "    try:\n",
    "        df = pd.read_csv(fpath)\n",
    "        df.name = fpath.split('/')[-1].split('.')[0]\n",
    "        print(f'{df.name} dataset loaded successfuly')\n",
    "        return df\n",
    "    except FileNotFoundError:\n",
    "        print(f'ERROR: No such file or directory:{fpath}')"
   ]
  },
  {
   "cell_type": "code",
   "execution_count": 4,
   "id": "0d41cc77",
   "metadata": {},
   "outputs": [
    {
     "name": "stdout",
     "output_type": "stream",
     "text": [
      "train dataset loaded successfuly\n"
     ]
    }
   ],
   "source": [
    "df = load_csv(train)"
   ]
  },
  {
   "cell_type": "code",
   "execution_count": 5,
   "id": "6a1329d1",
   "metadata": {},
   "outputs": [],
   "source": [
    "def explore_data(df,num_rows=5):\n",
    "    pd.set_option('display.max_columns',df.shape[1])\n",
    "    try:\n",
    "        df_name = df.name\n",
    "    except:\n",
    "        df_name = 'new_df'\n",
    "    finally:\n",
    "        print(f'{df_name} contains {df.shape[0]} rows & {df.shape[1]} columns')\n",
    "        print(f'Top {num_rows} rows:')\n",
    "        display(df.head(num_rows))\n",
    "        print(f'Last {num_rows} rows:')\n",
    "        display(df.tail(num_rows))"
   ]
  },
  {
   "cell_type": "code",
   "execution_count": 6,
   "id": "de3c0a20",
   "metadata": {},
   "outputs": [
    {
     "name": "stdout",
     "output_type": "stream",
     "text": [
      "train contains 2000 rows & 21 columns\n",
      "Top 5 rows:\n"
     ]
    },
    {
     "data": {
      "text/html": [
       "<div>\n",
       "<style scoped>\n",
       "    .dataframe tbody tr th:only-of-type {\n",
       "        vertical-align: middle;\n",
       "    }\n",
       "\n",
       "    .dataframe tbody tr th {\n",
       "        vertical-align: top;\n",
       "    }\n",
       "\n",
       "    .dataframe thead th {\n",
       "        text-align: right;\n",
       "    }\n",
       "</style>\n",
       "<table border=\"1\" class=\"dataframe\">\n",
       "  <thead>\n",
       "    <tr style=\"text-align: right;\">\n",
       "      <th></th>\n",
       "      <th>battery_power</th>\n",
       "      <th>blue</th>\n",
       "      <th>clock_speed</th>\n",
       "      <th>dual_sim</th>\n",
       "      <th>fc</th>\n",
       "      <th>four_g</th>\n",
       "      <th>int_memory</th>\n",
       "      <th>m_dep</th>\n",
       "      <th>mobile_wt</th>\n",
       "      <th>n_cores</th>\n",
       "      <th>pc</th>\n",
       "      <th>px_height</th>\n",
       "      <th>px_width</th>\n",
       "      <th>ram</th>\n",
       "      <th>sc_h</th>\n",
       "      <th>sc_w</th>\n",
       "      <th>talk_time</th>\n",
       "      <th>three_g</th>\n",
       "      <th>touch_screen</th>\n",
       "      <th>wifi</th>\n",
       "      <th>price_range</th>\n",
       "    </tr>\n",
       "  </thead>\n",
       "  <tbody>\n",
       "    <tr>\n",
       "      <th>0</th>\n",
       "      <td>842</td>\n",
       "      <td>0</td>\n",
       "      <td>2.2</td>\n",
       "      <td>0</td>\n",
       "      <td>1</td>\n",
       "      <td>0</td>\n",
       "      <td>7</td>\n",
       "      <td>0.6</td>\n",
       "      <td>188</td>\n",
       "      <td>2</td>\n",
       "      <td>2</td>\n",
       "      <td>20</td>\n",
       "      <td>756</td>\n",
       "      <td>2549</td>\n",
       "      <td>9</td>\n",
       "      <td>7</td>\n",
       "      <td>19</td>\n",
       "      <td>0</td>\n",
       "      <td>0</td>\n",
       "      <td>1</td>\n",
       "      <td>1</td>\n",
       "    </tr>\n",
       "    <tr>\n",
       "      <th>1</th>\n",
       "      <td>1021</td>\n",
       "      <td>1</td>\n",
       "      <td>0.5</td>\n",
       "      <td>1</td>\n",
       "      <td>0</td>\n",
       "      <td>1</td>\n",
       "      <td>53</td>\n",
       "      <td>0.7</td>\n",
       "      <td>136</td>\n",
       "      <td>3</td>\n",
       "      <td>6</td>\n",
       "      <td>905</td>\n",
       "      <td>1988</td>\n",
       "      <td>2631</td>\n",
       "      <td>17</td>\n",
       "      <td>3</td>\n",
       "      <td>7</td>\n",
       "      <td>1</td>\n",
       "      <td>1</td>\n",
       "      <td>0</td>\n",
       "      <td>2</td>\n",
       "    </tr>\n",
       "    <tr>\n",
       "      <th>2</th>\n",
       "      <td>563</td>\n",
       "      <td>1</td>\n",
       "      <td>0.5</td>\n",
       "      <td>1</td>\n",
       "      <td>2</td>\n",
       "      <td>1</td>\n",
       "      <td>41</td>\n",
       "      <td>0.9</td>\n",
       "      <td>145</td>\n",
       "      <td>5</td>\n",
       "      <td>6</td>\n",
       "      <td>1263</td>\n",
       "      <td>1716</td>\n",
       "      <td>2603</td>\n",
       "      <td>11</td>\n",
       "      <td>2</td>\n",
       "      <td>9</td>\n",
       "      <td>1</td>\n",
       "      <td>1</td>\n",
       "      <td>0</td>\n",
       "      <td>2</td>\n",
       "    </tr>\n",
       "    <tr>\n",
       "      <th>3</th>\n",
       "      <td>615</td>\n",
       "      <td>1</td>\n",
       "      <td>2.5</td>\n",
       "      <td>0</td>\n",
       "      <td>0</td>\n",
       "      <td>0</td>\n",
       "      <td>10</td>\n",
       "      <td>0.8</td>\n",
       "      <td>131</td>\n",
       "      <td>6</td>\n",
       "      <td>9</td>\n",
       "      <td>1216</td>\n",
       "      <td>1786</td>\n",
       "      <td>2769</td>\n",
       "      <td>16</td>\n",
       "      <td>8</td>\n",
       "      <td>11</td>\n",
       "      <td>1</td>\n",
       "      <td>0</td>\n",
       "      <td>0</td>\n",
       "      <td>2</td>\n",
       "    </tr>\n",
       "    <tr>\n",
       "      <th>4</th>\n",
       "      <td>1821</td>\n",
       "      <td>1</td>\n",
       "      <td>1.2</td>\n",
       "      <td>0</td>\n",
       "      <td>13</td>\n",
       "      <td>1</td>\n",
       "      <td>44</td>\n",
       "      <td>0.6</td>\n",
       "      <td>141</td>\n",
       "      <td>2</td>\n",
       "      <td>14</td>\n",
       "      <td>1208</td>\n",
       "      <td>1212</td>\n",
       "      <td>1411</td>\n",
       "      <td>8</td>\n",
       "      <td>2</td>\n",
       "      <td>15</td>\n",
       "      <td>1</td>\n",
       "      <td>1</td>\n",
       "      <td>0</td>\n",
       "      <td>1</td>\n",
       "    </tr>\n",
       "  </tbody>\n",
       "</table>\n",
       "</div>"
      ],
      "text/plain": [
       "   battery_power  blue  clock_speed  dual_sim  fc  four_g  int_memory  m_dep  \\\n",
       "0            842     0          2.2         0   1       0           7    0.6   \n",
       "1           1021     1          0.5         1   0       1          53    0.7   \n",
       "2            563     1          0.5         1   2       1          41    0.9   \n",
       "3            615     1          2.5         0   0       0          10    0.8   \n",
       "4           1821     1          1.2         0  13       1          44    0.6   \n",
       "\n",
       "   mobile_wt  n_cores  pc  px_height  px_width   ram  sc_h  sc_w  talk_time  \\\n",
       "0        188        2   2         20       756  2549     9     7         19   \n",
       "1        136        3   6        905      1988  2631    17     3          7   \n",
       "2        145        5   6       1263      1716  2603    11     2          9   \n",
       "3        131        6   9       1216      1786  2769    16     8         11   \n",
       "4        141        2  14       1208      1212  1411     8     2         15   \n",
       "\n",
       "   three_g  touch_screen  wifi  price_range  \n",
       "0        0             0     1            1  \n",
       "1        1             1     0            2  \n",
       "2        1             1     0            2  \n",
       "3        1             0     0            2  \n",
       "4        1             1     0            1  "
      ]
     },
     "metadata": {},
     "output_type": "display_data"
    },
    {
     "name": "stdout",
     "output_type": "stream",
     "text": [
      "Last 5 rows:\n"
     ]
    },
    {
     "data": {
      "text/html": [
       "<div>\n",
       "<style scoped>\n",
       "    .dataframe tbody tr th:only-of-type {\n",
       "        vertical-align: middle;\n",
       "    }\n",
       "\n",
       "    .dataframe tbody tr th {\n",
       "        vertical-align: top;\n",
       "    }\n",
       "\n",
       "    .dataframe thead th {\n",
       "        text-align: right;\n",
       "    }\n",
       "</style>\n",
       "<table border=\"1\" class=\"dataframe\">\n",
       "  <thead>\n",
       "    <tr style=\"text-align: right;\">\n",
       "      <th></th>\n",
       "      <th>battery_power</th>\n",
       "      <th>blue</th>\n",
       "      <th>clock_speed</th>\n",
       "      <th>dual_sim</th>\n",
       "      <th>fc</th>\n",
       "      <th>four_g</th>\n",
       "      <th>int_memory</th>\n",
       "      <th>m_dep</th>\n",
       "      <th>mobile_wt</th>\n",
       "      <th>n_cores</th>\n",
       "      <th>pc</th>\n",
       "      <th>px_height</th>\n",
       "      <th>px_width</th>\n",
       "      <th>ram</th>\n",
       "      <th>sc_h</th>\n",
       "      <th>sc_w</th>\n",
       "      <th>talk_time</th>\n",
       "      <th>three_g</th>\n",
       "      <th>touch_screen</th>\n",
       "      <th>wifi</th>\n",
       "      <th>price_range</th>\n",
       "    </tr>\n",
       "  </thead>\n",
       "  <tbody>\n",
       "    <tr>\n",
       "      <th>1995</th>\n",
       "      <td>794</td>\n",
       "      <td>1</td>\n",
       "      <td>0.5</td>\n",
       "      <td>1</td>\n",
       "      <td>0</td>\n",
       "      <td>1</td>\n",
       "      <td>2</td>\n",
       "      <td>0.8</td>\n",
       "      <td>106</td>\n",
       "      <td>6</td>\n",
       "      <td>14</td>\n",
       "      <td>1222</td>\n",
       "      <td>1890</td>\n",
       "      <td>668</td>\n",
       "      <td>13</td>\n",
       "      <td>4</td>\n",
       "      <td>19</td>\n",
       "      <td>1</td>\n",
       "      <td>1</td>\n",
       "      <td>0</td>\n",
       "      <td>0</td>\n",
       "    </tr>\n",
       "    <tr>\n",
       "      <th>1996</th>\n",
       "      <td>1965</td>\n",
       "      <td>1</td>\n",
       "      <td>2.6</td>\n",
       "      <td>1</td>\n",
       "      <td>0</td>\n",
       "      <td>0</td>\n",
       "      <td>39</td>\n",
       "      <td>0.2</td>\n",
       "      <td>187</td>\n",
       "      <td>4</td>\n",
       "      <td>3</td>\n",
       "      <td>915</td>\n",
       "      <td>1965</td>\n",
       "      <td>2032</td>\n",
       "      <td>11</td>\n",
       "      <td>10</td>\n",
       "      <td>16</td>\n",
       "      <td>1</td>\n",
       "      <td>1</td>\n",
       "      <td>1</td>\n",
       "      <td>2</td>\n",
       "    </tr>\n",
       "    <tr>\n",
       "      <th>1997</th>\n",
       "      <td>1911</td>\n",
       "      <td>0</td>\n",
       "      <td>0.9</td>\n",
       "      <td>1</td>\n",
       "      <td>1</td>\n",
       "      <td>1</td>\n",
       "      <td>36</td>\n",
       "      <td>0.7</td>\n",
       "      <td>108</td>\n",
       "      <td>8</td>\n",
       "      <td>3</td>\n",
       "      <td>868</td>\n",
       "      <td>1632</td>\n",
       "      <td>3057</td>\n",
       "      <td>9</td>\n",
       "      <td>1</td>\n",
       "      <td>5</td>\n",
       "      <td>1</td>\n",
       "      <td>1</td>\n",
       "      <td>0</td>\n",
       "      <td>3</td>\n",
       "    </tr>\n",
       "    <tr>\n",
       "      <th>1998</th>\n",
       "      <td>1512</td>\n",
       "      <td>0</td>\n",
       "      <td>0.9</td>\n",
       "      <td>0</td>\n",
       "      <td>4</td>\n",
       "      <td>1</td>\n",
       "      <td>46</td>\n",
       "      <td>0.1</td>\n",
       "      <td>145</td>\n",
       "      <td>5</td>\n",
       "      <td>5</td>\n",
       "      <td>336</td>\n",
       "      <td>670</td>\n",
       "      <td>869</td>\n",
       "      <td>18</td>\n",
       "      <td>10</td>\n",
       "      <td>19</td>\n",
       "      <td>1</td>\n",
       "      <td>1</td>\n",
       "      <td>1</td>\n",
       "      <td>0</td>\n",
       "    </tr>\n",
       "    <tr>\n",
       "      <th>1999</th>\n",
       "      <td>510</td>\n",
       "      <td>1</td>\n",
       "      <td>2.0</td>\n",
       "      <td>1</td>\n",
       "      <td>5</td>\n",
       "      <td>1</td>\n",
       "      <td>45</td>\n",
       "      <td>0.9</td>\n",
       "      <td>168</td>\n",
       "      <td>6</td>\n",
       "      <td>16</td>\n",
       "      <td>483</td>\n",
       "      <td>754</td>\n",
       "      <td>3919</td>\n",
       "      <td>19</td>\n",
       "      <td>4</td>\n",
       "      <td>2</td>\n",
       "      <td>1</td>\n",
       "      <td>1</td>\n",
       "      <td>1</td>\n",
       "      <td>3</td>\n",
       "    </tr>\n",
       "  </tbody>\n",
       "</table>\n",
       "</div>"
      ],
      "text/plain": [
       "      battery_power  blue  clock_speed  dual_sim  fc  four_g  int_memory  \\\n",
       "1995            794     1          0.5         1   0       1           2   \n",
       "1996           1965     1          2.6         1   0       0          39   \n",
       "1997           1911     0          0.9         1   1       1          36   \n",
       "1998           1512     0          0.9         0   4       1          46   \n",
       "1999            510     1          2.0         1   5       1          45   \n",
       "\n",
       "      m_dep  mobile_wt  n_cores  pc  px_height  px_width   ram  sc_h  sc_w  \\\n",
       "1995    0.8        106        6  14       1222      1890   668    13     4   \n",
       "1996    0.2        187        4   3        915      1965  2032    11    10   \n",
       "1997    0.7        108        8   3        868      1632  3057     9     1   \n",
       "1998    0.1        145        5   5        336       670   869    18    10   \n",
       "1999    0.9        168        6  16        483       754  3919    19     4   \n",
       "\n",
       "      talk_time  three_g  touch_screen  wifi  price_range  \n",
       "1995         19        1             1     0            0  \n",
       "1996         16        1             1     1            2  \n",
       "1997          5        1             1     0            3  \n",
       "1998         19        1             1     1            0  \n",
       "1999          2        1             1     1            3  "
      ]
     },
     "metadata": {},
     "output_type": "display_data"
    }
   ],
   "source": [
    "explore_data(df,num_rows=5)"
   ]
  },
  {
   "cell_type": "markdown",
   "id": "897b3b30",
   "metadata": {},
   "source": [
    "* check missing values & Data types"
   ]
  },
  {
   "cell_type": "code",
   "execution_count": 7,
   "id": "a0499b01",
   "metadata": {},
   "outputs": [],
   "source": [
    "df.name = 'mobile_dataset'"
   ]
  },
  {
   "cell_type": "code",
   "execution_count": 8,
   "id": "0aa62b03",
   "metadata": {},
   "outputs": [],
   "source": [
    "def check_data(df):\n",
    "    try:\n",
    "        name = df.name\n",
    "    except:\n",
    "        name =\"new_df\"\n",
    "    finally:\n",
    "        dt_df = pd.DataFrame()\n",
    "        dt_df['features'] = df.columns\n",
    "        dt_df['first_val'] = pd.Series([df[col][0] for col in df.columns])\n",
    "        dt_df['nunique'] = pd.Series([df[col].nunique() for col in df.columns])\n",
    "        dt_df.set_index('features',inplace=True)\n",
    "        dt_df['dtype'] = df.dtypes\n",
    "        dt_df['cnt_missing'] = df.isna().sum()\n",
    "        dt_df['missing_%'] = df.isna().sum() / df.shape[0]*100\n",
    "        print(f'{name} datatypes & missing values information')\n",
    "        display(dt_df)"
   ]
  },
  {
   "cell_type": "code",
   "execution_count": 9,
   "id": "f69826ef",
   "metadata": {},
   "outputs": [
    {
     "name": "stdout",
     "output_type": "stream",
     "text": [
      "mobile_dataset datatypes & missing values information\n"
     ]
    },
    {
     "data": {
      "text/html": [
       "<div>\n",
       "<style scoped>\n",
       "    .dataframe tbody tr th:only-of-type {\n",
       "        vertical-align: middle;\n",
       "    }\n",
       "\n",
       "    .dataframe tbody tr th {\n",
       "        vertical-align: top;\n",
       "    }\n",
       "\n",
       "    .dataframe thead th {\n",
       "        text-align: right;\n",
       "    }\n",
       "</style>\n",
       "<table border=\"1\" class=\"dataframe\">\n",
       "  <thead>\n",
       "    <tr style=\"text-align: right;\">\n",
       "      <th></th>\n",
       "      <th>first_val</th>\n",
       "      <th>nunique</th>\n",
       "      <th>dtype</th>\n",
       "      <th>cnt_missing</th>\n",
       "      <th>missing_%</th>\n",
       "    </tr>\n",
       "    <tr>\n",
       "      <th>features</th>\n",
       "      <th></th>\n",
       "      <th></th>\n",
       "      <th></th>\n",
       "      <th></th>\n",
       "      <th></th>\n",
       "    </tr>\n",
       "  </thead>\n",
       "  <tbody>\n",
       "    <tr>\n",
       "      <th>battery_power</th>\n",
       "      <td>842.0</td>\n",
       "      <td>1094</td>\n",
       "      <td>int64</td>\n",
       "      <td>0</td>\n",
       "      <td>0.0</td>\n",
       "    </tr>\n",
       "    <tr>\n",
       "      <th>blue</th>\n",
       "      <td>0.0</td>\n",
       "      <td>2</td>\n",
       "      <td>int64</td>\n",
       "      <td>0</td>\n",
       "      <td>0.0</td>\n",
       "    </tr>\n",
       "    <tr>\n",
       "      <th>clock_speed</th>\n",
       "      <td>2.2</td>\n",
       "      <td>26</td>\n",
       "      <td>float64</td>\n",
       "      <td>0</td>\n",
       "      <td>0.0</td>\n",
       "    </tr>\n",
       "    <tr>\n",
       "      <th>dual_sim</th>\n",
       "      <td>0.0</td>\n",
       "      <td>2</td>\n",
       "      <td>int64</td>\n",
       "      <td>0</td>\n",
       "      <td>0.0</td>\n",
       "    </tr>\n",
       "    <tr>\n",
       "      <th>fc</th>\n",
       "      <td>1.0</td>\n",
       "      <td>20</td>\n",
       "      <td>int64</td>\n",
       "      <td>0</td>\n",
       "      <td>0.0</td>\n",
       "    </tr>\n",
       "    <tr>\n",
       "      <th>four_g</th>\n",
       "      <td>0.0</td>\n",
       "      <td>2</td>\n",
       "      <td>int64</td>\n",
       "      <td>0</td>\n",
       "      <td>0.0</td>\n",
       "    </tr>\n",
       "    <tr>\n",
       "      <th>int_memory</th>\n",
       "      <td>7.0</td>\n",
       "      <td>63</td>\n",
       "      <td>int64</td>\n",
       "      <td>0</td>\n",
       "      <td>0.0</td>\n",
       "    </tr>\n",
       "    <tr>\n",
       "      <th>m_dep</th>\n",
       "      <td>0.6</td>\n",
       "      <td>10</td>\n",
       "      <td>float64</td>\n",
       "      <td>0</td>\n",
       "      <td>0.0</td>\n",
       "    </tr>\n",
       "    <tr>\n",
       "      <th>mobile_wt</th>\n",
       "      <td>188.0</td>\n",
       "      <td>121</td>\n",
       "      <td>int64</td>\n",
       "      <td>0</td>\n",
       "      <td>0.0</td>\n",
       "    </tr>\n",
       "    <tr>\n",
       "      <th>n_cores</th>\n",
       "      <td>2.0</td>\n",
       "      <td>8</td>\n",
       "      <td>int64</td>\n",
       "      <td>0</td>\n",
       "      <td>0.0</td>\n",
       "    </tr>\n",
       "    <tr>\n",
       "      <th>pc</th>\n",
       "      <td>2.0</td>\n",
       "      <td>21</td>\n",
       "      <td>int64</td>\n",
       "      <td>0</td>\n",
       "      <td>0.0</td>\n",
       "    </tr>\n",
       "    <tr>\n",
       "      <th>px_height</th>\n",
       "      <td>20.0</td>\n",
       "      <td>1137</td>\n",
       "      <td>int64</td>\n",
       "      <td>0</td>\n",
       "      <td>0.0</td>\n",
       "    </tr>\n",
       "    <tr>\n",
       "      <th>px_width</th>\n",
       "      <td>756.0</td>\n",
       "      <td>1109</td>\n",
       "      <td>int64</td>\n",
       "      <td>0</td>\n",
       "      <td>0.0</td>\n",
       "    </tr>\n",
       "    <tr>\n",
       "      <th>ram</th>\n",
       "      <td>2549.0</td>\n",
       "      <td>1562</td>\n",
       "      <td>int64</td>\n",
       "      <td>0</td>\n",
       "      <td>0.0</td>\n",
       "    </tr>\n",
       "    <tr>\n",
       "      <th>sc_h</th>\n",
       "      <td>9.0</td>\n",
       "      <td>15</td>\n",
       "      <td>int64</td>\n",
       "      <td>0</td>\n",
       "      <td>0.0</td>\n",
       "    </tr>\n",
       "    <tr>\n",
       "      <th>sc_w</th>\n",
       "      <td>7.0</td>\n",
       "      <td>19</td>\n",
       "      <td>int64</td>\n",
       "      <td>0</td>\n",
       "      <td>0.0</td>\n",
       "    </tr>\n",
       "    <tr>\n",
       "      <th>talk_time</th>\n",
       "      <td>19.0</td>\n",
       "      <td>19</td>\n",
       "      <td>int64</td>\n",
       "      <td>0</td>\n",
       "      <td>0.0</td>\n",
       "    </tr>\n",
       "    <tr>\n",
       "      <th>three_g</th>\n",
       "      <td>0.0</td>\n",
       "      <td>2</td>\n",
       "      <td>int64</td>\n",
       "      <td>0</td>\n",
       "      <td>0.0</td>\n",
       "    </tr>\n",
       "    <tr>\n",
       "      <th>touch_screen</th>\n",
       "      <td>0.0</td>\n",
       "      <td>2</td>\n",
       "      <td>int64</td>\n",
       "      <td>0</td>\n",
       "      <td>0.0</td>\n",
       "    </tr>\n",
       "    <tr>\n",
       "      <th>wifi</th>\n",
       "      <td>1.0</td>\n",
       "      <td>2</td>\n",
       "      <td>int64</td>\n",
       "      <td>0</td>\n",
       "      <td>0.0</td>\n",
       "    </tr>\n",
       "    <tr>\n",
       "      <th>price_range</th>\n",
       "      <td>1.0</td>\n",
       "      <td>4</td>\n",
       "      <td>int64</td>\n",
       "      <td>0</td>\n",
       "      <td>0.0</td>\n",
       "    </tr>\n",
       "  </tbody>\n",
       "</table>\n",
       "</div>"
      ],
      "text/plain": [
       "               first_val  nunique    dtype  cnt_missing  missing_%\n",
       "features                                                          \n",
       "battery_power      842.0     1094    int64            0        0.0\n",
       "blue                 0.0        2    int64            0        0.0\n",
       "clock_speed          2.2       26  float64            0        0.0\n",
       "dual_sim             0.0        2    int64            0        0.0\n",
       "fc                   1.0       20    int64            0        0.0\n",
       "four_g               0.0        2    int64            0        0.0\n",
       "int_memory           7.0       63    int64            0        0.0\n",
       "m_dep                0.6       10  float64            0        0.0\n",
       "mobile_wt          188.0      121    int64            0        0.0\n",
       "n_cores              2.0        8    int64            0        0.0\n",
       "pc                   2.0       21    int64            0        0.0\n",
       "px_height           20.0     1137    int64            0        0.0\n",
       "px_width           756.0     1109    int64            0        0.0\n",
       "ram               2549.0     1562    int64            0        0.0\n",
       "sc_h                 9.0       15    int64            0        0.0\n",
       "sc_w                 7.0       19    int64            0        0.0\n",
       "talk_time           19.0       19    int64            0        0.0\n",
       "three_g              0.0        2    int64            0        0.0\n",
       "touch_screen         0.0        2    int64            0        0.0\n",
       "wifi                 1.0        2    int64            0        0.0\n",
       "price_range          1.0        4    int64            0        0.0"
      ]
     },
     "metadata": {},
     "output_type": "display_data"
    }
   ],
   "source": [
    "check_data(df)"
   ]
  },
  {
   "cell_type": "markdown",
   "id": "f418126c",
   "metadata": {},
   "source": [
    "* check duplicated values"
   ]
  },
  {
   "cell_type": "code",
   "execution_count": 10,
   "id": "0ed612d4",
   "metadata": {},
   "outputs": [],
   "source": [
    "def check_data(df):\n",
    "    try:\n",
    "        name = df.name\n",
    "    except:\n",
    "        name =\"new_df\"\n",
    "    finally:\n",
    "        print(f'{name} has {df.duplicated().sum()} duplicated values')\n",
    "        if df.duplicated().sum() >0:\n",
    "            print(f'Keep Last occurance:')\n",
    "            display(df[df.duplicated()])\n",
    "            print(f'Keep First occurance:')\n",
    "            display(df[df.duplicated()])"
   ]
  },
  {
   "cell_type": "code",
   "execution_count": 11,
   "id": "72bdf927",
   "metadata": {},
   "outputs": [
    {
     "name": "stdout",
     "output_type": "stream",
     "text": [
      "mobile_dataset has 0 duplicated values\n"
     ]
    }
   ],
   "source": [
    "check_data(df)"
   ]
  },
  {
   "cell_type": "markdown",
   "id": "6c362d23",
   "metadata": {},
   "source": [
    "* Describtive statistics\n",
    "    * Quantitative describtive statistics"
   ]
  },
  {
   "cell_type": "code",
   "execution_count": 12,
   "id": "6fb294f3",
   "metadata": {},
   "outputs": [
    {
     "data": {
      "text/plain": [
       "dtype('int64')"
      ]
     },
     "execution_count": 12,
     "metadata": {},
     "output_type": "execute_result"
    }
   ],
   "source": [
    "df['wifi'].dtypes"
   ]
  },
  {
   "cell_type": "code",
   "execution_count": 13,
   "id": "abb5b528",
   "metadata": {},
   "outputs": [],
   "source": [
    "def quantitative_describtive_stats(df):\n",
    "    try:\n",
    "        name = df.name\n",
    "    except:\n",
    "        name =\"new_df\"\n",
    "    finally:\n",
    "        stats_df = df.describe()\n",
    "        stats_df.loc['range'] = stats_df.loc['max']-stats_df.loc['min']\n",
    "        stats_df.loc['iqr'] = stats_df.loc['75%']-stats_df.loc['25%']\n",
    "        stats_df.loc['min_whisker'] = stats_df.loc['25%'] - 1.5* stats_df.loc['iqr']\n",
    "        stats_df.loc['max_whisker'] = stats_df.loc['75%'] + 1.5* stats_df.loc['iqr']\n",
    "        display(f'{name} datset Describitive statistics for quantitative variables',stats_df)\n",
    "        cont_var=[]\n",
    "        for col in df.select_dtypes(include=['number']).columns:\n",
    "            if df[col].nunique() >4:\n",
    "                cont_var.append(col)\n",
    "        fig,axs = plt.subplots(4,4,figsize=(30,15))\n",
    "        fig.subplots_adjust(hspace=0.5, wspace=0.2)\n",
    "        axs = axs.ravel()\n",
    "        for i,col in enumerate(df[cont_var].columns):\n",
    "            sns.boxplot(data=df[cont_var],x=col,ax=axs[i])"
   ]
  },
  {
   "cell_type": "code",
   "execution_count": 14,
   "id": "774caa69",
   "metadata": {},
   "outputs": [
    {
     "data": {
      "text/plain": [
       "'mobile_dataset datset Describitive statistics for quantitative variables'"
      ]
     },
     "metadata": {},
     "output_type": "display_data"
    },
    {
     "data": {
      "text/html": [
       "<div>\n",
       "<style scoped>\n",
       "    .dataframe tbody tr th:only-of-type {\n",
       "        vertical-align: middle;\n",
       "    }\n",
       "\n",
       "    .dataframe tbody tr th {\n",
       "        vertical-align: top;\n",
       "    }\n",
       "\n",
       "    .dataframe thead th {\n",
       "        text-align: right;\n",
       "    }\n",
       "</style>\n",
       "<table border=\"1\" class=\"dataframe\">\n",
       "  <thead>\n",
       "    <tr style=\"text-align: right;\">\n",
       "      <th></th>\n",
       "      <th>battery_power</th>\n",
       "      <th>blue</th>\n",
       "      <th>clock_speed</th>\n",
       "      <th>dual_sim</th>\n",
       "      <th>fc</th>\n",
       "      <th>four_g</th>\n",
       "      <th>int_memory</th>\n",
       "      <th>m_dep</th>\n",
       "      <th>mobile_wt</th>\n",
       "      <th>n_cores</th>\n",
       "      <th>pc</th>\n",
       "      <th>px_height</th>\n",
       "      <th>px_width</th>\n",
       "      <th>ram</th>\n",
       "      <th>sc_h</th>\n",
       "      <th>sc_w</th>\n",
       "      <th>talk_time</th>\n",
       "      <th>three_g</th>\n",
       "      <th>touch_screen</th>\n",
       "      <th>wifi</th>\n",
       "      <th>price_range</th>\n",
       "    </tr>\n",
       "  </thead>\n",
       "  <tbody>\n",
       "    <tr>\n",
       "      <th>count</th>\n",
       "      <td>2000.000000</td>\n",
       "      <td>2000.0000</td>\n",
       "      <td>2000.000000</td>\n",
       "      <td>2000.000000</td>\n",
       "      <td>2000.000000</td>\n",
       "      <td>2000.000000</td>\n",
       "      <td>2000.000000</td>\n",
       "      <td>2000.000000</td>\n",
       "      <td>2000.000000</td>\n",
       "      <td>2000.000000</td>\n",
       "      <td>2000.000000</td>\n",
       "      <td>2000.000000</td>\n",
       "      <td>2000.000000</td>\n",
       "      <td>2000.000000</td>\n",
       "      <td>2000.000000</td>\n",
       "      <td>2000.000000</td>\n",
       "      <td>2000.000000</td>\n",
       "      <td>2000.000000</td>\n",
       "      <td>2000.000000</td>\n",
       "      <td>2000.000000</td>\n",
       "      <td>2000.000000</td>\n",
       "    </tr>\n",
       "    <tr>\n",
       "      <th>mean</th>\n",
       "      <td>1238.518500</td>\n",
       "      <td>0.4950</td>\n",
       "      <td>1.522250</td>\n",
       "      <td>0.509500</td>\n",
       "      <td>4.309500</td>\n",
       "      <td>0.521500</td>\n",
       "      <td>32.046500</td>\n",
       "      <td>0.501750</td>\n",
       "      <td>140.249000</td>\n",
       "      <td>4.520500</td>\n",
       "      <td>9.916500</td>\n",
       "      <td>645.108000</td>\n",
       "      <td>1251.515500</td>\n",
       "      <td>2124.213000</td>\n",
       "      <td>12.306500</td>\n",
       "      <td>5.767000</td>\n",
       "      <td>11.011000</td>\n",
       "      <td>0.761500</td>\n",
       "      <td>0.503000</td>\n",
       "      <td>0.507000</td>\n",
       "      <td>1.500000</td>\n",
       "    </tr>\n",
       "    <tr>\n",
       "      <th>std</th>\n",
       "      <td>439.418206</td>\n",
       "      <td>0.5001</td>\n",
       "      <td>0.816004</td>\n",
       "      <td>0.500035</td>\n",
       "      <td>4.341444</td>\n",
       "      <td>0.499662</td>\n",
       "      <td>18.145715</td>\n",
       "      <td>0.288416</td>\n",
       "      <td>35.399655</td>\n",
       "      <td>2.287837</td>\n",
       "      <td>6.064315</td>\n",
       "      <td>443.780811</td>\n",
       "      <td>432.199447</td>\n",
       "      <td>1084.732044</td>\n",
       "      <td>4.213245</td>\n",
       "      <td>4.356398</td>\n",
       "      <td>5.463955</td>\n",
       "      <td>0.426273</td>\n",
       "      <td>0.500116</td>\n",
       "      <td>0.500076</td>\n",
       "      <td>1.118314</td>\n",
       "    </tr>\n",
       "    <tr>\n",
       "      <th>min</th>\n",
       "      <td>501.000000</td>\n",
       "      <td>0.0000</td>\n",
       "      <td>0.500000</td>\n",
       "      <td>0.000000</td>\n",
       "      <td>0.000000</td>\n",
       "      <td>0.000000</td>\n",
       "      <td>2.000000</td>\n",
       "      <td>0.100000</td>\n",
       "      <td>80.000000</td>\n",
       "      <td>1.000000</td>\n",
       "      <td>0.000000</td>\n",
       "      <td>0.000000</td>\n",
       "      <td>500.000000</td>\n",
       "      <td>256.000000</td>\n",
       "      <td>5.000000</td>\n",
       "      <td>0.000000</td>\n",
       "      <td>2.000000</td>\n",
       "      <td>0.000000</td>\n",
       "      <td>0.000000</td>\n",
       "      <td>0.000000</td>\n",
       "      <td>0.000000</td>\n",
       "    </tr>\n",
       "    <tr>\n",
       "      <th>25%</th>\n",
       "      <td>851.750000</td>\n",
       "      <td>0.0000</td>\n",
       "      <td>0.700000</td>\n",
       "      <td>0.000000</td>\n",
       "      <td>1.000000</td>\n",
       "      <td>0.000000</td>\n",
       "      <td>16.000000</td>\n",
       "      <td>0.200000</td>\n",
       "      <td>109.000000</td>\n",
       "      <td>3.000000</td>\n",
       "      <td>5.000000</td>\n",
       "      <td>282.750000</td>\n",
       "      <td>874.750000</td>\n",
       "      <td>1207.500000</td>\n",
       "      <td>9.000000</td>\n",
       "      <td>2.000000</td>\n",
       "      <td>6.000000</td>\n",
       "      <td>1.000000</td>\n",
       "      <td>0.000000</td>\n",
       "      <td>0.000000</td>\n",
       "      <td>0.750000</td>\n",
       "    </tr>\n",
       "    <tr>\n",
       "      <th>50%</th>\n",
       "      <td>1226.000000</td>\n",
       "      <td>0.0000</td>\n",
       "      <td>1.500000</td>\n",
       "      <td>1.000000</td>\n",
       "      <td>3.000000</td>\n",
       "      <td>1.000000</td>\n",
       "      <td>32.000000</td>\n",
       "      <td>0.500000</td>\n",
       "      <td>141.000000</td>\n",
       "      <td>4.000000</td>\n",
       "      <td>10.000000</td>\n",
       "      <td>564.000000</td>\n",
       "      <td>1247.000000</td>\n",
       "      <td>2146.500000</td>\n",
       "      <td>12.000000</td>\n",
       "      <td>5.000000</td>\n",
       "      <td>11.000000</td>\n",
       "      <td>1.000000</td>\n",
       "      <td>1.000000</td>\n",
       "      <td>1.000000</td>\n",
       "      <td>1.500000</td>\n",
       "    </tr>\n",
       "    <tr>\n",
       "      <th>75%</th>\n",
       "      <td>1615.250000</td>\n",
       "      <td>1.0000</td>\n",
       "      <td>2.200000</td>\n",
       "      <td>1.000000</td>\n",
       "      <td>7.000000</td>\n",
       "      <td>1.000000</td>\n",
       "      <td>48.000000</td>\n",
       "      <td>0.800000</td>\n",
       "      <td>170.000000</td>\n",
       "      <td>7.000000</td>\n",
       "      <td>15.000000</td>\n",
       "      <td>947.250000</td>\n",
       "      <td>1633.000000</td>\n",
       "      <td>3064.500000</td>\n",
       "      <td>16.000000</td>\n",
       "      <td>9.000000</td>\n",
       "      <td>16.000000</td>\n",
       "      <td>1.000000</td>\n",
       "      <td>1.000000</td>\n",
       "      <td>1.000000</td>\n",
       "      <td>2.250000</td>\n",
       "    </tr>\n",
       "    <tr>\n",
       "      <th>max</th>\n",
       "      <td>1998.000000</td>\n",
       "      <td>1.0000</td>\n",
       "      <td>3.000000</td>\n",
       "      <td>1.000000</td>\n",
       "      <td>19.000000</td>\n",
       "      <td>1.000000</td>\n",
       "      <td>64.000000</td>\n",
       "      <td>1.000000</td>\n",
       "      <td>200.000000</td>\n",
       "      <td>8.000000</td>\n",
       "      <td>20.000000</td>\n",
       "      <td>1960.000000</td>\n",
       "      <td>1998.000000</td>\n",
       "      <td>3998.000000</td>\n",
       "      <td>19.000000</td>\n",
       "      <td>18.000000</td>\n",
       "      <td>20.000000</td>\n",
       "      <td>1.000000</td>\n",
       "      <td>1.000000</td>\n",
       "      <td>1.000000</td>\n",
       "      <td>3.000000</td>\n",
       "    </tr>\n",
       "    <tr>\n",
       "      <th>range</th>\n",
       "      <td>1497.000000</td>\n",
       "      <td>1.0000</td>\n",
       "      <td>2.500000</td>\n",
       "      <td>1.000000</td>\n",
       "      <td>19.000000</td>\n",
       "      <td>1.000000</td>\n",
       "      <td>62.000000</td>\n",
       "      <td>0.900000</td>\n",
       "      <td>120.000000</td>\n",
       "      <td>7.000000</td>\n",
       "      <td>20.000000</td>\n",
       "      <td>1960.000000</td>\n",
       "      <td>1498.000000</td>\n",
       "      <td>3742.000000</td>\n",
       "      <td>14.000000</td>\n",
       "      <td>18.000000</td>\n",
       "      <td>18.000000</td>\n",
       "      <td>1.000000</td>\n",
       "      <td>1.000000</td>\n",
       "      <td>1.000000</td>\n",
       "      <td>3.000000</td>\n",
       "    </tr>\n",
       "    <tr>\n",
       "      <th>iqr</th>\n",
       "      <td>763.500000</td>\n",
       "      <td>1.0000</td>\n",
       "      <td>1.500000</td>\n",
       "      <td>1.000000</td>\n",
       "      <td>6.000000</td>\n",
       "      <td>1.000000</td>\n",
       "      <td>32.000000</td>\n",
       "      <td>0.600000</td>\n",
       "      <td>61.000000</td>\n",
       "      <td>4.000000</td>\n",
       "      <td>10.000000</td>\n",
       "      <td>664.500000</td>\n",
       "      <td>758.250000</td>\n",
       "      <td>1857.000000</td>\n",
       "      <td>7.000000</td>\n",
       "      <td>7.000000</td>\n",
       "      <td>10.000000</td>\n",
       "      <td>0.000000</td>\n",
       "      <td>1.000000</td>\n",
       "      <td>1.000000</td>\n",
       "      <td>1.500000</td>\n",
       "    </tr>\n",
       "    <tr>\n",
       "      <th>min_whisker</th>\n",
       "      <td>-293.500000</td>\n",
       "      <td>-1.5000</td>\n",
       "      <td>-1.550000</td>\n",
       "      <td>-1.500000</td>\n",
       "      <td>-8.000000</td>\n",
       "      <td>-1.500000</td>\n",
       "      <td>-32.000000</td>\n",
       "      <td>-0.700000</td>\n",
       "      <td>17.500000</td>\n",
       "      <td>-3.000000</td>\n",
       "      <td>-10.000000</td>\n",
       "      <td>-714.000000</td>\n",
       "      <td>-262.625000</td>\n",
       "      <td>-1578.000000</td>\n",
       "      <td>-1.500000</td>\n",
       "      <td>-8.500000</td>\n",
       "      <td>-9.000000</td>\n",
       "      <td>1.000000</td>\n",
       "      <td>-1.500000</td>\n",
       "      <td>-1.500000</td>\n",
       "      <td>-1.500000</td>\n",
       "    </tr>\n",
       "    <tr>\n",
       "      <th>max_whisker</th>\n",
       "      <td>2760.500000</td>\n",
       "      <td>2.5000</td>\n",
       "      <td>4.450000</td>\n",
       "      <td>2.500000</td>\n",
       "      <td>16.000000</td>\n",
       "      <td>2.500000</td>\n",
       "      <td>96.000000</td>\n",
       "      <td>1.700000</td>\n",
       "      <td>261.500000</td>\n",
       "      <td>13.000000</td>\n",
       "      <td>30.000000</td>\n",
       "      <td>1944.000000</td>\n",
       "      <td>2770.375000</td>\n",
       "      <td>5850.000000</td>\n",
       "      <td>26.500000</td>\n",
       "      <td>19.500000</td>\n",
       "      <td>31.000000</td>\n",
       "      <td>1.000000</td>\n",
       "      <td>2.500000</td>\n",
       "      <td>2.500000</td>\n",
       "      <td>4.500000</td>\n",
       "    </tr>\n",
       "  </tbody>\n",
       "</table>\n",
       "</div>"
      ],
      "text/plain": [
       "             battery_power       blue  clock_speed     dual_sim           fc  \\\n",
       "count          2000.000000  2000.0000  2000.000000  2000.000000  2000.000000   \n",
       "mean           1238.518500     0.4950     1.522250     0.509500     4.309500   \n",
       "std             439.418206     0.5001     0.816004     0.500035     4.341444   \n",
       "min             501.000000     0.0000     0.500000     0.000000     0.000000   \n",
       "25%             851.750000     0.0000     0.700000     0.000000     1.000000   \n",
       "50%            1226.000000     0.0000     1.500000     1.000000     3.000000   \n",
       "75%            1615.250000     1.0000     2.200000     1.000000     7.000000   \n",
       "max            1998.000000     1.0000     3.000000     1.000000    19.000000   \n",
       "range          1497.000000     1.0000     2.500000     1.000000    19.000000   \n",
       "iqr             763.500000     1.0000     1.500000     1.000000     6.000000   \n",
       "min_whisker    -293.500000    -1.5000    -1.550000    -1.500000    -8.000000   \n",
       "max_whisker    2760.500000     2.5000     4.450000     2.500000    16.000000   \n",
       "\n",
       "                  four_g   int_memory        m_dep    mobile_wt      n_cores  \\\n",
       "count        2000.000000  2000.000000  2000.000000  2000.000000  2000.000000   \n",
       "mean            0.521500    32.046500     0.501750   140.249000     4.520500   \n",
       "std             0.499662    18.145715     0.288416    35.399655     2.287837   \n",
       "min             0.000000     2.000000     0.100000    80.000000     1.000000   \n",
       "25%             0.000000    16.000000     0.200000   109.000000     3.000000   \n",
       "50%             1.000000    32.000000     0.500000   141.000000     4.000000   \n",
       "75%             1.000000    48.000000     0.800000   170.000000     7.000000   \n",
       "max             1.000000    64.000000     1.000000   200.000000     8.000000   \n",
       "range           1.000000    62.000000     0.900000   120.000000     7.000000   \n",
       "iqr             1.000000    32.000000     0.600000    61.000000     4.000000   \n",
       "min_whisker    -1.500000   -32.000000    -0.700000    17.500000    -3.000000   \n",
       "max_whisker     2.500000    96.000000     1.700000   261.500000    13.000000   \n",
       "\n",
       "                      pc    px_height     px_width          ram         sc_h  \\\n",
       "count        2000.000000  2000.000000  2000.000000  2000.000000  2000.000000   \n",
       "mean            9.916500   645.108000  1251.515500  2124.213000    12.306500   \n",
       "std             6.064315   443.780811   432.199447  1084.732044     4.213245   \n",
       "min             0.000000     0.000000   500.000000   256.000000     5.000000   \n",
       "25%             5.000000   282.750000   874.750000  1207.500000     9.000000   \n",
       "50%            10.000000   564.000000  1247.000000  2146.500000    12.000000   \n",
       "75%            15.000000   947.250000  1633.000000  3064.500000    16.000000   \n",
       "max            20.000000  1960.000000  1998.000000  3998.000000    19.000000   \n",
       "range          20.000000  1960.000000  1498.000000  3742.000000    14.000000   \n",
       "iqr            10.000000   664.500000   758.250000  1857.000000     7.000000   \n",
       "min_whisker   -10.000000  -714.000000  -262.625000 -1578.000000    -1.500000   \n",
       "max_whisker    30.000000  1944.000000  2770.375000  5850.000000    26.500000   \n",
       "\n",
       "                    sc_w    talk_time      three_g  touch_screen         wifi  \\\n",
       "count        2000.000000  2000.000000  2000.000000   2000.000000  2000.000000   \n",
       "mean            5.767000    11.011000     0.761500      0.503000     0.507000   \n",
       "std             4.356398     5.463955     0.426273      0.500116     0.500076   \n",
       "min             0.000000     2.000000     0.000000      0.000000     0.000000   \n",
       "25%             2.000000     6.000000     1.000000      0.000000     0.000000   \n",
       "50%             5.000000    11.000000     1.000000      1.000000     1.000000   \n",
       "75%             9.000000    16.000000     1.000000      1.000000     1.000000   \n",
       "max            18.000000    20.000000     1.000000      1.000000     1.000000   \n",
       "range          18.000000    18.000000     1.000000      1.000000     1.000000   \n",
       "iqr             7.000000    10.000000     0.000000      1.000000     1.000000   \n",
       "min_whisker    -8.500000    -9.000000     1.000000     -1.500000    -1.500000   \n",
       "max_whisker    19.500000    31.000000     1.000000      2.500000     2.500000   \n",
       "\n",
       "             price_range  \n",
       "count        2000.000000  \n",
       "mean            1.500000  \n",
       "std             1.118314  \n",
       "min             0.000000  \n",
       "25%             0.750000  \n",
       "50%             1.500000  \n",
       "75%             2.250000  \n",
       "max             3.000000  \n",
       "range           3.000000  \n",
       "iqr             1.500000  \n",
       "min_whisker    -1.500000  \n",
       "max_whisker     4.500000  "
      ]
     },
     "metadata": {},
     "output_type": "display_data"
    },
    {
     "data": {
      "image/png": "[encoded data removed]",
      "text/plain": [
       "<Figure size 2160x1080 with 16 Axes>"
      ]
     },
     "metadata": {},
     "output_type": "display_data"
    }
   ],
   "source": [
    "quantitative_describtive_stats(df)"
   ]
  },
  {
   "cell_type": "code",
   "execution_count": 15,
   "id": "db96dad9",
   "metadata": {},
   "outputs": [],
   "source": [
    "def qualitative_describtive_stats(df):\n",
    "    try:\n",
    "        name = df.name\n",
    "    except:\n",
    "        name =\"new_df\"\n",
    "    finally:\n",
    "        print(f'{name} datset Describitive statistics for Qualitative variables')\n",
    "        for col in df.columns:\n",
    "            if df[col].nunique() <=10:\n",
    "                sns.countplot(data=df,x=col)\n",
    "                plt.show()\n",
    "                display(pd.DataFrame(df[col].value_counts()).T)"
   ]
  },
  {
   "cell_type": "code",
   "execution_count": 16,
   "id": "e9e409a1",
   "metadata": {},
   "outputs": [
    {
     "name": "stdout",
     "output_type": "stream",
     "text": [
      "mobile_dataset datset Describitive statistics for Qualitative variables\n"
     ]
    },
    {
     "data": {
      "image/png": "[encoded data removed]",
      "text/plain": [
       "<Figure size 288x216 with 1 Axes>"
      ]
     },
     "metadata": {},
     "output_type": "display_data"
    },
    {
     "data": {
      "text/html": [
       "<div>\n",
       "<style scoped>\n",
       "    .dataframe tbody tr th:only-of-type {\n",
       "        vertical-align: middle;\n",
       "    }\n",
       "\n",
       "    .dataframe tbody tr th {\n",
       "        vertical-align: top;\n",
       "    }\n",
       "\n",
       "    .dataframe thead th {\n",
       "        text-align: right;\n",
       "    }\n",
       "</style>\n",
       "<table border=\"1\" class=\"dataframe\">\n",
       "  <thead>\n",
       "    <tr style=\"text-align: right;\">\n",
       "      <th></th>\n",
       "      <th>0</th>\n",
       "      <th>1</th>\n",
       "    </tr>\n",
       "  </thead>\n",
       "  <tbody>\n",
       "    <tr>\n",
       "      <th>blue</th>\n",
       "      <td>1010</td>\n",
       "      <td>990</td>\n",
       "    </tr>\n",
       "  </tbody>\n",
       "</table>\n",
       "</div>"
      ],
      "text/plain": [
       "         0    1\n",
       "blue  1010  990"
      ]
     },
     "metadata": {},
     "output_type": "display_data"
    },
    {
     "data": {
      "image/png": "[encoded data removed]",
      "text/plain": [
       "<Figure size 288x216 with 1 Axes>"
      ]
     },
     "metadata": {},
     "output_type": "display_data"
    },
    {
     "data": {
      "text/html": [
       "<div>\n",
       "<style scoped>\n",
       "    .dataframe tbody tr th:only-of-type {\n",
       "        vertical-align: middle;\n",
       "    }\n",
       "\n",
       "    .dataframe tbody tr th {\n",
       "        vertical-align: top;\n",
       "    }\n",
       "\n",
       "    .dataframe thead th {\n",
       "        text-align: right;\n",
       "    }\n",
       "</style>\n",
       "<table border=\"1\" class=\"dataframe\">\n",
       "  <thead>\n",
       "    <tr style=\"text-align: right;\">\n",
       "      <th></th>\n",
       "      <th>1</th>\n",
       "      <th>0</th>\n",
       "    </tr>\n",
       "  </thead>\n",
       "  <tbody>\n",
       "    <tr>\n",
       "      <th>dual_sim</th>\n",
       "      <td>1019</td>\n",
       "      <td>981</td>\n",
       "    </tr>\n",
       "  </tbody>\n",
       "</table>\n",
       "</div>"
      ],
      "text/plain": [
       "             1    0\n",
       "dual_sim  1019  981"
      ]
     },
     "metadata": {},
     "output_type": "display_data"
    },
    {
     "data": {
      "image/png": "[encoded data removed]",
      "text/plain": [
       "<Figure size 288x216 with 1 Axes>"
      ]
     },
     "metadata": {},
     "output_type": "display_data"
    },
    {
     "data": {
      "text/html": [
       "<div>\n",
       "<style scoped>\n",
       "    .dataframe tbody tr th:only-of-type {\n",
       "        vertical-align: middle;\n",
       "    }\n",
       "\n",
       "    .dataframe tbody tr th {\n",
       "        vertical-align: top;\n",
       "    }\n",
       "\n",
       "    .dataframe thead th {\n",
       "        text-align: right;\n",
       "    }\n",
       "</style>\n",
       "<table border=\"1\" class=\"dataframe\">\n",
       "  <thead>\n",
       "    <tr style=\"text-align: right;\">\n",
       "      <th></th>\n",
       "      <th>1</th>\n",
       "      <th>0</th>\n",
       "    </tr>\n",
       "  </thead>\n",
       "  <tbody>\n",
       "    <tr>\n",
       "      <th>four_g</th>\n",
       "      <td>1043</td>\n",
       "      <td>957</td>\n",
       "    </tr>\n",
       "  </tbody>\n",
       "</table>\n",
       "</div>"
      ],
      "text/plain": [
       "           1    0\n",
       "four_g  1043  957"
      ]
     },
     "metadata": {},
     "output_type": "display_data"
    },
    {
     "data": {
      "image/png": "[encoded data removed]",
      "text/plain": [
       "<Figure size 288x216 with 1 Axes>"
      ]
     },
     "metadata": {},
     "output_type": "display_data"
    },
    {
     "data": {
      "text/html": [
       "<div>\n",
       "<style scoped>\n",
       "    .dataframe tbody tr th:only-of-type {\n",
       "        vertical-align: middle;\n",
       "    }\n",
       "\n",
       "    .dataframe tbody tr th {\n",
       "        vertical-align: top;\n",
       "    }\n",
       "\n",
       "    .dataframe thead th {\n",
       "        text-align: right;\n",
       "    }\n",
       "</style>\n",
       "<table border=\"1\" class=\"dataframe\">\n",
       "  <thead>\n",
       "    <tr style=\"text-align: right;\">\n",
       "      <th></th>\n",
       "      <th>0.1</th>\n",
       "      <th>0.2</th>\n",
       "      <th>0.8</th>\n",
       "      <th>0.5</th>\n",
       "      <th>0.7</th>\n",
       "      <th>0.3</th>\n",
       "      <th>0.9</th>\n",
       "      <th>0.6</th>\n",
       "      <th>0.4</th>\n",
       "      <th>1.0</th>\n",
       "    </tr>\n",
       "  </thead>\n",
       "  <tbody>\n",
       "    <tr>\n",
       "      <th>m_dep</th>\n",
       "      <td>320</td>\n",
       "      <td>213</td>\n",
       "      <td>208</td>\n",
       "      <td>205</td>\n",
       "      <td>200</td>\n",
       "      <td>199</td>\n",
       "      <td>195</td>\n",
       "      <td>186</td>\n",
       "      <td>168</td>\n",
       "      <td>106</td>\n",
       "    </tr>\n",
       "  </tbody>\n",
       "</table>\n",
       "</div>"
      ],
      "text/plain": [
       "       0.1  0.2  0.8  0.5  0.7  0.3  0.9  0.6  0.4  1.0\n",
       "m_dep  320  213  208  205  200  199  195  186  168  106"
      ]
     },
     "metadata": {},
     "output_type": "display_data"
    },
    {
     "data": {
      "image/png": "[encoded data removed]",
      "text/plain": [
       "<Figure size 288x216 with 1 Axes>"
      ]
     },
     "metadata": {},
     "output_type": "display_data"
    },
    {
     "data": {
      "text/html": [
       "<div>\n",
       "<style scoped>\n",
       "    .dataframe tbody tr th:only-of-type {\n",
       "        vertical-align: middle;\n",
       "    }\n",
       "\n",
       "    .dataframe tbody tr th {\n",
       "        vertical-align: top;\n",
       "    }\n",
       "\n",
       "    .dataframe thead th {\n",
       "        text-align: right;\n",
       "    }\n",
       "</style>\n",
       "<table border=\"1\" class=\"dataframe\">\n",
       "  <thead>\n",
       "    <tr style=\"text-align: right;\">\n",
       "      <th></th>\n",
       "      <th>4</th>\n",
       "      <th>7</th>\n",
       "      <th>8</th>\n",
       "      <th>2</th>\n",
       "      <th>3</th>\n",
       "      <th>5</th>\n",
       "      <th>1</th>\n",
       "      <th>6</th>\n",
       "    </tr>\n",
       "  </thead>\n",
       "  <tbody>\n",
       "    <tr>\n",
       "      <th>n_cores</th>\n",
       "      <td>274</td>\n",
       "      <td>259</td>\n",
       "      <td>256</td>\n",
       "      <td>247</td>\n",
       "      <td>246</td>\n",
       "      <td>246</td>\n",
       "      <td>242</td>\n",
       "      <td>230</td>\n",
       "    </tr>\n",
       "  </tbody>\n",
       "</table>\n",
       "</div>"
      ],
      "text/plain": [
       "           4    7    8    2    3    5    1    6\n",
       "n_cores  274  259  256  247  246  246  242  230"
      ]
     },
     "metadata": {},
     "output_type": "display_data"
    },
    {
     "data": {
      "image/png": "[encoded data removed]",
      "text/plain": [
       "<Figure size 288x216 with 1 Axes>"
      ]
     },
     "metadata": {},
     "output_type": "display_data"
    },
    {
     "data": {
      "text/html": [
       "<div>\n",
       "<style scoped>\n",
       "    .dataframe tbody tr th:only-of-type {\n",
       "        vertical-align: middle;\n",
       "    }\n",
       "\n",
       "    .dataframe tbody tr th {\n",
       "        vertical-align: top;\n",
       "    }\n",
       "\n",
       "    .dataframe thead th {\n",
       "        text-align: right;\n",
       "    }\n",
       "</style>\n",
       "<table border=\"1\" class=\"dataframe\">\n",
       "  <thead>\n",
       "    <tr style=\"text-align: right;\">\n",
       "      <th></th>\n",
       "      <th>1</th>\n",
       "      <th>0</th>\n",
       "    </tr>\n",
       "  </thead>\n",
       "  <tbody>\n",
       "    <tr>\n",
       "      <th>three_g</th>\n",
       "      <td>1523</td>\n",
       "      <td>477</td>\n",
       "    </tr>\n",
       "  </tbody>\n",
       "</table>\n",
       "</div>"
      ],
      "text/plain": [
       "            1    0\n",
       "three_g  1523  477"
      ]
     },
     "metadata": {},
     "output_type": "display_data"
    },
    {
     "data": {
      "image/png": "[encoded data removed]",
      "text/plain": [
       "<Figure size 288x216 with 1 Axes>"
      ]
     },
     "metadata": {},
     "output_type": "display_data"
    },
    {
     "data": {
      "text/html": [
       "<div>\n",
       "<style scoped>\n",
       "    .dataframe tbody tr th:only-of-type {\n",
       "        vertical-align: middle;\n",
       "    }\n",
       "\n",
       "    .dataframe tbody tr th {\n",
       "        vertical-align: top;\n",
       "    }\n",
       "\n",
       "    .dataframe thead th {\n",
       "        text-align: right;\n",
       "    }\n",
       "</style>\n",
       "<table border=\"1\" class=\"dataframe\">\n",
       "  <thead>\n",
       "    <tr style=\"text-align: right;\">\n",
       "      <th></th>\n",
       "      <th>1</th>\n",
       "      <th>0</th>\n",
       "    </tr>\n",
       "  </thead>\n",
       "  <tbody>\n",
       "    <tr>\n",
       "      <th>touch_screen</th>\n",
       "      <td>1006</td>\n",
       "      <td>994</td>\n",
       "    </tr>\n",
       "  </tbody>\n",
       "</table>\n",
       "</div>"
      ],
      "text/plain": [
       "                 1    0\n",
       "touch_screen  1006  994"
      ]
     },
     "metadata": {},
     "output_type": "display_data"
    },
    {
     "data": {
      "image/png": "[encoded data removed]",
      "text/plain": [
       "<Figure size 288x216 with 1 Axes>"
      ]
     },
     "metadata": {},
     "output_type": "display_data"
    },
    {
     "data": {
      "text/html": [
       "<div>\n",
       "<style scoped>\n",
       "    .dataframe tbody tr th:only-of-type {\n",
       "        vertical-align: middle;\n",
       "    }\n",
       "\n",
       "    .dataframe tbody tr th {\n",
       "        vertical-align: top;\n",
       "    }\n",
       "\n",
       "    .dataframe thead th {\n",
       "        text-align: right;\n",
       "    }\n",
       "</style>\n",
       "<table border=\"1\" class=\"dataframe\">\n",
       "  <thead>\n",
       "    <tr style=\"text-align: right;\">\n",
       "      <th></th>\n",
       "      <th>1</th>\n",
       "      <th>0</th>\n",
       "    </tr>\n",
       "  </thead>\n",
       "  <tbody>\n",
       "    <tr>\n",
       "      <th>wifi</th>\n",
       "      <td>1014</td>\n",
       "      <td>986</td>\n",
       "    </tr>\n",
       "  </tbody>\n",
       "</table>\n",
       "</div>"
      ],
      "text/plain": [
       "         1    0\n",
       "wifi  1014  986"
      ]
     },
     "metadata": {},
     "output_type": "display_data"
    },
    {
     "data": {
      "image/png": "[encoded data removed]",
      "text/plain": [
       "<Figure size 288x216 with 1 Axes>"
      ]
     },
     "metadata": {},
     "output_type": "display_data"
    },
    {
     "data": {
      "text/html": [
       "<div>\n",
       "<style scoped>\n",
       "    .dataframe tbody tr th:only-of-type {\n",
       "        vertical-align: middle;\n",
       "    }\n",
       "\n",
       "    .dataframe tbody tr th {\n",
       "        vertical-align: top;\n",
       "    }\n",
       "\n",
       "    .dataframe thead th {\n",
       "        text-align: right;\n",
       "    }\n",
       "</style>\n",
       "<table border=\"1\" class=\"dataframe\">\n",
       "  <thead>\n",
       "    <tr style=\"text-align: right;\">\n",
       "      <th></th>\n",
       "      <th>1</th>\n",
       "      <th>2</th>\n",
       "      <th>3</th>\n",
       "      <th>0</th>\n",
       "    </tr>\n",
       "  </thead>\n",
       "  <tbody>\n",
       "    <tr>\n",
       "      <th>price_range</th>\n",
       "      <td>500</td>\n",
       "      <td>500</td>\n",
       "      <td>500</td>\n",
       "      <td>500</td>\n",
       "    </tr>\n",
       "  </tbody>\n",
       "</table>\n",
       "</div>"
      ],
      "text/plain": [
       "               1    2    3    0\n",
       "price_range  500  500  500  500"
      ]
     },
     "metadata": {},
     "output_type": "display_data"
    }
   ],
   "source": [
    "sns.set(rc={'figure.figsize':[4,3]},font_scale=1.2)\n",
    "qualitative_describtive_stats(df)"
   ]
  },
  {
   "cell_type": "markdown",
   "id": "5d7bb5e3",
   "metadata": {},
   "source": [
    "<li><a id='clean'></a>Data Cleaning</li>\n",
    "from above we find that:\n",
    "<ol>\n",
    "    <li>Data has no missing values.</li>\n",
    "    <li>Data has valid data types.</li>\n",
    "    <li>Data has no duplicates.</li>\n",
    "    <li>Only fc & px_height have outliers will check them.</li>\n",
    "    </ol>"
   ]
  },
  {
   "cell_type": "code",
   "execution_count": 17,
   "id": "c3fc67bb",
   "metadata": {},
   "outputs": [
    {
     "data": {
      "text/html": [
       "<div>\n",
       "<style scoped>\n",
       "    .dataframe tbody tr th:only-of-type {\n",
       "        vertical-align: middle;\n",
       "    }\n",
       "\n",
       "    .dataframe tbody tr th {\n",
       "        vertical-align: top;\n",
       "    }\n",
       "\n",
       "    .dataframe thead th {\n",
       "        text-align: right;\n",
       "    }\n",
       "</style>\n",
       "<table border=\"1\" class=\"dataframe\">\n",
       "  <thead>\n",
       "    <tr style=\"text-align: right;\">\n",
       "      <th></th>\n",
       "      <th>battery_power</th>\n",
       "      <th>blue</th>\n",
       "      <th>clock_speed</th>\n",
       "      <th>dual_sim</th>\n",
       "      <th>fc</th>\n",
       "      <th>four_g</th>\n",
       "      <th>int_memory</th>\n",
       "      <th>m_dep</th>\n",
       "      <th>mobile_wt</th>\n",
       "      <th>n_cores</th>\n",
       "      <th>pc</th>\n",
       "      <th>px_height</th>\n",
       "      <th>px_width</th>\n",
       "      <th>ram</th>\n",
       "      <th>sc_h</th>\n",
       "      <th>sc_w</th>\n",
       "      <th>talk_time</th>\n",
       "      <th>three_g</th>\n",
       "      <th>touch_screen</th>\n",
       "      <th>wifi</th>\n",
       "      <th>price_range</th>\n",
       "    </tr>\n",
       "  </thead>\n",
       "  <tbody>\n",
       "    <tr>\n",
       "      <th>95</th>\n",
       "      <td>1137</td>\n",
       "      <td>1</td>\n",
       "      <td>1.0</td>\n",
       "      <td>0</td>\n",
       "      <td>18</td>\n",
       "      <td>0</td>\n",
       "      <td>7</td>\n",
       "      <td>1.0</td>\n",
       "      <td>196</td>\n",
       "      <td>3</td>\n",
       "      <td>19</td>\n",
       "      <td>942</td>\n",
       "      <td>1179</td>\n",
       "      <td>3616</td>\n",
       "      <td>13</td>\n",
       "      <td>5</td>\n",
       "      <td>12</td>\n",
       "      <td>1</td>\n",
       "      <td>1</td>\n",
       "      <td>1</td>\n",
       "      <td>3</td>\n",
       "    </tr>\n",
       "    <tr>\n",
       "      <th>169</th>\n",
       "      <td>1569</td>\n",
       "      <td>0</td>\n",
       "      <td>2.8</td>\n",
       "      <td>1</td>\n",
       "      <td>17</td>\n",
       "      <td>0</td>\n",
       "      <td>44</td>\n",
       "      <td>0.3</td>\n",
       "      <td>110</td>\n",
       "      <td>4</td>\n",
       "      <td>20</td>\n",
       "      <td>45</td>\n",
       "      <td>1942</td>\n",
       "      <td>1260</td>\n",
       "      <td>9</td>\n",
       "      <td>2</td>\n",
       "      <td>17</td>\n",
       "      <td>1</td>\n",
       "      <td>0</td>\n",
       "      <td>0</td>\n",
       "      <td>1</td>\n",
       "    </tr>\n",
       "    <tr>\n",
       "      <th>226</th>\n",
       "      <td>1708</td>\n",
       "      <td>1</td>\n",
       "      <td>2.4</td>\n",
       "      <td>1</td>\n",
       "      <td>18</td>\n",
       "      <td>1</td>\n",
       "      <td>49</td>\n",
       "      <td>0.1</td>\n",
       "      <td>109</td>\n",
       "      <td>1</td>\n",
       "      <td>19</td>\n",
       "      <td>233</td>\n",
       "      <td>517</td>\n",
       "      <td>3388</td>\n",
       "      <td>6</td>\n",
       "      <td>4</td>\n",
       "      <td>16</td>\n",
       "      <td>1</td>\n",
       "      <td>1</td>\n",
       "      <td>1</td>\n",
       "      <td>3</td>\n",
       "    </tr>\n",
       "    <tr>\n",
       "      <th>229</th>\n",
       "      <td>1689</td>\n",
       "      <td>0</td>\n",
       "      <td>1.8</td>\n",
       "      <td>0</td>\n",
       "      <td>17</td>\n",
       "      <td>0</td>\n",
       "      <td>24</td>\n",
       "      <td>0.3</td>\n",
       "      <td>127</td>\n",
       "      <td>3</td>\n",
       "      <td>18</td>\n",
       "      <td>954</td>\n",
       "      <td>1200</td>\n",
       "      <td>2766</td>\n",
       "      <td>7</td>\n",
       "      <td>2</td>\n",
       "      <td>7</td>\n",
       "      <td>0</td>\n",
       "      <td>1</td>\n",
       "      <td>1</td>\n",
       "      <td>3</td>\n",
       "    </tr>\n",
       "    <tr>\n",
       "      <th>300</th>\n",
       "      <td>1937</td>\n",
       "      <td>1</td>\n",
       "      <td>1.7</td>\n",
       "      <td>0</td>\n",
       "      <td>17</td>\n",
       "      <td>0</td>\n",
       "      <td>58</td>\n",
       "      <td>0.6</td>\n",
       "      <td>189</td>\n",
       "      <td>1</td>\n",
       "      <td>19</td>\n",
       "      <td>1728</td>\n",
       "      <td>1767</td>\n",
       "      <td>3321</td>\n",
       "      <td>5</td>\n",
       "      <td>4</td>\n",
       "      <td>14</td>\n",
       "      <td>1</td>\n",
       "      <td>1</td>\n",
       "      <td>0</td>\n",
       "      <td>3</td>\n",
       "    </tr>\n",
       "    <tr>\n",
       "      <th>305</th>\n",
       "      <td>1348</td>\n",
       "      <td>0</td>\n",
       "      <td>2.0</td>\n",
       "      <td>0</td>\n",
       "      <td>18</td>\n",
       "      <td>0</td>\n",
       "      <td>52</td>\n",
       "      <td>0.3</td>\n",
       "      <td>98</td>\n",
       "      <td>3</td>\n",
       "      <td>20</td>\n",
       "      <td>1869</td>\n",
       "      <td>1942</td>\n",
       "      <td>955</td>\n",
       "      <td>18</td>\n",
       "      <td>11</td>\n",
       "      <td>7</td>\n",
       "      <td>1</td>\n",
       "      <td>1</td>\n",
       "      <td>1</td>\n",
       "      <td>1</td>\n",
       "    </tr>\n",
       "    <tr>\n",
       "      <th>372</th>\n",
       "      <td>1703</td>\n",
       "      <td>1</td>\n",
       "      <td>1.5</td>\n",
       "      <td>1</td>\n",
       "      <td>17</td>\n",
       "      <td>1</td>\n",
       "      <td>55</td>\n",
       "      <td>0.7</td>\n",
       "      <td>138</td>\n",
       "      <td>5</td>\n",
       "      <td>19</td>\n",
       "      <td>1411</td>\n",
       "      <td>1711</td>\n",
       "      <td>2993</td>\n",
       "      <td>5</td>\n",
       "      <td>1</td>\n",
       "      <td>20</td>\n",
       "      <td>1</td>\n",
       "      <td>1</td>\n",
       "      <td>1</td>\n",
       "      <td>3</td>\n",
       "    </tr>\n",
       "    <tr>\n",
       "      <th>584</th>\n",
       "      <td>946</td>\n",
       "      <td>1</td>\n",
       "      <td>2.6</td>\n",
       "      <td>1</td>\n",
       "      <td>17</td>\n",
       "      <td>0</td>\n",
       "      <td>5</td>\n",
       "      <td>0.1</td>\n",
       "      <td>166</td>\n",
       "      <td>3</td>\n",
       "      <td>20</td>\n",
       "      <td>1698</td>\n",
       "      <td>1771</td>\n",
       "      <td>3720</td>\n",
       "      <td>15</td>\n",
       "      <td>7</td>\n",
       "      <td>4</td>\n",
       "      <td>0</td>\n",
       "      <td>1</td>\n",
       "      <td>0</td>\n",
       "      <td>3</td>\n",
       "    </tr>\n",
       "    <tr>\n",
       "      <th>1387</th>\n",
       "      <td>1533</td>\n",
       "      <td>1</td>\n",
       "      <td>1.1</td>\n",
       "      <td>1</td>\n",
       "      <td>18</td>\n",
       "      <td>1</td>\n",
       "      <td>17</td>\n",
       "      <td>0.3</td>\n",
       "      <td>160</td>\n",
       "      <td>4</td>\n",
       "      <td>20</td>\n",
       "      <td>1054</td>\n",
       "      <td>1393</td>\n",
       "      <td>2520</td>\n",
       "      <td>8</td>\n",
       "      <td>2</td>\n",
       "      <td>11</td>\n",
       "      <td>1</td>\n",
       "      <td>0</td>\n",
       "      <td>1</td>\n",
       "      <td>2</td>\n",
       "    </tr>\n",
       "    <tr>\n",
       "      <th>1406</th>\n",
       "      <td>1731</td>\n",
       "      <td>1</td>\n",
       "      <td>2.3</td>\n",
       "      <td>1</td>\n",
       "      <td>18</td>\n",
       "      <td>0</td>\n",
       "      <td>60</td>\n",
       "      <td>0.5</td>\n",
       "      <td>171</td>\n",
       "      <td>4</td>\n",
       "      <td>20</td>\n",
       "      <td>142</td>\n",
       "      <td>1039</td>\n",
       "      <td>1220</td>\n",
       "      <td>9</td>\n",
       "      <td>3</td>\n",
       "      <td>20</td>\n",
       "      <td>0</td>\n",
       "      <td>1</td>\n",
       "      <td>0</td>\n",
       "      <td>1</td>\n",
       "    </tr>\n",
       "    <tr>\n",
       "      <th>1416</th>\n",
       "      <td>1448</td>\n",
       "      <td>0</td>\n",
       "      <td>0.5</td>\n",
       "      <td>1</td>\n",
       "      <td>18</td>\n",
       "      <td>0</td>\n",
       "      <td>2</td>\n",
       "      <td>0.2</td>\n",
       "      <td>100</td>\n",
       "      <td>5</td>\n",
       "      <td>19</td>\n",
       "      <td>846</td>\n",
       "      <td>1144</td>\n",
       "      <td>593</td>\n",
       "      <td>9</td>\n",
       "      <td>4</td>\n",
       "      <td>18</td>\n",
       "      <td>1</td>\n",
       "      <td>1</td>\n",
       "      <td>1</td>\n",
       "      <td>0</td>\n",
       "    </tr>\n",
       "    <tr>\n",
       "      <th>1549</th>\n",
       "      <td>1772</td>\n",
       "      <td>1</td>\n",
       "      <td>1.6</td>\n",
       "      <td>0</td>\n",
       "      <td>17</td>\n",
       "      <td>1</td>\n",
       "      <td>45</td>\n",
       "      <td>0.5</td>\n",
       "      <td>159</td>\n",
       "      <td>2</td>\n",
       "      <td>18</td>\n",
       "      <td>837</td>\n",
       "      <td>1405</td>\n",
       "      <td>1146</td>\n",
       "      <td>6</td>\n",
       "      <td>1</td>\n",
       "      <td>17</td>\n",
       "      <td>1</td>\n",
       "      <td>1</td>\n",
       "      <td>0</td>\n",
       "      <td>1</td>\n",
       "    </tr>\n",
       "    <tr>\n",
       "      <th>1554</th>\n",
       "      <td>1957</td>\n",
       "      <td>0</td>\n",
       "      <td>1.2</td>\n",
       "      <td>1</td>\n",
       "      <td>18</td>\n",
       "      <td>1</td>\n",
       "      <td>36</td>\n",
       "      <td>0.8</td>\n",
       "      <td>151</td>\n",
       "      <td>2</td>\n",
       "      <td>19</td>\n",
       "      <td>1194</td>\n",
       "      <td>1727</td>\n",
       "      <td>1115</td>\n",
       "      <td>16</td>\n",
       "      <td>2</td>\n",
       "      <td>18</td>\n",
       "      <td>1</td>\n",
       "      <td>0</td>\n",
       "      <td>1</td>\n",
       "      <td>1</td>\n",
       "    </tr>\n",
       "    <tr>\n",
       "      <th>1693</th>\n",
       "      <td>695</td>\n",
       "      <td>0</td>\n",
       "      <td>0.5</td>\n",
       "      <td>0</td>\n",
       "      <td>18</td>\n",
       "      <td>1</td>\n",
       "      <td>12</td>\n",
       "      <td>0.6</td>\n",
       "      <td>196</td>\n",
       "      <td>2</td>\n",
       "      <td>19</td>\n",
       "      <td>1649</td>\n",
       "      <td>1829</td>\n",
       "      <td>2855</td>\n",
       "      <td>16</td>\n",
       "      <td>13</td>\n",
       "      <td>7</td>\n",
       "      <td>1</td>\n",
       "      <td>1</td>\n",
       "      <td>1</td>\n",
       "      <td>2</td>\n",
       "    </tr>\n",
       "    <tr>\n",
       "      <th>1705</th>\n",
       "      <td>1290</td>\n",
       "      <td>1</td>\n",
       "      <td>1.4</td>\n",
       "      <td>1</td>\n",
       "      <td>19</td>\n",
       "      <td>1</td>\n",
       "      <td>35</td>\n",
       "      <td>0.3</td>\n",
       "      <td>110</td>\n",
       "      <td>4</td>\n",
       "      <td>20</td>\n",
       "      <td>405</td>\n",
       "      <td>742</td>\n",
       "      <td>879</td>\n",
       "      <td>16</td>\n",
       "      <td>2</td>\n",
       "      <td>8</td>\n",
       "      <td>1</td>\n",
       "      <td>0</td>\n",
       "      <td>0</td>\n",
       "      <td>0</td>\n",
       "    </tr>\n",
       "    <tr>\n",
       "      <th>1880</th>\n",
       "      <td>1720</td>\n",
       "      <td>0</td>\n",
       "      <td>1.6</td>\n",
       "      <td>0</td>\n",
       "      <td>18</td>\n",
       "      <td>1</td>\n",
       "      <td>2</td>\n",
       "      <td>0.8</td>\n",
       "      <td>188</td>\n",
       "      <td>5</td>\n",
       "      <td>20</td>\n",
       "      <td>334</td>\n",
       "      <td>896</td>\n",
       "      <td>2522</td>\n",
       "      <td>10</td>\n",
       "      <td>5</td>\n",
       "      <td>2</td>\n",
       "      <td>1</td>\n",
       "      <td>0</td>\n",
       "      <td>1</td>\n",
       "      <td>2</td>\n",
       "    </tr>\n",
       "    <tr>\n",
       "      <th>1882</th>\n",
       "      <td>591</td>\n",
       "      <td>0</td>\n",
       "      <td>2.1</td>\n",
       "      <td>1</td>\n",
       "      <td>18</td>\n",
       "      <td>1</td>\n",
       "      <td>16</td>\n",
       "      <td>0.5</td>\n",
       "      <td>196</td>\n",
       "      <td>7</td>\n",
       "      <td>20</td>\n",
       "      <td>952</td>\n",
       "      <td>1726</td>\n",
       "      <td>704</td>\n",
       "      <td>14</td>\n",
       "      <td>5</td>\n",
       "      <td>4</td>\n",
       "      <td>1</td>\n",
       "      <td>1</td>\n",
       "      <td>1</td>\n",
       "      <td>0</td>\n",
       "    </tr>\n",
       "    <tr>\n",
       "      <th>1888</th>\n",
       "      <td>1544</td>\n",
       "      <td>0</td>\n",
       "      <td>2.4</td>\n",
       "      <td>0</td>\n",
       "      <td>18</td>\n",
       "      <td>1</td>\n",
       "      <td>12</td>\n",
       "      <td>0.1</td>\n",
       "      <td>186</td>\n",
       "      <td>7</td>\n",
       "      <td>20</td>\n",
       "      <td>470</td>\n",
       "      <td>844</td>\n",
       "      <td>489</td>\n",
       "      <td>9</td>\n",
       "      <td>4</td>\n",
       "      <td>2</td>\n",
       "      <td>1</td>\n",
       "      <td>0</td>\n",
       "      <td>1</td>\n",
       "      <td>0</td>\n",
       "    </tr>\n",
       "    <tr>\n",
       "      <th>988</th>\n",
       "      <td>1413</td>\n",
       "      <td>1</td>\n",
       "      <td>0.5</td>\n",
       "      <td>1</td>\n",
       "      <td>4</td>\n",
       "      <td>1</td>\n",
       "      <td>45</td>\n",
       "      <td>0.4</td>\n",
       "      <td>104</td>\n",
       "      <td>5</td>\n",
       "      <td>6</td>\n",
       "      <td>1949</td>\n",
       "      <td>1994</td>\n",
       "      <td>2973</td>\n",
       "      <td>17</td>\n",
       "      <td>8</td>\n",
       "      <td>15</td>\n",
       "      <td>1</td>\n",
       "      <td>0</td>\n",
       "      <td>1</td>\n",
       "      <td>3</td>\n",
       "    </tr>\n",
       "    <tr>\n",
       "      <th>1771</th>\n",
       "      <td>1230</td>\n",
       "      <td>1</td>\n",
       "      <td>1.6</td>\n",
       "      <td>0</td>\n",
       "      <td>0</td>\n",
       "      <td>1</td>\n",
       "      <td>48</td>\n",
       "      <td>0.7</td>\n",
       "      <td>111</td>\n",
       "      <td>7</td>\n",
       "      <td>2</td>\n",
       "      <td>1960</td>\n",
       "      <td>1963</td>\n",
       "      <td>1622</td>\n",
       "      <td>18</td>\n",
       "      <td>17</td>\n",
       "      <td>16</td>\n",
       "      <td>1</td>\n",
       "      <td>1</td>\n",
       "      <td>1</td>\n",
       "      <td>2</td>\n",
       "    </tr>\n",
       "  </tbody>\n",
       "</table>\n",
       "</div>"
      ],
      "text/plain": [
       "      battery_power  blue  clock_speed  dual_sim  fc  four_g  int_memory  \\\n",
       "95             1137     1          1.0         0  18       0           7   \n",
       "169            1569     0          2.8         1  17       0          44   \n",
       "226            1708     1          2.4         1  18       1          49   \n",
       "229            1689     0          1.8         0  17       0          24   \n",
       "300            1937     1          1.7         0  17       0          58   \n",
       "305            1348     0          2.0         0  18       0          52   \n",
       "372            1703     1          1.5         1  17       1          55   \n",
       "584             946     1          2.6         1  17       0           5   \n",
       "1387           1533     1          1.1         1  18       1          17   \n",
       "1406           1731     1          2.3         1  18       0          60   \n",
       "1416           1448     0          0.5         1  18       0           2   \n",
       "1549           1772     1          1.6         0  17       1          45   \n",
       "1554           1957     0          1.2         1  18       1          36   \n",
       "1693            695     0          0.5         0  18       1          12   \n",
       "1705           1290     1          1.4         1  19       1          35   \n",
       "1880           1720     0          1.6         0  18       1           2   \n",
       "1882            591     0          2.1         1  18       1          16   \n",
       "1888           1544     0          2.4         0  18       1          12   \n",
       "988            1413     1          0.5         1   4       1          45   \n",
       "1771           1230     1          1.6         0   0       1          48   \n",
       "\n",
       "      m_dep  mobile_wt  n_cores  pc  px_height  px_width   ram  sc_h  sc_w  \\\n",
       "95      1.0        196        3  19        942      1179  3616    13     5   \n",
       "169     0.3        110        4  20         45      1942  1260     9     2   \n",
       "226     0.1        109        1  19        233       517  3388     6     4   \n",
       "229     0.3        127        3  18        954      1200  2766     7     2   \n",
       "300     0.6        189        1  19       1728      1767  3321     5     4   \n",
       "305     0.3         98        3  20       1869      1942   955    18    11   \n",
       "372     0.7        138        5  19       1411      1711  2993     5     1   \n",
       "584     0.1        166        3  20       1698      1771  3720    15     7   \n",
       "1387    0.3        160        4  20       1054      1393  2520     8     2   \n",
       "1406    0.5        171        4  20        142      1039  1220     9     3   \n",
       "1416    0.2        100        5  19        846      1144   593     9     4   \n",
       "1549    0.5        159        2  18        837      1405  1146     6     1   \n",
       "1554    0.8        151        2  19       1194      1727  1115    16     2   \n",
       "1693    0.6        196        2  19       1649      1829  2855    16    13   \n",
       "1705    0.3        110        4  20        405       742   879    16     2   \n",
       "1880    0.8        188        5  20        334       896  2522    10     5   \n",
       "1882    0.5        196        7  20        952      1726   704    14     5   \n",
       "1888    0.1        186        7  20        470       844   489     9     4   \n",
       "988     0.4        104        5   6       1949      1994  2973    17     8   \n",
       "1771    0.7        111        7   2       1960      1963  1622    18    17   \n",
       "\n",
       "      talk_time  three_g  touch_screen  wifi  price_range  \n",
       "95           12        1             1     1            3  \n",
       "169          17        1             0     0            1  \n",
       "226          16        1             1     1            3  \n",
       "229           7        0             1     1            3  \n",
       "300          14        1             1     0            3  \n",
       "305           7        1             1     1            1  \n",
       "372          20        1             1     1            3  \n",
       "584           4        0             1     0            3  \n",
       "1387         11        1             0     1            2  \n",
       "1406         20        0             1     0            1  \n",
       "1416         18        1             1     1            0  \n",
       "1549         17        1             1     0            1  \n",
       "1554         18        1             0     1            1  \n",
       "1693          7        1             1     1            2  \n",
       "1705          8        1             0     0            0  \n",
       "1880          2        1             0     1            2  \n",
       "1882          4        1             1     1            0  \n",
       "1888          2        1             0     1            0  \n",
       "988          15        1             0     1            3  \n",
       "1771         16        1             1     1            2  "
      ]
     },
     "execution_count": 17,
     "metadata": {},
     "output_type": "execute_result"
    }
   ],
   "source": [
    "idx_outliers = detect_outliers(df,0,df[['fc','px_height']])\n",
    "df.loc[idx_outliers]"
   ]
  },
  {
   "cell_type": "code",
   "execution_count": 18,
   "id": "64a381ed",
   "metadata": {},
   "outputs": [
    {
     "data": {
      "text/plain": [
       "1.0"
      ]
     },
     "execution_count": 18,
     "metadata": {},
     "output_type": "execute_result"
    }
   ],
   "source": [
    "out_perc = df.loc[idx_outliers].shape[0] / df.shape[0]*100\n",
    "out_perc"
   ]
  },
  {
   "cell_type": "markdown",
   "id": "98b881e2",
   "metadata": {},
   "source": [
    "outliers reprsent onlu 1% from the dataset & it might important features on the mobile price so will kepp it now & try to check the model with it & without & check the accuracy result then decide to remove or keep before launch the final model on production. "
   ]
  },
  {
   "cell_type": "markdown",
   "id": "54cc3fe9",
   "metadata": {},
   "source": [
    "<li><a id='enrich'></a>Data Enriching</li>\n",
    "    <p>it seems we have all needed features, however we will apply some Feature Engineering and then check their effect on the model.</p>\n",
    "<a id='fea'></a> \n",
    "\n",
    "## Feature Engineering\n",
    "\n",
    "will compute \n",
    "- 'md'mobile dimension = m_dep * sc_h * sc_w\n",
    "- 'reso' resolution = px_height * px_width\n",
    "- 'has_fc' has front camera: if fc > 0\n",
    "- 'has_pc' has primary camera: if pc > 0"
   ]
  },
  {
   "cell_type": "code",
   "execution_count": 19,
   "id": "23368f94",
   "metadata": {},
   "outputs": [],
   "source": [
    "df['md'] = df['m_dep'] * df['sc_h'] * df['sc_w'] \n",
    "df['reso']= df['px_height'] * df['px_width']"
   ]
  },
  {
   "cell_type": "code",
   "execution_count": 20,
   "id": "529ab7f1",
   "metadata": {},
   "outputs": [],
   "source": [
    "df['has_fc'] = df['fc'].apply(lambda x: 1 if x > 0 else 0 ) \n",
    "df['has_pc'] = df['pc'].apply(lambda x: 1 if x > 0 else 0 ) "
   ]
  },
  {
   "cell_type": "code",
   "execution_count": 21,
   "id": "95015f35",
   "metadata": {},
   "outputs": [
    {
     "data": {
      "text/html": [
       "<div>\n",
       "<style scoped>\n",
       "    .dataframe tbody tr th:only-of-type {\n",
       "        vertical-align: middle;\n",
       "    }\n",
       "\n",
       "    .dataframe tbody tr th {\n",
       "        vertical-align: top;\n",
       "    }\n",
       "\n",
       "    .dataframe thead th {\n",
       "        text-align: right;\n",
       "    }\n",
       "</style>\n",
       "<table border=\"1\" class=\"dataframe\">\n",
       "  <thead>\n",
       "    <tr style=\"text-align: right;\">\n",
       "      <th></th>\n",
       "      <th>battery_power</th>\n",
       "      <th>blue</th>\n",
       "      <th>clock_speed</th>\n",
       "      <th>dual_sim</th>\n",
       "      <th>fc</th>\n",
       "      <th>four_g</th>\n",
       "      <th>int_memory</th>\n",
       "      <th>m_dep</th>\n",
       "      <th>mobile_wt</th>\n",
       "      <th>n_cores</th>\n",
       "      <th>...</th>\n",
       "      <th>sc_w</th>\n",
       "      <th>talk_time</th>\n",
       "      <th>three_g</th>\n",
       "      <th>touch_screen</th>\n",
       "      <th>wifi</th>\n",
       "      <th>price_range</th>\n",
       "      <th>md</th>\n",
       "      <th>reso</th>\n",
       "      <th>has_fc</th>\n",
       "      <th>has_pc</th>\n",
       "    </tr>\n",
       "  </thead>\n",
       "  <tbody>\n",
       "    <tr>\n",
       "      <th>0</th>\n",
       "      <td>842</td>\n",
       "      <td>0</td>\n",
       "      <td>2.2</td>\n",
       "      <td>0</td>\n",
       "      <td>1</td>\n",
       "      <td>0</td>\n",
       "      <td>7</td>\n",
       "      <td>0.6</td>\n",
       "      <td>188</td>\n",
       "      <td>2</td>\n",
       "      <td>...</td>\n",
       "      <td>7</td>\n",
       "      <td>19</td>\n",
       "      <td>0</td>\n",
       "      <td>0</td>\n",
       "      <td>1</td>\n",
       "      <td>1</td>\n",
       "      <td>37.8</td>\n",
       "      <td>15120</td>\n",
       "      <td>1</td>\n",
       "      <td>1</td>\n",
       "    </tr>\n",
       "    <tr>\n",
       "      <th>1</th>\n",
       "      <td>1021</td>\n",
       "      <td>1</td>\n",
       "      <td>0.5</td>\n",
       "      <td>1</td>\n",
       "      <td>0</td>\n",
       "      <td>1</td>\n",
       "      <td>53</td>\n",
       "      <td>0.7</td>\n",
       "      <td>136</td>\n",
       "      <td>3</td>\n",
       "      <td>...</td>\n",
       "      <td>3</td>\n",
       "      <td>7</td>\n",
       "      <td>1</td>\n",
       "      <td>1</td>\n",
       "      <td>0</td>\n",
       "      <td>2</td>\n",
       "      <td>35.7</td>\n",
       "      <td>1799140</td>\n",
       "      <td>0</td>\n",
       "      <td>1</td>\n",
       "    </tr>\n",
       "    <tr>\n",
       "      <th>2</th>\n",
       "      <td>563</td>\n",
       "      <td>1</td>\n",
       "      <td>0.5</td>\n",
       "      <td>1</td>\n",
       "      <td>2</td>\n",
       "      <td>1</td>\n",
       "      <td>41</td>\n",
       "      <td>0.9</td>\n",
       "      <td>145</td>\n",
       "      <td>5</td>\n",
       "      <td>...</td>\n",
       "      <td>2</td>\n",
       "      <td>9</td>\n",
       "      <td>1</td>\n",
       "      <td>1</td>\n",
       "      <td>0</td>\n",
       "      <td>2</td>\n",
       "      <td>19.8</td>\n",
       "      <td>2167308</td>\n",
       "      <td>1</td>\n",
       "      <td>1</td>\n",
       "    </tr>\n",
       "    <tr>\n",
       "      <th>3</th>\n",
       "      <td>615</td>\n",
       "      <td>1</td>\n",
       "      <td>2.5</td>\n",
       "      <td>0</td>\n",
       "      <td>0</td>\n",
       "      <td>0</td>\n",
       "      <td>10</td>\n",
       "      <td>0.8</td>\n",
       "      <td>131</td>\n",
       "      <td>6</td>\n",
       "      <td>...</td>\n",
       "      <td>8</td>\n",
       "      <td>11</td>\n",
       "      <td>1</td>\n",
       "      <td>0</td>\n",
       "      <td>0</td>\n",
       "      <td>2</td>\n",
       "      <td>102.4</td>\n",
       "      <td>2171776</td>\n",
       "      <td>0</td>\n",
       "      <td>1</td>\n",
       "    </tr>\n",
       "    <tr>\n",
       "      <th>4</th>\n",
       "      <td>1821</td>\n",
       "      <td>1</td>\n",
       "      <td>1.2</td>\n",
       "      <td>0</td>\n",
       "      <td>13</td>\n",
       "      <td>1</td>\n",
       "      <td>44</td>\n",
       "      <td>0.6</td>\n",
       "      <td>141</td>\n",
       "      <td>2</td>\n",
       "      <td>...</td>\n",
       "      <td>2</td>\n",
       "      <td>15</td>\n",
       "      <td>1</td>\n",
       "      <td>1</td>\n",
       "      <td>0</td>\n",
       "      <td>1</td>\n",
       "      <td>9.6</td>\n",
       "      <td>1464096</td>\n",
       "      <td>1</td>\n",
       "      <td>1</td>\n",
       "    </tr>\n",
       "  </tbody>\n",
       "</table>\n",
       "<p>5 rows × 25 columns</p>\n",
       "</div>"
      ],
      "text/plain": [
       "   battery_power  blue  clock_speed  dual_sim  fc  four_g  int_memory  m_dep  \\\n",
       "0            842     0          2.2         0   1       0           7    0.6   \n",
       "1           1021     1          0.5         1   0       1          53    0.7   \n",
       "2            563     1          0.5         1   2       1          41    0.9   \n",
       "3            615     1          2.5         0   0       0          10    0.8   \n",
       "4           1821     1          1.2         0  13       1          44    0.6   \n",
       "\n",
       "   mobile_wt  n_cores  ...  sc_w  talk_time  three_g  touch_screen  wifi  \\\n",
       "0        188        2  ...     7         19        0             0     1   \n",
       "1        136        3  ...     3          7        1             1     0   \n",
       "2        145        5  ...     2          9        1             1     0   \n",
       "3        131        6  ...     8         11        1             0     0   \n",
       "4        141        2  ...     2         15        1             1     0   \n",
       "\n",
       "   price_range     md     reso  has_fc  has_pc  \n",
       "0            1   37.8    15120       1       1  \n",
       "1            2   35.7  1799140       0       1  \n",
       "2            2   19.8  2167308       1       1  \n",
       "3            2  102.4  2171776       0       1  \n",
       "4            1    9.6  1464096       1       1  \n",
       "\n",
       "[5 rows x 25 columns]"
      ]
     },
     "execution_count": 21,
     "metadata": {},
     "output_type": "execute_result"
    }
   ],
   "source": [
    "df.head()"
   ]
  },
  {
   "cell_type": "markdown",
   "id": "af12933f",
   "metadata": {},
   "source": [
    "<li><a id='valid'></a>Data Validating</li>\n",
    "<ol>\n",
    "<li>Data has no missing values.</li>\n",
    "<li>Data has valid data types.</li>\n",
    "<li>Data has no duplicates.</li>\n",
    "<li>Only fc & px_height have outliers & only represent 1% of the dataset also it seems business need so keep them now.</li>\n",
    "<li>we have all features needed also we applied feature engineering & create two new features'md'mobile dimension & 'reso' resolution.</li>   \n",
    "    </ol>"
   ]
  },
  {
   "cell_type": "markdown",
   "id": "18aef9e2",
   "metadata": {},
   "source": [
    "<li><a id='publi'></a>Data Publishing</li>\n",
    "Now we can apply Data Analysis Process & then Machine Learning Model"
   ]
  },
  {
   "cell_type": "markdown",
   "id": "73100498",
   "metadata": {},
   "source": [
    "<a id='eda'></a>\n",
    "## Exploratory Data Analysis\n",
    "<ul>\n",
    "<li><a href='#uni'>Univariate Analysis</a></li>\n",
    "<li><a href='#bi'>bivariate Analysis</a></li>\n",
    "<li><a href='#mult'>multivariate Analysis</a></li>\n",
    "</ul>"
   ]
  },
  {
   "cell_type": "markdown",
   "id": "f6a547a9",
   "metadata": {},
   "source": [
    "<li><a id='uni'></a>Univariate Analysis</li>\n",
    "\n",
    "### Quantitative Univariate Analysis"
   ]
  },
  {
   "cell_type": "code",
   "execution_count": 22,
   "id": "793557fb",
   "metadata": {},
   "outputs": [],
   "source": [
    "cont_var=[]\n",
    "for col in df.columns:\n",
    "    if df[col].nunique() > 4:\n",
    "        cont_var.append(col)"
   ]
  },
  {
   "cell_type": "code",
   "execution_count": 23,
   "id": "246e03f4",
   "metadata": {},
   "outputs": [],
   "source": [
    "def quanitative_uni(df,features):\n",
    "    for col in df[features].columns:\n",
    "        fig,axs = plt.subplots(1,2)\n",
    "        sns.histplot(df[col], kde=True,ax=axs[0])\n",
    "        sns.boxplot(data=df,x=col,ax=axs[1])\n",
    "        plt.suptitle(f'{col} distribution')\n",
    "        plt.show()\n",
    "        stats_df = df[col].describe()\n",
    "        stats_df.loc['range'] = stats_df.loc['max']-stats_df.loc['min']\n",
    "        stats_df.loc['iqr'] = stats_df.loc['75%']-stats_df.loc['25%']\n",
    "        stats_df.loc['min_whisker'] = stats_df.loc['25%'] - 1.5* stats_df.loc['iqr']\n",
    "        stats_df.loc['max_whisker'] = stats_df.loc['75%'] + 1.5* stats_df.loc['iqr']\n",
    "        stats_df.loc['skw'] = 3 * (stats_df.loc['mean'] - stats_df.loc['50%'])/stats_df.loc['std']\n",
    "        stats_df.loc['cv'] = (stats_df.loc['std'] / stats_df.loc['mean'])*100\n",
    "        display(pd.DataFrame(stats_df).T)"
   ]
  },
  {
   "cell_type": "code",
   "execution_count": 24,
   "id": "0938a748",
   "metadata": {},
   "outputs": [
    {
     "data": {
      "image/png": "[encoded data removed]",
      "text/plain": [
       "<Figure size 1080x216 with 2 Axes>"
      ]
     },
     "metadata": {},
     "output_type": "display_data"
    },
    {
     "data": {
      "text/html": [
       "<div>\n",
       "<style scoped>\n",
       "    .dataframe tbody tr th:only-of-type {\n",
       "        vertical-align: middle;\n",
       "    }\n",
       "\n",
       "    .dataframe tbody tr th {\n",
       "        vertical-align: top;\n",
       "    }\n",
       "\n",
       "    .dataframe thead th {\n",
       "        text-align: right;\n",
       "    }\n",
       "</style>\n",
       "<table border=\"1\" class=\"dataframe\">\n",
       "  <thead>\n",
       "    <tr style=\"text-align: right;\">\n",
       "      <th></th>\n",
       "      <th>count</th>\n",
       "      <th>mean</th>\n",
       "      <th>std</th>\n",
       "      <th>min</th>\n",
       "      <th>25%</th>\n",
       "      <th>50%</th>\n",
       "      <th>75%</th>\n",
       "      <th>max</th>\n",
       "      <th>range</th>\n",
       "      <th>iqr</th>\n",
       "      <th>min_whisker</th>\n",
       "      <th>max_whisker</th>\n",
       "      <th>skw</th>\n",
       "      <th>cv</th>\n",
       "    </tr>\n",
       "  </thead>\n",
       "  <tbody>\n",
       "    <tr>\n",
       "      <th>battery_power</th>\n",
       "      <td>2000.0</td>\n",
       "      <td>1238.5185</td>\n",
       "      <td>439.418206</td>\n",
       "      <td>501.0</td>\n",
       "      <td>851.75</td>\n",
       "      <td>1226.0</td>\n",
       "      <td>1615.25</td>\n",
       "      <td>1998.0</td>\n",
       "      <td>1497.0</td>\n",
       "      <td>763.5</td>\n",
       "      <td>-293.5</td>\n",
       "      <td>2760.5</td>\n",
       "      <td>0.085466</td>\n",
       "      <td>35.479341</td>\n",
       "    </tr>\n",
       "  </tbody>\n",
       "</table>\n",
       "</div>"
      ],
      "text/plain": [
       "                count       mean         std    min     25%     50%      75%  \\\n",
       "battery_power  2000.0  1238.5185  439.418206  501.0  851.75  1226.0  1615.25   \n",
       "\n",
       "                  max   range    iqr  min_whisker  max_whisker       skw  \\\n",
       "battery_power  1998.0  1497.0  763.5       -293.5       2760.5  0.085466   \n",
       "\n",
       "                      cv  \n",
       "battery_power  35.479341  "
      ]
     },
     "metadata": {},
     "output_type": "display_data"
    },
    {
     "data": {
      "image/png": "[encoded data removed]",
      "text/plain": [
       "<Figure size 1080x216 with 2 Axes>"
      ]
     },
     "metadata": {},
     "output_type": "display_data"
    },
    {
     "data": {
      "text/html": [
       "<div>\n",
       "<style scoped>\n",
       "    .dataframe tbody tr th:only-of-type {\n",
       "        vertical-align: middle;\n",
       "    }\n",
       "\n",
       "    .dataframe tbody tr th {\n",
       "        vertical-align: top;\n",
       "    }\n",
       "\n",
       "    .dataframe thead th {\n",
       "        text-align: right;\n",
       "    }\n",
       "</style>\n",
       "<table border=\"1\" class=\"dataframe\">\n",
       "  <thead>\n",
       "    <tr style=\"text-align: right;\">\n",
       "      <th></th>\n",
       "      <th>count</th>\n",
       "      <th>mean</th>\n",
       "      <th>std</th>\n",
       "      <th>min</th>\n",
       "      <th>25%</th>\n",
       "      <th>50%</th>\n",
       "      <th>75%</th>\n",
       "      <th>max</th>\n",
       "      <th>range</th>\n",
       "      <th>iqr</th>\n",
       "      <th>min_whisker</th>\n",
       "      <th>max_whisker</th>\n",
       "      <th>skw</th>\n",
       "      <th>cv</th>\n",
       "    </tr>\n",
       "  </thead>\n",
       "  <tbody>\n",
       "    <tr>\n",
       "      <th>clock_speed</th>\n",
       "      <td>2000.0</td>\n",
       "      <td>1.52225</td>\n",
       "      <td>0.816004</td>\n",
       "      <td>0.5</td>\n",
       "      <td>0.7</td>\n",
       "      <td>1.5</td>\n",
       "      <td>2.2</td>\n",
       "      <td>3.0</td>\n",
       "      <td>2.5</td>\n",
       "      <td>1.5</td>\n",
       "      <td>-1.55</td>\n",
       "      <td>4.45</td>\n",
       "      <td>0.081801</td>\n",
       "      <td>53.605138</td>\n",
       "    </tr>\n",
       "  </tbody>\n",
       "</table>\n",
       "</div>"
      ],
      "text/plain": [
       "              count     mean       std  min  25%  50%  75%  max  range  iqr  \\\n",
       "clock_speed  2000.0  1.52225  0.816004  0.5  0.7  1.5  2.2  3.0    2.5  1.5   \n",
       "\n",
       "             min_whisker  max_whisker       skw         cv  \n",
       "clock_speed        -1.55         4.45  0.081801  53.605138  "
      ]
     },
     "metadata": {},
     "output_type": "display_data"
    },
    {
     "data": {
      "image/png": "[encoded data removed]",
      "text/plain": [
       "<Figure size 1080x216 with 2 Axes>"
      ]
     },
     "metadata": {},
     "output_type": "display_data"
    },
    {
     "data": {
      "text/html": [
       "<div>\n",
       "<style scoped>\n",
       "    .dataframe tbody tr th:only-of-type {\n",
       "        vertical-align: middle;\n",
       "    }\n",
       "\n",
       "    .dataframe tbody tr th {\n",
       "        vertical-align: top;\n",
       "    }\n",
       "\n",
       "    .dataframe thead th {\n",
       "        text-align: right;\n",
       "    }\n",
       "</style>\n",
       "<table border=\"1\" class=\"dataframe\">\n",
       "  <thead>\n",
       "    <tr style=\"text-align: right;\">\n",
       "      <th></th>\n",
       "      <th>count</th>\n",
       "      <th>mean</th>\n",
       "      <th>std</th>\n",
       "      <th>min</th>\n",
       "      <th>25%</th>\n",
       "      <th>50%</th>\n",
       "      <th>75%</th>\n",
       "      <th>max</th>\n",
       "      <th>range</th>\n",
       "      <th>iqr</th>\n",
       "      <th>min_whisker</th>\n",
       "      <th>max_whisker</th>\n",
       "      <th>skw</th>\n",
       "      <th>cv</th>\n",
       "    </tr>\n",
       "  </thead>\n",
       "  <tbody>\n",
       "    <tr>\n",
       "      <th>fc</th>\n",
       "      <td>2000.0</td>\n",
       "      <td>4.3095</td>\n",
       "      <td>4.341444</td>\n",
       "      <td>0.0</td>\n",
       "      <td>1.0</td>\n",
       "      <td>3.0</td>\n",
       "      <td>7.0</td>\n",
       "      <td>19.0</td>\n",
       "      <td>19.0</td>\n",
       "      <td>6.0</td>\n",
       "      <td>-8.0</td>\n",
       "      <td>16.0</td>\n",
       "      <td>0.904883</td>\n",
       "      <td>100.74124</td>\n",
       "    </tr>\n",
       "  </tbody>\n",
       "</table>\n",
       "</div>"
      ],
      "text/plain": [
       "     count    mean       std  min  25%  50%  75%   max  range  iqr  \\\n",
       "fc  2000.0  4.3095  4.341444  0.0  1.0  3.0  7.0  19.0   19.0  6.0   \n",
       "\n",
       "    min_whisker  max_whisker       skw         cv  \n",
       "fc         -8.0         16.0  0.904883  100.74124  "
      ]
     },
     "metadata": {},
     "output_type": "display_data"
    },
    {
     "data": {
      "image/png": "[encoded data removed]",
      "text/plain": [
       "<Figure size 1080x216 with 2 Axes>"
      ]
     },
     "metadata": {},
     "output_type": "display_data"
    },
    {
     "data": {
      "text/html": [
       "<div>\n",
       "<style scoped>\n",
       "    .dataframe tbody tr th:only-of-type {\n",
       "        vertical-align: middle;\n",
       "    }\n",
       "\n",
       "    .dataframe tbody tr th {\n",
       "        vertical-align: top;\n",
       "    }\n",
       "\n",
       "    .dataframe thead th {\n",
       "        text-align: right;\n",
       "    }\n",
       "</style>\n",
       "<table border=\"1\" class=\"dataframe\">\n",
       "  <thead>\n",
       "    <tr style=\"text-align: right;\">\n",
       "      <th></th>\n",
       "      <th>count</th>\n",
       "      <th>mean</th>\n",
       "      <th>std</th>\n",
       "      <th>min</th>\n",
       "      <th>25%</th>\n",
       "      <th>50%</th>\n",
       "      <th>75%</th>\n",
       "      <th>max</th>\n",
       "      <th>range</th>\n",
       "      <th>iqr</th>\n",
       "      <th>min_whisker</th>\n",
       "      <th>max_whisker</th>\n",
       "      <th>skw</th>\n",
       "      <th>cv</th>\n",
       "    </tr>\n",
       "  </thead>\n",
       "  <tbody>\n",
       "    <tr>\n",
       "      <th>int_memory</th>\n",
       "      <td>2000.0</td>\n",
       "      <td>32.0465</td>\n",
       "      <td>18.145715</td>\n",
       "      <td>2.0</td>\n",
       "      <td>16.0</td>\n",
       "      <td>32.0</td>\n",
       "      <td>48.0</td>\n",
       "      <td>64.0</td>\n",
       "      <td>62.0</td>\n",
       "      <td>32.0</td>\n",
       "      <td>-32.0</td>\n",
       "      <td>96.0</td>\n",
       "      <td>0.007688</td>\n",
       "      <td>56.623079</td>\n",
       "    </tr>\n",
       "  </tbody>\n",
       "</table>\n",
       "</div>"
      ],
      "text/plain": [
       "             count     mean        std  min   25%   50%   75%   max  range  \\\n",
       "int_memory  2000.0  32.0465  18.145715  2.0  16.0  32.0  48.0  64.0   62.0   \n",
       "\n",
       "             iqr  min_whisker  max_whisker       skw         cv  \n",
       "int_memory  32.0        -32.0         96.0  0.007688  56.623079  "
      ]
     },
     "metadata": {},
     "output_type": "display_data"
    },
    {
     "data": {
      "image/png": "[encoded data removed]",
      "text/plain": [
       "<Figure size 1080x216 with 2 Axes>"
      ]
     },
     "metadata": {},
     "output_type": "display_data"
    },
    {
     "data": {
      "text/html": [
       "<div>\n",
       "<style scoped>\n",
       "    .dataframe tbody tr th:only-of-type {\n",
       "        vertical-align: middle;\n",
       "    }\n",
       "\n",
       "    .dataframe tbody tr th {\n",
       "        vertical-align: top;\n",
       "    }\n",
       "\n",
       "    .dataframe thead th {\n",
       "        text-align: right;\n",
       "    }\n",
       "</style>\n",
       "<table border=\"1\" class=\"dataframe\">\n",
       "  <thead>\n",
       "    <tr style=\"text-align: right;\">\n",
       "      <th></th>\n",
       "      <th>count</th>\n",
       "      <th>mean</th>\n",
       "      <th>std</th>\n",
       "      <th>min</th>\n",
       "      <th>25%</th>\n",
       "      <th>50%</th>\n",
       "      <th>75%</th>\n",
       "      <th>max</th>\n",
       "      <th>range</th>\n",
       "      <th>iqr</th>\n",
       "      <th>min_whisker</th>\n",
       "      <th>max_whisker</th>\n",
       "      <th>skw</th>\n",
       "      <th>cv</th>\n",
       "    </tr>\n",
       "  </thead>\n",
       "  <tbody>\n",
       "    <tr>\n",
       "      <th>m_dep</th>\n",
       "      <td>2000.0</td>\n",
       "      <td>0.50175</td>\n",
       "      <td>0.288416</td>\n",
       "      <td>0.1</td>\n",
       "      <td>0.2</td>\n",
       "      <td>0.5</td>\n",
       "      <td>0.8</td>\n",
       "      <td>1.0</td>\n",
       "      <td>0.9</td>\n",
       "      <td>0.6</td>\n",
       "      <td>-0.7</td>\n",
       "      <td>1.7</td>\n",
       "      <td>0.018203</td>\n",
       "      <td>57.481923</td>\n",
       "    </tr>\n",
       "  </tbody>\n",
       "</table>\n",
       "</div>"
      ],
      "text/plain": [
       "        count     mean       std  min  25%  50%  75%  max  range  iqr  \\\n",
       "m_dep  2000.0  0.50175  0.288416  0.1  0.2  0.5  0.8  1.0    0.9  0.6   \n",
       "\n",
       "       min_whisker  max_whisker       skw         cv  \n",
       "m_dep         -0.7          1.7  0.018203  57.481923  "
      ]
     },
     "metadata": {},
     "output_type": "display_data"
    },
    {
     "data": {
      "image/png": "[encoded data removed]",
      "text/plain": [
       "<Figure size 1080x216 with 2 Axes>"
      ]
     },
     "metadata": {},
     "output_type": "display_data"
    },
    {
     "data": {
      "text/html": [
       "<div>\n",
       "<style scoped>\n",
       "    .dataframe tbody tr th:only-of-type {\n",
       "        vertical-align: middle;\n",
       "    }\n",
       "\n",
       "    .dataframe tbody tr th {\n",
       "        vertical-align: top;\n",
       "    }\n",
       "\n",
       "    .dataframe thead th {\n",
       "        text-align: right;\n",
       "    }\n",
       "</style>\n",
       "<table border=\"1\" class=\"dataframe\">\n",
       "  <thead>\n",
       "    <tr style=\"text-align: right;\">\n",
       "      <th></th>\n",
       "      <th>count</th>\n",
       "      <th>mean</th>\n",
       "      <th>std</th>\n",
       "      <th>min</th>\n",
       "      <th>25%</th>\n",
       "      <th>50%</th>\n",
       "      <th>75%</th>\n",
       "      <th>max</th>\n",
       "      <th>range</th>\n",
       "      <th>iqr</th>\n",
       "      <th>min_whisker</th>\n",
       "      <th>max_whisker</th>\n",
       "      <th>skw</th>\n",
       "      <th>cv</th>\n",
       "    </tr>\n",
       "  </thead>\n",
       "  <tbody>\n",
       "    <tr>\n",
       "      <th>mobile_wt</th>\n",
       "      <td>2000.0</td>\n",
       "      <td>140.249</td>\n",
       "      <td>35.399655</td>\n",
       "      <td>80.0</td>\n",
       "      <td>109.0</td>\n",
       "      <td>141.0</td>\n",
       "      <td>170.0</td>\n",
       "      <td>200.0</td>\n",
       "      <td>120.0</td>\n",
       "      <td>61.0</td>\n",
       "      <td>17.5</td>\n",
       "      <td>261.5</td>\n",
       "      <td>-0.063645</td>\n",
       "      <td>25.240576</td>\n",
       "    </tr>\n",
       "  </tbody>\n",
       "</table>\n",
       "</div>"
      ],
      "text/plain": [
       "            count     mean        std   min    25%    50%    75%    max  \\\n",
       "mobile_wt  2000.0  140.249  35.399655  80.0  109.0  141.0  170.0  200.0   \n",
       "\n",
       "           range   iqr  min_whisker  max_whisker       skw         cv  \n",
       "mobile_wt  120.0  61.0         17.5        261.5 -0.063645  25.240576  "
      ]
     },
     "metadata": {},
     "output_type": "display_data"
    },
    {
     "data": {
      "image/png": "[encoded data removed]",
      "text/plain": [
       "<Figure size 1080x216 with 2 Axes>"
      ]
     },
     "metadata": {},
     "output_type": "display_data"
    },
    {
     "data": {
      "text/html": [
       "<div>\n",
       "<style scoped>\n",
       "    .dataframe tbody tr th:only-of-type {\n",
       "        vertical-align: middle;\n",
       "    }\n",
       "\n",
       "    .dataframe tbody tr th {\n",
       "        vertical-align: top;\n",
       "    }\n",
       "\n",
       "    .dataframe thead th {\n",
       "        text-align: right;\n",
       "    }\n",
       "</style>\n",
       "<table border=\"1\" class=\"dataframe\">\n",
       "  <thead>\n",
       "    <tr style=\"text-align: right;\">\n",
       "      <th></th>\n",
       "      <th>count</th>\n",
       "      <th>mean</th>\n",
       "      <th>std</th>\n",
       "      <th>min</th>\n",
       "      <th>25%</th>\n",
       "      <th>50%</th>\n",
       "      <th>75%</th>\n",
       "      <th>max</th>\n",
       "      <th>range</th>\n",
       "      <th>iqr</th>\n",
       "      <th>min_whisker</th>\n",
       "      <th>max_whisker</th>\n",
       "      <th>skw</th>\n",
       "      <th>cv</th>\n",
       "    </tr>\n",
       "  </thead>\n",
       "  <tbody>\n",
       "    <tr>\n",
       "      <th>n_cores</th>\n",
       "      <td>2000.0</td>\n",
       "      <td>4.5205</td>\n",
       "      <td>2.287837</td>\n",
       "      <td>1.0</td>\n",
       "      <td>3.0</td>\n",
       "      <td>4.0</td>\n",
       "      <td>7.0</td>\n",
       "      <td>8.0</td>\n",
       "      <td>7.0</td>\n",
       "      <td>4.0</td>\n",
       "      <td>-3.0</td>\n",
       "      <td>13.0</td>\n",
       "      <td>0.682522</td>\n",
       "      <td>50.610258</td>\n",
       "    </tr>\n",
       "  </tbody>\n",
       "</table>\n",
       "</div>"
      ],
      "text/plain": [
       "          count    mean       std  min  25%  50%  75%  max  range  iqr  \\\n",
       "n_cores  2000.0  4.5205  2.287837  1.0  3.0  4.0  7.0  8.0    7.0  4.0   \n",
       "\n",
       "         min_whisker  max_whisker       skw         cv  \n",
       "n_cores         -3.0         13.0  0.682522  50.610258  "
      ]
     },
     "metadata": {},
     "output_type": "display_data"
    },
    {
     "data": {
      "image/png": "[encoded data removed]",
      "text/plain": [
       "<Figure size 1080x216 with 2 Axes>"
      ]
     },
     "metadata": {},
     "output_type": "display_data"
    },
    {
     "data": {
      "text/html": [
       "<div>\n",
       "<style scoped>\n",
       "    .dataframe tbody tr th:only-of-type {\n",
       "        vertical-align: middle;\n",
       "    }\n",
       "\n",
       "    .dataframe tbody tr th {\n",
       "        vertical-align: top;\n",
       "    }\n",
       "\n",
       "    .dataframe thead th {\n",
       "        text-align: right;\n",
       "    }\n",
       "</style>\n",
       "<table border=\"1\" class=\"dataframe\">\n",
       "  <thead>\n",
       "    <tr style=\"text-align: right;\">\n",
       "      <th></th>\n",
       "      <th>count</th>\n",
       "      <th>mean</th>\n",
       "      <th>std</th>\n",
       "      <th>min</th>\n",
       "      <th>25%</th>\n",
       "      <th>50%</th>\n",
       "      <th>75%</th>\n",
       "      <th>max</th>\n",
       "      <th>range</th>\n",
       "      <th>iqr</th>\n",
       "      <th>min_whisker</th>\n",
       "      <th>max_whisker</th>\n",
       "      <th>skw</th>\n",
       "      <th>cv</th>\n",
       "    </tr>\n",
       "  </thead>\n",
       "  <tbody>\n",
       "    <tr>\n",
       "      <th>pc</th>\n",
       "      <td>2000.0</td>\n",
       "      <td>9.9165</td>\n",
       "      <td>6.064315</td>\n",
       "      <td>0.0</td>\n",
       "      <td>5.0</td>\n",
       "      <td>10.0</td>\n",
       "      <td>15.0</td>\n",
       "      <td>20.0</td>\n",
       "      <td>20.0</td>\n",
       "      <td>10.0</td>\n",
       "      <td>-10.0</td>\n",
       "      <td>30.0</td>\n",
       "      <td>-0.041307</td>\n",
       "      <td>61.153784</td>\n",
       "    </tr>\n",
       "  </tbody>\n",
       "</table>\n",
       "</div>"
      ],
      "text/plain": [
       "     count    mean       std  min  25%   50%   75%   max  range   iqr  \\\n",
       "pc  2000.0  9.9165  6.064315  0.0  5.0  10.0  15.0  20.0   20.0  10.0   \n",
       "\n",
       "    min_whisker  max_whisker       skw         cv  \n",
       "pc        -10.0         30.0 -0.041307  61.153784  "
      ]
     },
     "metadata": {},
     "output_type": "display_data"
    },
    {
     "data": {
      "image/png": "[encoded data removed]",
      "text/plain": [
       "<Figure size 1080x216 with 2 Axes>"
      ]
     },
     "metadata": {},
     "output_type": "display_data"
    },
    {
     "data": {
      "text/html": [
       "<div>\n",
       "<style scoped>\n",
       "    .dataframe tbody tr th:only-of-type {\n",
       "        vertical-align: middle;\n",
       "    }\n",
       "\n",
       "    .dataframe tbody tr th {\n",
       "        vertical-align: top;\n",
       "    }\n",
       "\n",
       "    .dataframe thead th {\n",
       "        text-align: right;\n",
       "    }\n",
       "</style>\n",
       "<table border=\"1\" class=\"dataframe\">\n",
       "  <thead>\n",
       "    <tr style=\"text-align: right;\">\n",
       "      <th></th>\n",
       "      <th>count</th>\n",
       "      <th>mean</th>\n",
       "      <th>std</th>\n",
       "      <th>min</th>\n",
       "      <th>25%</th>\n",
       "      <th>50%</th>\n",
       "      <th>75%</th>\n",
       "      <th>max</th>\n",
       "      <th>range</th>\n",
       "      <th>iqr</th>\n",
       "      <th>min_whisker</th>\n",
       "      <th>max_whisker</th>\n",
       "      <th>skw</th>\n",
       "      <th>cv</th>\n",
       "    </tr>\n",
       "  </thead>\n",
       "  <tbody>\n",
       "    <tr>\n",
       "      <th>px_height</th>\n",
       "      <td>2000.0</td>\n",
       "      <td>645.108</td>\n",
       "      <td>443.780811</td>\n",
       "      <td>0.0</td>\n",
       "      <td>282.75</td>\n",
       "      <td>564.0</td>\n",
       "      <td>947.25</td>\n",
       "      <td>1960.0</td>\n",
       "      <td>1960.0</td>\n",
       "      <td>664.5</td>\n",
       "      <td>-714.0</td>\n",
       "      <td>1944.0</td>\n",
       "      <td>0.548298</td>\n",
       "      <td>68.791708</td>\n",
       "    </tr>\n",
       "  </tbody>\n",
       "</table>\n",
       "</div>"
      ],
      "text/plain": [
       "            count     mean         std  min     25%    50%     75%     max  \\\n",
       "px_height  2000.0  645.108  443.780811  0.0  282.75  564.0  947.25  1960.0   \n",
       "\n",
       "            range    iqr  min_whisker  max_whisker       skw         cv  \n",
       "px_height  1960.0  664.5       -714.0       1944.0  0.548298  68.791708  "
      ]
     },
     "metadata": {},
     "output_type": "display_data"
    },
    {
     "data": {
      "image/png": "[encoded data removed]",
      "text/plain": [
       "<Figure size 1080x216 with 2 Axes>"
      ]
     },
     "metadata": {},
     "output_type": "display_data"
    },
    {
     "data": {
      "text/html": [
       "<div>\n",
       "<style scoped>\n",
       "    .dataframe tbody tr th:only-of-type {\n",
       "        vertical-align: middle;\n",
       "    }\n",
       "\n",
       "    .dataframe tbody tr th {\n",
       "        vertical-align: top;\n",
       "    }\n",
       "\n",
       "    .dataframe thead th {\n",
       "        text-align: right;\n",
       "    }\n",
       "</style>\n",
       "<table border=\"1\" class=\"dataframe\">\n",
       "  <thead>\n",
       "    <tr style=\"text-align: right;\">\n",
       "      <th></th>\n",
       "      <th>count</th>\n",
       "      <th>mean</th>\n",
       "      <th>std</th>\n",
       "      <th>min</th>\n",
       "      <th>25%</th>\n",
       "      <th>50%</th>\n",
       "      <th>75%</th>\n",
       "      <th>max</th>\n",
       "      <th>range</th>\n",
       "      <th>iqr</th>\n",
       "      <th>min_whisker</th>\n",
       "      <th>max_whisker</th>\n",
       "      <th>skw</th>\n",
       "      <th>cv</th>\n",
       "    </tr>\n",
       "  </thead>\n",
       "  <tbody>\n",
       "    <tr>\n",
       "      <th>px_width</th>\n",
       "      <td>2000.0</td>\n",
       "      <td>1251.5155</td>\n",
       "      <td>432.199447</td>\n",
       "      <td>500.0</td>\n",
       "      <td>874.75</td>\n",
       "      <td>1247.0</td>\n",
       "      <td>1633.0</td>\n",
       "      <td>1998.0</td>\n",
       "      <td>1498.0</td>\n",
       "      <td>758.25</td>\n",
       "      <td>-262.625</td>\n",
       "      <td>2770.375</td>\n",
       "      <td>0.031343</td>\n",
       "      <td>34.534087</td>\n",
       "    </tr>\n",
       "  </tbody>\n",
       "</table>\n",
       "</div>"
      ],
      "text/plain": [
       "           count       mean         std    min     25%     50%     75%  \\\n",
       "px_width  2000.0  1251.5155  432.199447  500.0  874.75  1247.0  1633.0   \n",
       "\n",
       "             max   range     iqr  min_whisker  max_whisker       skw  \\\n",
       "px_width  1998.0  1498.0  758.25     -262.625     2770.375  0.031343   \n",
       "\n",
       "                 cv  \n",
       "px_width  34.534087  "
      ]
     },
     "metadata": {},
     "output_type": "display_data"
    },
    {
     "data": {
      "image/png": "[encoded data removed]",
      "text/plain": [
       "<Figure size 1080x216 with 2 Axes>"
      ]
     },
     "metadata": {},
     "output_type": "display_data"
    },
    {
     "data": {
      "text/html": [
       "<div>\n",
       "<style scoped>\n",
       "    .dataframe tbody tr th:only-of-type {\n",
       "        vertical-align: middle;\n",
       "    }\n",
       "\n",
       "    .dataframe tbody tr th {\n",
       "        vertical-align: top;\n",
       "    }\n",
       "\n",
       "    .dataframe thead th {\n",
       "        text-align: right;\n",
       "    }\n",
       "</style>\n",
       "<table border=\"1\" class=\"dataframe\">\n",
       "  <thead>\n",
       "    <tr style=\"text-align: right;\">\n",
       "      <th></th>\n",
       "      <th>count</th>\n",
       "      <th>mean</th>\n",
       "      <th>std</th>\n",
       "      <th>min</th>\n",
       "      <th>25%</th>\n",
       "      <th>50%</th>\n",
       "      <th>75%</th>\n",
       "      <th>max</th>\n",
       "      <th>range</th>\n",
       "      <th>iqr</th>\n",
       "      <th>min_whisker</th>\n",
       "      <th>max_whisker</th>\n",
       "      <th>skw</th>\n",
       "      <th>cv</th>\n",
       "    </tr>\n",
       "  </thead>\n",
       "  <tbody>\n",
       "    <tr>\n",
       "      <th>ram</th>\n",
       "      <td>2000.0</td>\n",
       "      <td>2124.213</td>\n",
       "      <td>1084.732044</td>\n",
       "      <td>256.0</td>\n",
       "      <td>1207.5</td>\n",
       "      <td>2146.5</td>\n",
       "      <td>3064.5</td>\n",
       "      <td>3998.0</td>\n",
       "      <td>3742.0</td>\n",
       "      <td>1857.0</td>\n",
       "      <td>-1578.0</td>\n",
       "      <td>5850.0</td>\n",
       "      <td>-0.061638</td>\n",
       "      <td>51.065126</td>\n",
       "    </tr>\n",
       "  </tbody>\n",
       "</table>\n",
       "</div>"
      ],
      "text/plain": [
       "      count      mean          std    min     25%     50%     75%     max  \\\n",
       "ram  2000.0  2124.213  1084.732044  256.0  1207.5  2146.5  3064.5  3998.0   \n",
       "\n",
       "      range     iqr  min_whisker  max_whisker       skw         cv  \n",
       "ram  3742.0  1857.0      -1578.0       5850.0 -0.061638  51.065126  "
      ]
     },
     "metadata": {},
     "output_type": "display_data"
    },
    {
     "data": {
      "image/png": "[encoded data removed]",
      "text/plain": [
       "<Figure size 1080x216 with 2 Axes>"
      ]
     },
     "metadata": {},
     "output_type": "display_data"
    },
    {
     "data": {
      "text/html": [
       "<div>\n",
       "<style scoped>\n",
       "    .dataframe tbody tr th:only-of-type {\n",
       "        vertical-align: middle;\n",
       "    }\n",
       "\n",
       "    .dataframe tbody tr th {\n",
       "        vertical-align: top;\n",
       "    }\n",
       "\n",
       "    .dataframe thead th {\n",
       "        text-align: right;\n",
       "    }\n",
       "</style>\n",
       "<table border=\"1\" class=\"dataframe\">\n",
       "  <thead>\n",
       "    <tr style=\"text-align: right;\">\n",
       "      <th></th>\n",
       "      <th>count</th>\n",
       "      <th>mean</th>\n",
       "      <th>std</th>\n",
       "      <th>min</th>\n",
       "      <th>25%</th>\n",
       "      <th>50%</th>\n",
       "      <th>75%</th>\n",
       "      <th>max</th>\n",
       "      <th>range</th>\n",
       "      <th>iqr</th>\n",
       "      <th>min_whisker</th>\n",
       "      <th>max_whisker</th>\n",
       "      <th>skw</th>\n",
       "      <th>cv</th>\n",
       "    </tr>\n",
       "  </thead>\n",
       "  <tbody>\n",
       "    <tr>\n",
       "      <th>sc_h</th>\n",
       "      <td>2000.0</td>\n",
       "      <td>12.3065</td>\n",
       "      <td>4.213245</td>\n",
       "      <td>5.0</td>\n",
       "      <td>9.0</td>\n",
       "      <td>12.0</td>\n",
       "      <td>16.0</td>\n",
       "      <td>19.0</td>\n",
       "      <td>14.0</td>\n",
       "      <td>7.0</td>\n",
       "      <td>-1.5</td>\n",
       "      <td>26.5</td>\n",
       "      <td>0.21824</td>\n",
       "      <td>34.235932</td>\n",
       "    </tr>\n",
       "  </tbody>\n",
       "</table>\n",
       "</div>"
      ],
      "text/plain": [
       "       count     mean       std  min  25%   50%   75%   max  range  iqr  \\\n",
       "sc_h  2000.0  12.3065  4.213245  5.0  9.0  12.0  16.0  19.0   14.0  7.0   \n",
       "\n",
       "      min_whisker  max_whisker      skw         cv  \n",
       "sc_h         -1.5         26.5  0.21824  34.235932  "
      ]
     },
     "metadata": {},
     "output_type": "display_data"
    },
    {
     "data": {
      "image/png": "[encoded data removed]",
      "text/plain": [
       "<Figure size 1080x216 with 2 Axes>"
      ]
     },
     "metadata": {},
     "output_type": "display_data"
    },
    {
     "data": {
      "text/html": [
       "<div>\n",
       "<style scoped>\n",
       "    .dataframe tbody tr th:only-of-type {\n",
       "        vertical-align: middle;\n",
       "    }\n",
       "\n",
       "    .dataframe tbody tr th {\n",
       "        vertical-align: top;\n",
       "    }\n",
       "\n",
       "    .dataframe thead th {\n",
       "        text-align: right;\n",
       "    }\n",
       "</style>\n",
       "<table border=\"1\" class=\"dataframe\">\n",
       "  <thead>\n",
       "    <tr style=\"text-align: right;\">\n",
       "      <th></th>\n",
       "      <th>count</th>\n",
       "      <th>mean</th>\n",
       "      <th>std</th>\n",
       "      <th>min</th>\n",
       "      <th>25%</th>\n",
       "      <th>50%</th>\n",
       "      <th>75%</th>\n",
       "      <th>max</th>\n",
       "      <th>range</th>\n",
       "      <th>iqr</th>\n",
       "      <th>min_whisker</th>\n",
       "      <th>max_whisker</th>\n",
       "      <th>skw</th>\n",
       "      <th>cv</th>\n",
       "    </tr>\n",
       "  </thead>\n",
       "  <tbody>\n",
       "    <tr>\n",
       "      <th>sc_w</th>\n",
       "      <td>2000.0</td>\n",
       "      <td>5.767</td>\n",
       "      <td>4.356398</td>\n",
       "      <td>0.0</td>\n",
       "      <td>2.0</td>\n",
       "      <td>5.0</td>\n",
       "      <td>9.0</td>\n",
       "      <td>18.0</td>\n",
       "      <td>18.0</td>\n",
       "      <td>7.0</td>\n",
       "      <td>-8.5</td>\n",
       "      <td>19.5</td>\n",
       "      <td>0.528189</td>\n",
       "      <td>75.540101</td>\n",
       "    </tr>\n",
       "  </tbody>\n",
       "</table>\n",
       "</div>"
      ],
      "text/plain": [
       "       count   mean       std  min  25%  50%  75%   max  range  iqr  \\\n",
       "sc_w  2000.0  5.767  4.356398  0.0  2.0  5.0  9.0  18.0   18.0  7.0   \n",
       "\n",
       "      min_whisker  max_whisker       skw         cv  \n",
       "sc_w         -8.5         19.5  0.528189  75.540101  "
      ]
     },
     "metadata": {},
     "output_type": "display_data"
    },
    {
     "data": {
      "image/png": "[encoded data removed]",
      "text/plain": [
       "<Figure size 1080x216 with 2 Axes>"
      ]
     },
     "metadata": {},
     "output_type": "display_data"
    },
    {
     "data": {
      "text/html": [
       "<div>\n",
       "<style scoped>\n",
       "    .dataframe tbody tr th:only-of-type {\n",
       "        vertical-align: middle;\n",
       "    }\n",
       "\n",
       "    .dataframe tbody tr th {\n",
       "        vertical-align: top;\n",
       "    }\n",
       "\n",
       "    .dataframe thead th {\n",
       "        text-align: right;\n",
       "    }\n",
       "</style>\n",
       "<table border=\"1\" class=\"dataframe\">\n",
       "  <thead>\n",
       "    <tr style=\"text-align: right;\">\n",
       "      <th></th>\n",
       "      <th>count</th>\n",
       "      <th>mean</th>\n",
       "      <th>std</th>\n",
       "      <th>min</th>\n",
       "      <th>25%</th>\n",
       "      <th>50%</th>\n",
       "      <th>75%</th>\n",
       "      <th>max</th>\n",
       "      <th>range</th>\n",
       "      <th>iqr</th>\n",
       "      <th>min_whisker</th>\n",
       "      <th>max_whisker</th>\n",
       "      <th>skw</th>\n",
       "      <th>cv</th>\n",
       "    </tr>\n",
       "  </thead>\n",
       "  <tbody>\n",
       "    <tr>\n",
       "      <th>talk_time</th>\n",
       "      <td>2000.0</td>\n",
       "      <td>11.011</td>\n",
       "      <td>5.463955</td>\n",
       "      <td>2.0</td>\n",
       "      <td>6.0</td>\n",
       "      <td>11.0</td>\n",
       "      <td>16.0</td>\n",
       "      <td>20.0</td>\n",
       "      <td>18.0</td>\n",
       "      <td>10.0</td>\n",
       "      <td>-9.0</td>\n",
       "      <td>31.0</td>\n",
       "      <td>0.00604</td>\n",
       "      <td>49.622697</td>\n",
       "    </tr>\n",
       "  </tbody>\n",
       "</table>\n",
       "</div>"
      ],
      "text/plain": [
       "            count    mean       std  min  25%   50%   75%   max  range   iqr  \\\n",
       "talk_time  2000.0  11.011  5.463955  2.0  6.0  11.0  16.0  20.0   18.0  10.0   \n",
       "\n",
       "           min_whisker  max_whisker      skw         cv  \n",
       "talk_time         -9.0         31.0  0.00604  49.622697  "
      ]
     },
     "metadata": {},
     "output_type": "display_data"
    },
    {
     "data": {
      "image/png": "[encoded data removed]",
      "text/plain": [
       "<Figure size 1080x216 with 2 Axes>"
      ]
     },
     "metadata": {},
     "output_type": "display_data"
    },
    {
     "data": {
      "text/html": [
       "<div>\n",
       "<style scoped>\n",
       "    .dataframe tbody tr th:only-of-type {\n",
       "        vertical-align: middle;\n",
       "    }\n",
       "\n",
       "    .dataframe tbody tr th {\n",
       "        vertical-align: top;\n",
       "    }\n",
       "\n",
       "    .dataframe thead th {\n",
       "        text-align: right;\n",
       "    }\n",
       "</style>\n",
       "<table border=\"1\" class=\"dataframe\">\n",
       "  <thead>\n",
       "    <tr style=\"text-align: right;\">\n",
       "      <th></th>\n",
       "      <th>count</th>\n",
       "      <th>mean</th>\n",
       "      <th>std</th>\n",
       "      <th>min</th>\n",
       "      <th>25%</th>\n",
       "      <th>50%</th>\n",
       "      <th>75%</th>\n",
       "      <th>max</th>\n",
       "      <th>range</th>\n",
       "      <th>iqr</th>\n",
       "      <th>min_whisker</th>\n",
       "      <th>max_whisker</th>\n",
       "      <th>skw</th>\n",
       "      <th>cv</th>\n",
       "    </tr>\n",
       "  </thead>\n",
       "  <tbody>\n",
       "    <tr>\n",
       "      <th>md</th>\n",
       "      <td>2000.0</td>\n",
       "      <td>39.79385</td>\n",
       "      <td>50.200476</td>\n",
       "      <td>0.0</td>\n",
       "      <td>6.375</td>\n",
       "      <td>19.8</td>\n",
       "      <td>54.0</td>\n",
       "      <td>342.0</td>\n",
       "      <td>342.0</td>\n",
       "      <td>47.625</td>\n",
       "      <td>-65.0625</td>\n",
       "      <td>125.4375</td>\n",
       "      <td>1.19484</td>\n",
       "      <td>126.151341</td>\n",
       "    </tr>\n",
       "  </tbody>\n",
       "</table>\n",
       "</div>"
      ],
      "text/plain": [
       "     count      mean        std  min    25%   50%   75%    max  range     iqr  \\\n",
       "md  2000.0  39.79385  50.200476  0.0  6.375  19.8  54.0  342.0  342.0  47.625   \n",
       "\n",
       "    min_whisker  max_whisker      skw          cv  \n",
       "md     -65.0625     125.4375  1.19484  126.151341  "
      ]
     },
     "metadata": {},
     "output_type": "display_data"
    },
    {
     "data": {
      "image/png": "[encoded data removed]",
      "text/plain": [
       "<Figure size 1080x216 with 2 Axes>"
      ]
     },
     "metadata": {},
     "output_type": "display_data"
    },
    {
     "data": {
      "text/html": [
       "<div>\n",
       "<style scoped>\n",
       "    .dataframe tbody tr th:only-of-type {\n",
       "        vertical-align: middle;\n",
       "    }\n",
       "\n",
       "    .dataframe tbody tr th {\n",
       "        vertical-align: top;\n",
       "    }\n",
       "\n",
       "    .dataframe thead th {\n",
       "        text-align: right;\n",
       "    }\n",
       "</style>\n",
       "<table border=\"1\" class=\"dataframe\">\n",
       "  <thead>\n",
       "    <tr style=\"text-align: right;\">\n",
       "      <th></th>\n",
       "      <th>count</th>\n",
       "      <th>mean</th>\n",
       "      <th>std</th>\n",
       "      <th>min</th>\n",
       "      <th>25%</th>\n",
       "      <th>50%</th>\n",
       "      <th>75%</th>\n",
       "      <th>max</th>\n",
       "      <th>range</th>\n",
       "      <th>iqr</th>\n",
       "      <th>min_whisker</th>\n",
       "      <th>max_whisker</th>\n",
       "      <th>skw</th>\n",
       "      <th>cv</th>\n",
       "    </tr>\n",
       "  </thead>\n",
       "  <tbody>\n",
       "    <tr>\n",
       "      <th>reso</th>\n",
       "      <td>2000.0</td>\n",
       "      <td>905260.0535</td>\n",
       "      <td>829762.496935</td>\n",
       "      <td>0.0</td>\n",
       "      <td>263200.5</td>\n",
       "      <td>601359.0</td>\n",
       "      <td>1359027.25</td>\n",
       "      <td>3886306.0</td>\n",
       "      <td>3886306.0</td>\n",
       "      <td>1095826.75</td>\n",
       "      <td>-1380539.625</td>\n",
       "      <td>3002767.375</td>\n",
       "      <td>1.098752</td>\n",
       "      <td>91.660125</td>\n",
       "    </tr>\n",
       "  </tbody>\n",
       "</table>\n",
       "</div>"
      ],
      "text/plain": [
       "       count         mean            std  min       25%       50%         75%  \\\n",
       "reso  2000.0  905260.0535  829762.496935  0.0  263200.5  601359.0  1359027.25   \n",
       "\n",
       "            max      range         iqr  min_whisker  max_whisker       skw  \\\n",
       "reso  3886306.0  3886306.0  1095826.75 -1380539.625  3002767.375  1.098752   \n",
       "\n",
       "             cv  \n",
       "reso  91.660125  "
      ]
     },
     "metadata": {},
     "output_type": "display_data"
    }
   ],
   "source": [
    "sns.set(rc={'figure.figsize':[15,3]},font_scale=1.2)\n",
    "quanitative_uni(df,cont_var)"
   ]
  },
  {
   "cell_type": "code",
   "execution_count": 25,
   "id": "27cc792a",
   "metadata": {},
   "outputs": [
    {
     "data": {
      "text/plain": [
       "<AxesSubplot:xlabel='clock_speed', ylabel='count'>"
      ]
     },
     "execution_count": 25,
     "metadata": {},
     "output_type": "execute_result"
    },
    {
     "data": {
      "image/png": "[encoded data removed]",
      "text/plain": [
       "<Figure size 1080x216 with 1 Axes>"
      ]
     },
     "metadata": {},
     "output_type": "display_data"
    }
   ],
   "source": [
    "sns.set(rc={'figure.figsize':[15,3]},font_scale=1.2)\n",
    "sns.countplot(data=df,x='clock_speed',palette='rocket')"
   ]
  },
  {
   "cell_type": "code",
   "execution_count": 26,
   "id": "55bb277e",
   "metadata": {},
   "outputs": [
    {
     "data": {
      "text/plain": [
       "<AxesSubplot:xlabel='fc', ylabel='count'>"
      ]
     },
     "execution_count": 26,
     "metadata": {},
     "output_type": "execute_result"
    },
    {
     "data": {
      "image/png": "[encoded data removed]",
      "text/plain": [
       "<Figure size 1080x216 with 1 Axes>"
      ]
     },
     "metadata": {},
     "output_type": "display_data"
    }
   ],
   "source": [
    "sns.countplot(data=df,x='fc',palette='rocket')"
   ]
  },
  {
   "cell_type": "code",
   "execution_count": 27,
   "id": "49cfc6b6",
   "metadata": {
    "scrolled": true
   },
   "outputs": [
    {
     "data": {
      "text/plain": [
       "<AxesSubplot:xlabel='m_dep', ylabel='count'>"
      ]
     },
     "execution_count": 27,
     "metadata": {},
     "output_type": "execute_result"
    },
    {
     "data": {
      "image/png": "[encoded data removed]",
      "text/plain": [
       "<Figure size 1080x216 with 1 Axes>"
      ]
     },
     "metadata": {},
     "output_type": "display_data"
    }
   ],
   "source": [
    "sns.countplot(data=df,x='m_dep',palette='rocket')"
   ]
  },
  {
   "cell_type": "code",
   "execution_count": 28,
   "id": "baca238a",
   "metadata": {
    "scrolled": true
   },
   "outputs": [
    {
     "data": {
      "text/plain": [
       "<AxesSubplot:xlabel='n_cores', ylabel='count'>"
      ]
     },
     "execution_count": 28,
     "metadata": {},
     "output_type": "execute_result"
    },
    {
     "data": {
      "image/png": "[encoded data removed]",
      "text/plain": [
       "<Figure size 1080x216 with 1 Axes>"
      ]
     },
     "metadata": {},
     "output_type": "display_data"
    }
   ],
   "source": [
    "sns.countplot(data=df,x='n_cores',palette='mako')"
   ]
  },
  {
   "cell_type": "code",
   "execution_count": 29,
   "id": "1402b607",
   "metadata": {
    "scrolled": true
   },
   "outputs": [
    {
     "data": {
      "text/plain": [
       "<AxesSubplot:xlabel='pc', ylabel='count'>"
      ]
     },
     "execution_count": 29,
     "metadata": {},
     "output_type": "execute_result"
    },
    {
     "data": {
      "image/png": "[encoded data removed]",
      "text/plain": [
       "<Figure size 1080x216 with 1 Axes>"
      ]
     },
     "metadata": {},
     "output_type": "display_data"
    }
   ],
   "source": [
    "sns.countplot(data=df,x='pc',palette='mako')"
   ]
  },
  {
   "cell_type": "code",
   "execution_count": 30,
   "id": "994fd88f",
   "metadata": {
    "scrolled": true
   },
   "outputs": [
    {
     "data": {
      "text/plain": [
       "<AxesSubplot:xlabel='sc_h', ylabel='count'>"
      ]
     },
     "execution_count": 30,
     "metadata": {},
     "output_type": "execute_result"
    },
    {
     "data": {
      "image/png": "[encoded data removed]",
      "text/plain": [
       "<Figure size 1080x216 with 1 Axes>"
      ]
     },
     "metadata": {},
     "output_type": "display_data"
    }
   ],
   "source": [
    "sns.countplot(data=df,x='sc_h',palette='flare')"
   ]
  },
  {
   "cell_type": "code",
   "execution_count": 31,
   "id": "5c8a9395",
   "metadata": {
    "scrolled": true
   },
   "outputs": [
    {
     "data": {
      "text/plain": [
       "<AxesSubplot:xlabel='sc_w', ylabel='count'>"
      ]
     },
     "execution_count": 31,
     "metadata": {},
     "output_type": "execute_result"
    },
    {
     "data": {
      "image/png": "[encoded data removed]",
      "text/plain": [
       "<Figure size 1080x216 with 1 Axes>"
      ]
     },
     "metadata": {},
     "output_type": "display_data"
    }
   ],
   "source": [
    "sns.countplot(data=df,x='sc_w',palette='mako')"
   ]
  },
  {
   "cell_type": "code",
   "execution_count": 32,
   "id": "dbb4d892",
   "metadata": {
    "scrolled": true
   },
   "outputs": [
    {
     "data": {
      "text/plain": [
       "<AxesSubplot:xlabel='talk_time', ylabel='count'>"
      ]
     },
     "execution_count": 32,
     "metadata": {},
     "output_type": "execute_result"
    },
    {
     "data": {
      "image/png": "[encoded data removed]",
      "text/plain": [
       "<Figure size 1080x216 with 1 Axes>"
      ]
     },
     "metadata": {},
     "output_type": "display_data"
    }
   ],
   "source": [
    "sns.countplot(data=df,x='talk_time',palette='mako')"
   ]
  },
  {
   "cell_type": "markdown",
   "id": "f74fe3c8",
   "metadata": {},
   "source": [
    "#### Findings:\n",
    "<ol>\n",
    "<li>battery_power:measured by'mAh':\n",
    "    <ul>\n",
    "    <li>Almost follow uniform distribution with mean 1238.51 mAh & std 439.41 mAh which mean that about 66.6% of the population has battery_power in range (799.1 , 1677.92) mAh</li>\n",
    "    <li>Sample distribution almost follow the normal distribution with coffiecient of skewens 0.08.</li>\n",
    "    <li>The middle 50% of the data has battery_power range (851.75,1615.25) mAh, 75% of data has battery_power less than 1615.25 mAh, lowest 25% has battery_power less than 851.75 mAh and the highest 25% has battery_power greater than 1615.25 mAh .</li>\n",
    "   <li>battery_power has no outliers with minimum 501.0 mAh & maximum 1998.0 mAh.</li>\n",
    "    </ul>\n",
    "    </li>\n",
    "    \n",
    "<li>clock_speed 'speed at which microprocessor':\n",
    "    <ul>\n",
    "        <li>it's seems that it's unimodal with 0.5 as peak value, However the other values almost follow uniform distribution.</li>\n",
    "        <li>The middle 50% of the data has clock_speed range (0.7,2.2).</li>\n",
    "        <li>Sample distribution almost follow the normal distribution with coffiecient of skewens 0.081.</li>\n",
    "        <li>clock_speed has no outliers with minimum 0.5 & maximum 3.</li>\n",
    "    </ul>\n",
    "</li>\n",
    "    \n",
    "<li>fc 'Front Camera mega pixels':\n",
    "    <ul>\n",
    "        <li>has peak 0, while the middle 50% of the mobiles have fc with range(1,7) mega pixels.</li>\n",
    "        <li>Now we can see that fc has mega pixels greater than 16 with very small frequency that's why it's appear as outliers.</li>\n",
    "        <li>dataset has mobiles with minimum 0 & maximum 19 mega pixels on fc, which indicates that 0 means that mobile doesn't has front camera.</li>\n",
    "    </ul>\n",
    "</li>\n",
    "    \n",
    "<li>int_memory 'Internal Memory in Gigabytes':\n",
    "    <ul>\n",
    "        <li>it's a multimodal, with mean 32 & std 18 which mean that 66.6% of the mobiles has wight int_memory range (14,50).</li>\n",
    "        <li>The middle 50% of the mobiles have int_memory with range(16,48) Gigabytes, 75% of data has int_memory less than 48 Gigabytes.</li>\n",
    "        <li>No outliers with minimum 2 & maximum 64.</li>\n",
    "    </ul>\n",
    "</li>\n",
    "    \n",
    "<li>m_dep 'Mobile Depth in cm':\n",
    "    <ul>\n",
    "        <li>it's a unimodal on peak 0.1 cm, with mean 0.5 & std 0.29.</li>\n",
    "        <li>However the middle 50% of the mobiles have int_memory  ranges(0.2:0.8)cm included.</li>\n",
    "    </ul>\n",
    "</li>\n",
    "    \n",
    "<li>mobile_wt:\n",
    "    <ul>\n",
    "        <li>almost has a multimodal distribution, with mean 140.249 & std 35.399 which mean that 66.6% of the mobiles has wight 140.249 (+ or - )35.399.</li>\n",
    "        <li>the middle 50% of the mobiles have weight in range (109.0,170.0), 75% of data has mobile weight less than 170.0, the lowest 25% has battery_power less than 109.0 and the highest 25% has battery_power greater than 170.0.</li>\n",
    "        <li>Sample distribution almost follow the normal distribution with coffiecient of skewens -0.06.</li>\n",
    "        <li>No outliers with minimum min 80 & max 200.</li>\n",
    "    </ul>\n",
    "</li>\n",
    "    \n",
    "<li>n_cores 'Number of cores of processor':\n",
    "    <ul>\n",
    "        <li>it's ordinal variables, with maximum frequency on 4 core, However the middle 50% of the mobiles have n_cores range(3:7)included.</li>\n",
    "        <li>75% of data has n_cores less than 7, the lowest 25% has n_cores less than 3 and the highest 25% has n_cores greater than 7.</li>\n",
    "        <li>No outliers with minimum min 1 & max 8.</li>\n",
    "    </ul>\n",
    "</li>\n",
    "    \n",
    "<li>pc 'Primary Camera mega pixels':\n",
    "    <ul>\n",
    "        <li>it's a almost a bimodal with on (7 & 10) mega pixels as apeak, while the middle 50% of the mobiles have pc with range(5:15) mega pixels.</li>\n",
    "        <li>No outliers with minimum 0 & maximum 20 mega pixels on pc, which indicates that 0 means that mobile doesn't has primary camera.</li>\n",
    "    </ul>\n",
    "</li>\n",
    "    \n",
    "<li>px_height:\n",
    "    <ul>\n",
    "        <li>it's a almost a unimodal, while it's right skewed due to outliers with coffiecient of skewens 0.548.</li>\n",
    "        <li>px_height mean is 645.108 with (+ or - ) 443.780 std.</li>\n",
    "        <li>the middle 50% of the mobiles have px_height with range(282.75,947.25).</li>\n",
    "        <li>px_height range is 1960.0 with minimum 0 & maximum 1960.0 which appear as outliers.</li>\n",
    "    </ul>\n",
    "</li>\n",
    "\n",
    "<li>px_width:\n",
    "    <ul>\n",
    "        <li>it's a almost a multimodal, sample distribution almost follows normal distribution with coffiecient of skewens 0.548.</li>\n",
    "        <li>px_width mean is 1251.515 with (+ or - ) 432.199 std.</li>\n",
    "        <li>the middle 50% of the mobiles have px_width with range(874.75,1633.0).</li>\n",
    "        <li>px_height range is 1498.0 with minimum 500.0 & maximum 1998.0 without any outliers.</li>\n",
    "    </ul>\n",
    "</li>\n",
    "    \n",
    "<li>ram:\n",
    "    <ul>\n",
    "        <li>it's a almost a multimodal, sample distribution almost follows normal distribution with coffiecient of skewens -0.061.</li>\n",
    "        <li>ram mean is 2124.213 with (+ or - ) 1084.732 std.</li>\n",
    "        <li>the middle 50% of the mobiles on samples have ram with range(1207.5,3064.5).</li>\n",
    "        <li>ram range is 3742.0 with minimum 256.0 & maximum 3998.0 without any outliers.</li>\n",
    "    </ul>\n",
    "</li>\n",
    "    \n",
    "<li>sc_h:\n",
    "    <ul>\n",
    "        <li>has Top frequency on 17cm, However the middle 50% of the mobiles have int_memory  ranges(9.0:16.0)cm included, with mean 12.3 & std 4.21.</li>\n",
    "        <li>sc_h range is 14 with minimum 5 & maximum 19 without any outliers.</li>\n",
    "    </ul>\n",
    "</li>\n",
    "    \n",
    "<li>sc_w:\n",
    "    <ul>\n",
    "        <li>Top frequency on 1cm, However the middle 50% of the mobiles have sc_w  ranges(2.0:9.0)cm included.</li>\n",
    "        <li>sc_w range is 18 with minimum 0 & maximum 18 without any outliers.</li>\n",
    "    </ul>\n",
    "</li>\n",
    "    \n",
    "<li>talk_time:\n",
    "    <ul>\n",
    "        <li>Top frequency on 7, However the middle 50% of the mobiles single battery can last within ranges(6.0:16.0)h while talking time.</li>\n",
    "        <li>with no outliers feature has range is 18 with minimum 2 & maximum 20h.</li>\n",
    "    </ul>\n",
    "</li>\n",
    "    \n",
    "<li>md:\n",
    "    <ul>\n",
    "        <li>md feature we create as compute of mobile dimension has alot of outliers which so it might be not useful on our model, However it has mean 39.793 + or - 50.200 std.</li>\n",
    "        <li>it has Positive cofficient of skewenes 1.19 due to outliers .</li>\n",
    "        <li>the middle 50% of the mobiles md on samples have md with range(6.375,54.0).</li>\n",
    "        <li>md range is 342.0 with minimum 0 & maximum 342.0.</li>\n",
    "    </ul>\n",
    "</li>\n",
    "    \n",
    "<li>reso:\n",
    "    <ul>\n",
    "        <li>reso feature we create as compute of mobile resolution has alot of outliers which so it might be not useful on our model, However it has mean 905260.0535 + or - 829762.496 std.</li>\n",
    "        <li>It has Positive cofficient of skewenes 1.09 due to outliers .</li>\n",
    "        <li>the middle 50% of the mobiles reso on samples have ram with range(263200.5,1359027.25).</li>\n",
    "        <li>reso range is 3886306.0 with minimum 0 & maximum 3886306.0.</li>\n",
    "    </ul>\n",
    "</li>\n",
    "</ol>"
   ]
  },
  {
   "cell_type": "code",
   "execution_count": 33,
   "id": "2562039c",
   "metadata": {},
   "outputs": [],
   "source": [
    "def qualitative_uni(df):\n",
    "    for col in df.columns:\n",
    "        if df[col].nunique() <=10:\n",
    "            frequency = df[col].value_counts() \n",
    "            if df[col].nunique() <=4:\n",
    "                fig,axs = plt.subplots(1,2)\n",
    "                sns.countplot(data=df,x=col,ax=axs[0])\n",
    "                axs[1].pie(frequency,labels=frequency.index,autopct='%1.1f%%',startangle=90)\n",
    "                plt.suptitle(f'{col} frequency')\n",
    "            else:\n",
    "                fig,axs = plt.subplots(1,2)\n",
    "                sns.countplot(data=df,x=col,ax=axs[0])\n",
    "                plt.title(f'{col} frequency')\n",
    "            plt.show()\n",
    "            frequency =pd.DataFrame()\n",
    "            frequency['cnt'] = df[col].value_counts()\n",
    "            frequency['%']= df[col].value_counts()/len(df)*100\n",
    "            display(frequency.T)\n",
    "            print('*'*70)"
   ]
  },
  {
   "cell_type": "code",
   "execution_count": 34,
   "id": "3f26ba03",
   "metadata": {},
   "outputs": [],
   "source": [
    "sns.set_theme(palette=\"vlag\")"
   ]
  },
  {
   "cell_type": "code",
   "execution_count": 35,
   "id": "ebddd701",
   "metadata": {},
   "outputs": [
    {
     "data": {
      "image/png": "[encoded data removed]",
      "text/plain": [
       "<Figure size 1080x216 with 2 Axes>"
      ]
     },
     "metadata": {},
     "output_type": "display_data"
    },
    {
     "data": {
      "text/html": [
       "<div>\n",
       "<style scoped>\n",
       "    .dataframe tbody tr th:only-of-type {\n",
       "        vertical-align: middle;\n",
       "    }\n",
       "\n",
       "    .dataframe tbody tr th {\n",
       "        vertical-align: top;\n",
       "    }\n",
       "\n",
       "    .dataframe thead th {\n",
       "        text-align: right;\n",
       "    }\n",
       "</style>\n",
       "<table border=\"1\" class=\"dataframe\">\n",
       "  <thead>\n",
       "    <tr style=\"text-align: right;\">\n",
       "      <th></th>\n",
       "      <th>0</th>\n",
       "      <th>1</th>\n",
       "    </tr>\n",
       "  </thead>\n",
       "  <tbody>\n",
       "    <tr>\n",
       "      <th>cnt</th>\n",
       "      <td>1010.0</td>\n",
       "      <td>990.0</td>\n",
       "    </tr>\n",
       "    <tr>\n",
       "      <th>%</th>\n",
       "      <td>50.5</td>\n",
       "      <td>49.5</td>\n",
       "    </tr>\n",
       "  </tbody>\n",
       "</table>\n",
       "</div>"
      ],
      "text/plain": [
       "          0      1\n",
       "cnt  1010.0  990.0\n",
       "%      50.5   49.5"
      ]
     },
     "metadata": {},
     "output_type": "display_data"
    },
    {
     "name": "stdout",
     "output_type": "stream",
     "text": [
      "**********************************************************************\n"
     ]
    },
    {
     "ename": "KeyboardInterrupt",
     "evalue": "",
     "output_type": "error",
     "traceback": [
      "\u001b[1;31m---------------------------------------------------------------------------\u001b[0m",
      "\u001b[1;31mKeyboardInterrupt\u001b[0m                         Traceback (most recent call last)",
      "\u001b[1;32m~\\AppData\\Local\\Temp/ipykernel_17612/1596417613.py\u001b[0m in \u001b[0;36m<module>\u001b[1;34m\u001b[0m\n\u001b[1;32m----> 1\u001b[1;33m \u001b[0mqualitative_uni\u001b[0m\u001b[1;33m(\u001b[0m\u001b[0mdf\u001b[0m\u001b[1;33m)\u001b[0m\u001b[1;33m\u001b[0m\u001b[1;33m\u001b[0m\u001b[0m\n\u001b[0m",
      "\u001b[1;32m~\\AppData\\Local\\Temp/ipykernel_17612/644994016.py\u001b[0m in \u001b[0;36mqualitative_uni\u001b[1;34m(df)\u001b[0m\n\u001b[0;32m      4\u001b[0m             \u001b[0mfrequency\u001b[0m \u001b[1;33m=\u001b[0m \u001b[0mdf\u001b[0m\u001b[1;33m[\u001b[0m\u001b[0mcol\u001b[0m\u001b[1;33m]\u001b[0m\u001b[1;33m.\u001b[0m\u001b[0mvalue_counts\u001b[0m\u001b[1;33m(\u001b[0m\u001b[1;33m)\u001b[0m\u001b[1;33m\u001b[0m\u001b[1;33m\u001b[0m\u001b[0m\n\u001b[0;32m      5\u001b[0m             \u001b[1;32mif\u001b[0m \u001b[0mdf\u001b[0m\u001b[1;33m[\u001b[0m\u001b[0mcol\u001b[0m\u001b[1;33m]\u001b[0m\u001b[1;33m.\u001b[0m\u001b[0mnunique\u001b[0m\u001b[1;33m(\u001b[0m\u001b[1;33m)\u001b[0m \u001b[1;33m<=\u001b[0m\u001b[1;36m4\u001b[0m\u001b[1;33m:\u001b[0m\u001b[1;33m\u001b[0m\u001b[1;33m\u001b[0m\u001b[0m\n\u001b[1;32m----> 6\u001b[1;33m                 \u001b[0mfig\u001b[0m\u001b[1;33m,\u001b[0m\u001b[0maxs\u001b[0m \u001b[1;33m=\u001b[0m \u001b[0mplt\u001b[0m\u001b[1;33m.\u001b[0m\u001b[0msubplots\u001b[0m\u001b[1;33m(\u001b[0m\u001b[1;36m1\u001b[0m\u001b[1;33m,\u001b[0m\u001b[1;36m2\u001b[0m\u001b[1;33m)\u001b[0m\u001b[1;33m\u001b[0m\u001b[1;33m\u001b[0m\u001b[0m\n\u001b[0m\u001b[0;32m      7\u001b[0m                 \u001b[0msns\u001b[0m\u001b[1;33m.\u001b[0m\u001b[0mcountplot\u001b[0m\u001b[1;33m(\u001b[0m\u001b[0mdata\u001b[0m\u001b[1;33m=\u001b[0m\u001b[0mdf\u001b[0m\u001b[1;33m,\u001b[0m\u001b[0mx\u001b[0m\u001b[1;33m=\u001b[0m\u001b[0mcol\u001b[0m\u001b[1;33m,\u001b[0m\u001b[0max\u001b[0m\u001b[1;33m=\u001b[0m\u001b[0maxs\u001b[0m\u001b[1;33m[\u001b[0m\u001b[1;36m0\u001b[0m\u001b[1;33m]\u001b[0m\u001b[1;33m)\u001b[0m\u001b[1;33m\u001b[0m\u001b[1;33m\u001b[0m\u001b[0m\n\u001b[0;32m      8\u001b[0m                 \u001b[0maxs\u001b[0m\u001b[1;33m[\u001b[0m\u001b[1;36m1\u001b[0m\u001b[1;33m]\u001b[0m\u001b[1;33m.\u001b[0m\u001b[0mpie\u001b[0m\u001b[1;33m(\u001b[0m\u001b[0mfrequency\u001b[0m\u001b[1;33m,\u001b[0m\u001b[0mlabels\u001b[0m\u001b[1;33m=\u001b[0m\u001b[0mfrequency\u001b[0m\u001b[1;33m.\u001b[0m\u001b[0mindex\u001b[0m\u001b[1;33m,\u001b[0m\u001b[0mautopct\u001b[0m\u001b[1;33m=\u001b[0m\u001b[1;34m'%1.1f%%'\u001b[0m\u001b[1;33m,\u001b[0m\u001b[0mstartangle\u001b[0m\u001b[1;33m=\u001b[0m\u001b[1;36m90\u001b[0m\u001b[1;33m)\u001b[0m\u001b[1;33m\u001b[0m\u001b[1;33m\u001b[0m\u001b[0m\n",
      "\u001b[1;32m~\\anaconda3\\lib\\site-packages\\matplotlib\\_api\\deprecation.py\u001b[0m in \u001b[0;36mwrapper\u001b[1;34m(*args, **kwargs)\u001b[0m\n\u001b[0;32m    469\u001b[0m                 \u001b[1;34m\"parameter will become keyword-only %(removal)s.\"\u001b[0m\u001b[1;33m,\u001b[0m\u001b[1;33m\u001b[0m\u001b[1;33m\u001b[0m\u001b[0m\n\u001b[0;32m    470\u001b[0m                 name=name, obj_type=f\"parameter of {func.__name__}()\")\n\u001b[1;32m--> 471\u001b[1;33m         \u001b[1;32mreturn\u001b[0m \u001b[0mfunc\u001b[0m\u001b[1;33m(\u001b[0m\u001b[1;33m*\u001b[0m\u001b[0margs\u001b[0m\u001b[1;33m,\u001b[0m \u001b[1;33m**\u001b[0m\u001b[0mkwargs\u001b[0m\u001b[1;33m)\u001b[0m\u001b[1;33m\u001b[0m\u001b[1;33m\u001b[0m\u001b[0m\n\u001b[0m\u001b[0;32m    472\u001b[0m \u001b[1;33m\u001b[0m\u001b[0m\n\u001b[0;32m    473\u001b[0m     \u001b[1;32mreturn\u001b[0m \u001b[0mwrapper\u001b[0m\u001b[1;33m\u001b[0m\u001b[1;33m\u001b[0m\u001b[0m\n",
      "\u001b[1;32m~\\anaconda3\\lib\\site-packages\\matplotlib\\pyplot.py\u001b[0m in \u001b[0;36msubplots\u001b[1;34m(nrows, ncols, sharex, sharey, squeeze, subplot_kw, gridspec_kw, **fig_kw)\u001b[0m\n\u001b[0;32m   1438\u001b[0m     \"\"\"\n\u001b[0;32m   1439\u001b[0m     \u001b[0mfig\u001b[0m \u001b[1;33m=\u001b[0m \u001b[0mfigure\u001b[0m\u001b[1;33m(\u001b[0m\u001b[1;33m**\u001b[0m\u001b[0mfig_kw\u001b[0m\u001b[1;33m)\u001b[0m\u001b[1;33m\u001b[0m\u001b[1;33m\u001b[0m\u001b[0m\n\u001b[1;32m-> 1440\u001b[1;33m     axs = fig.subplots(nrows=nrows, ncols=ncols, sharex=sharex, sharey=sharey,\n\u001b[0m\u001b[0;32m   1441\u001b[0m                        \u001b[0msqueeze\u001b[0m\u001b[1;33m=\u001b[0m\u001b[0msqueeze\u001b[0m\u001b[1;33m,\u001b[0m \u001b[0msubplot_kw\u001b[0m\u001b[1;33m=\u001b[0m\u001b[0msubplot_kw\u001b[0m\u001b[1;33m,\u001b[0m\u001b[1;33m\u001b[0m\u001b[1;33m\u001b[0m\u001b[0m\n\u001b[0;32m   1442\u001b[0m                        gridspec_kw=gridspec_kw)\n",
      "\u001b[1;32m~\\anaconda3\\lib\\site-packages\\matplotlib\\_api\\deprecation.py\u001b[0m in \u001b[0;36mwrapper\u001b[1;34m(*args, **kwargs)\u001b[0m\n\u001b[0;32m    469\u001b[0m                 \u001b[1;34m\"parameter will become keyword-only %(removal)s.\"\u001b[0m\u001b[1;33m,\u001b[0m\u001b[1;33m\u001b[0m\u001b[1;33m\u001b[0m\u001b[0m\n\u001b[0;32m    470\u001b[0m                 name=name, obj_type=f\"parameter of {func.__name__}()\")\n\u001b[1;32m--> 471\u001b[1;33m         \u001b[1;32mreturn\u001b[0m \u001b[0mfunc\u001b[0m\u001b[1;33m(\u001b[0m\u001b[1;33m*\u001b[0m\u001b[0margs\u001b[0m\u001b[1;33m,\u001b[0m \u001b[1;33m**\u001b[0m\u001b[0mkwargs\u001b[0m\u001b[1;33m)\u001b[0m\u001b[1;33m\u001b[0m\u001b[1;33m\u001b[0m\u001b[0m\n\u001b[0m\u001b[0;32m    472\u001b[0m \u001b[1;33m\u001b[0m\u001b[0m\n\u001b[0;32m    473\u001b[0m     \u001b[1;32mreturn\u001b[0m \u001b[0mwrapper\u001b[0m\u001b[1;33m\u001b[0m\u001b[1;33m\u001b[0m\u001b[0m\n",
      "\u001b[1;32m~\\anaconda3\\lib\\site-packages\\matplotlib\\figure.py\u001b[0m in \u001b[0;36msubplots\u001b[1;34m(self, nrows, ncols, sharex, sharey, squeeze, subplot_kw, gridspec_kw)\u001b[0m\n\u001b[0;32m    909\u001b[0m             \u001b[0mgridspec_kw\u001b[0m \u001b[1;33m=\u001b[0m \u001b[1;33m{\u001b[0m\u001b[1;33m}\u001b[0m\u001b[1;33m\u001b[0m\u001b[1;33m\u001b[0m\u001b[0m\n\u001b[0;32m    910\u001b[0m         \u001b[0mgs\u001b[0m \u001b[1;33m=\u001b[0m \u001b[0mself\u001b[0m\u001b[1;33m.\u001b[0m\u001b[0madd_gridspec\u001b[0m\u001b[1;33m(\u001b[0m\u001b[0mnrows\u001b[0m\u001b[1;33m,\u001b[0m \u001b[0mncols\u001b[0m\u001b[1;33m,\u001b[0m \u001b[0mfigure\u001b[0m\u001b[1;33m=\u001b[0m\u001b[0mself\u001b[0m\u001b[1;33m,\u001b[0m \u001b[1;33m**\u001b[0m\u001b[0mgridspec_kw\u001b[0m\u001b[1;33m)\u001b[0m\u001b[1;33m\u001b[0m\u001b[1;33m\u001b[0m\u001b[0m\n\u001b[1;32m--> 911\u001b[1;33m         axs = gs.subplots(sharex=sharex, sharey=sharey, squeeze=squeeze,\n\u001b[0m\u001b[0;32m    912\u001b[0m                           subplot_kw=subplot_kw)\n\u001b[0;32m    913\u001b[0m         \u001b[1;32mreturn\u001b[0m \u001b[0maxs\u001b[0m\u001b[1;33m\u001b[0m\u001b[1;33m\u001b[0m\u001b[0m\n",
      "\u001b[1;32m~\\anaconda3\\lib\\site-packages\\matplotlib\\gridspec.py\u001b[0m in \u001b[0;36msubplots\u001b[1;34m(self, sharex, sharey, squeeze, subplot_kw)\u001b[0m\n\u001b[0;32m    305\u001b[0m                 \u001b[0msubplot_kw\u001b[0m\u001b[1;33m[\u001b[0m\u001b[1;34m\"sharex\"\u001b[0m\u001b[1;33m]\u001b[0m \u001b[1;33m=\u001b[0m \u001b[0mshared_with\u001b[0m\u001b[1;33m[\u001b[0m\u001b[0msharex\u001b[0m\u001b[1;33m]\u001b[0m\u001b[1;33m\u001b[0m\u001b[1;33m\u001b[0m\u001b[0m\n\u001b[0;32m    306\u001b[0m                 \u001b[0msubplot_kw\u001b[0m\u001b[1;33m[\u001b[0m\u001b[1;34m\"sharey\"\u001b[0m\u001b[1;33m]\u001b[0m \u001b[1;33m=\u001b[0m \u001b[0mshared_with\u001b[0m\u001b[1;33m[\u001b[0m\u001b[0msharey\u001b[0m\u001b[1;33m]\u001b[0m\u001b[1;33m\u001b[0m\u001b[1;33m\u001b[0m\u001b[0m\n\u001b[1;32m--> 307\u001b[1;33m                 axarr[row, col] = figure.add_subplot(\n\u001b[0m\u001b[0;32m    308\u001b[0m                     self[row, col], **subplot_kw)\n\u001b[0;32m    309\u001b[0m \u001b[1;33m\u001b[0m\u001b[0m\n",
      "\u001b[1;32m~\\anaconda3\\lib\\site-packages\\matplotlib\\figure.py\u001b[0m in \u001b[0;36madd_subplot\u001b[1;34m(self, *args, **kwargs)\u001b[0m\n\u001b[0;32m    782\u001b[0m             projection_class, pkw = self._process_projection_requirements(\n\u001b[0;32m    783\u001b[0m                 *args, **kwargs)\n\u001b[1;32m--> 784\u001b[1;33m             \u001b[0max\u001b[0m \u001b[1;33m=\u001b[0m \u001b[0msubplot_class_factory\u001b[0m\u001b[1;33m(\u001b[0m\u001b[0mprojection_class\u001b[0m\u001b[1;33m)\u001b[0m\u001b[1;33m(\u001b[0m\u001b[0mself\u001b[0m\u001b[1;33m,\u001b[0m \u001b[1;33m*\u001b[0m\u001b[0margs\u001b[0m\u001b[1;33m,\u001b[0m \u001b[1;33m**\u001b[0m\u001b[0mpkw\u001b[0m\u001b[1;33m)\u001b[0m\u001b[1;33m\u001b[0m\u001b[1;33m\u001b[0m\u001b[0m\n\u001b[0m\u001b[0;32m    785\u001b[0m             \u001b[0mkey\u001b[0m \u001b[1;33m=\u001b[0m \u001b[1;33m(\u001b[0m\u001b[0mprojection_class\u001b[0m\u001b[1;33m,\u001b[0m \u001b[0mpkw\u001b[0m\u001b[1;33m)\u001b[0m\u001b[1;33m\u001b[0m\u001b[1;33m\u001b[0m\u001b[0m\n\u001b[0;32m    786\u001b[0m         \u001b[1;32mreturn\u001b[0m \u001b[0mself\u001b[0m\u001b[1;33m.\u001b[0m\u001b[0m_add_axes_internal\u001b[0m\u001b[1;33m(\u001b[0m\u001b[0max\u001b[0m\u001b[1;33m,\u001b[0m \u001b[0mkey\u001b[0m\u001b[1;33m)\u001b[0m\u001b[1;33m\u001b[0m\u001b[1;33m\u001b[0m\u001b[0m\n",
      "\u001b[1;32m~\\anaconda3\\lib\\site-packages\\matplotlib\\axes\\_subplots.py\u001b[0m in \u001b[0;36m__init__\u001b[1;34m(self, fig, *args, **kwargs)\u001b[0m\n\u001b[0;32m     34\u001b[0m         \"\"\"\n\u001b[0;32m     35\u001b[0m         \u001b[1;31m# _axes_class is set in the subplot_class_factory\u001b[0m\u001b[1;33m\u001b[0m\u001b[1;33m\u001b[0m\u001b[0m\n\u001b[1;32m---> 36\u001b[1;33m         \u001b[0mself\u001b[0m\u001b[1;33m.\u001b[0m\u001b[0m_axes_class\u001b[0m\u001b[1;33m.\u001b[0m\u001b[0m__init__\u001b[0m\u001b[1;33m(\u001b[0m\u001b[0mself\u001b[0m\u001b[1;33m,\u001b[0m \u001b[0mfig\u001b[0m\u001b[1;33m,\u001b[0m \u001b[1;33m[\u001b[0m\u001b[1;36m0\u001b[0m\u001b[1;33m,\u001b[0m \u001b[1;36m0\u001b[0m\u001b[1;33m,\u001b[0m \u001b[1;36m1\u001b[0m\u001b[1;33m,\u001b[0m \u001b[1;36m1\u001b[0m\u001b[1;33m]\u001b[0m\u001b[1;33m,\u001b[0m \u001b[1;33m**\u001b[0m\u001b[0mkwargs\u001b[0m\u001b[1;33m)\u001b[0m\u001b[1;33m\u001b[0m\u001b[1;33m\u001b[0m\u001b[0m\n\u001b[0m\u001b[0;32m     37\u001b[0m         \u001b[1;31m# This will also update the axes position.\u001b[0m\u001b[1;33m\u001b[0m\u001b[1;33m\u001b[0m\u001b[0m\n\u001b[0;32m     38\u001b[0m         \u001b[0mself\u001b[0m\u001b[1;33m.\u001b[0m\u001b[0mset_subplotspec\u001b[0m\u001b[1;33m(\u001b[0m\u001b[0mSubplotSpec\u001b[0m\u001b[1;33m.\u001b[0m\u001b[0m_from_subplot_args\u001b[0m\u001b[1;33m(\u001b[0m\u001b[0mfig\u001b[0m\u001b[1;33m,\u001b[0m \u001b[0margs\u001b[0m\u001b[1;33m)\u001b[0m\u001b[1;33m)\u001b[0m\u001b[1;33m\u001b[0m\u001b[1;33m\u001b[0m\u001b[0m\n",
      "\u001b[1;32m~\\anaconda3\\lib\\site-packages\\matplotlib\\_api\\deprecation.py\u001b[0m in \u001b[0;36mwrapper\u001b[1;34m(*args, **kwargs)\u001b[0m\n\u001b[0;32m    469\u001b[0m                 \u001b[1;34m\"parameter will become keyword-only %(removal)s.\"\u001b[0m\u001b[1;33m,\u001b[0m\u001b[1;33m\u001b[0m\u001b[1;33m\u001b[0m\u001b[0m\n\u001b[0;32m    470\u001b[0m                 name=name, obj_type=f\"parameter of {func.__name__}()\")\n\u001b[1;32m--> 471\u001b[1;33m         \u001b[1;32mreturn\u001b[0m \u001b[0mfunc\u001b[0m\u001b[1;33m(\u001b[0m\u001b[1;33m*\u001b[0m\u001b[0margs\u001b[0m\u001b[1;33m,\u001b[0m \u001b[1;33m**\u001b[0m\u001b[0mkwargs\u001b[0m\u001b[1;33m)\u001b[0m\u001b[1;33m\u001b[0m\u001b[1;33m\u001b[0m\u001b[0m\n\u001b[0m\u001b[0;32m    472\u001b[0m \u001b[1;33m\u001b[0m\u001b[0m\n\u001b[0;32m    473\u001b[0m     \u001b[1;32mreturn\u001b[0m \u001b[0mwrapper\u001b[0m\u001b[1;33m\u001b[0m\u001b[1;33m\u001b[0m\u001b[0m\n",
      "\u001b[1;32m~\\anaconda3\\lib\\site-packages\\matplotlib\\axes\\_base.py\u001b[0m in \u001b[0;36m__init__\u001b[1;34m(self, fig, rect, facecolor, frameon, sharex, sharey, label, xscale, yscale, box_aspect, **kwargs)\u001b[0m\n\u001b[0;32m    632\u001b[0m \u001b[1;33m\u001b[0m\u001b[0m\n\u001b[0;32m    633\u001b[0m         \u001b[0mself\u001b[0m\u001b[1;33m.\u001b[0m\u001b[0m_rasterization_zorder\u001b[0m \u001b[1;33m=\u001b[0m \u001b[1;32mNone\u001b[0m\u001b[1;33m\u001b[0m\u001b[1;33m\u001b[0m\u001b[0m\n\u001b[1;32m--> 634\u001b[1;33m         \u001b[0mself\u001b[0m\u001b[1;33m.\u001b[0m\u001b[0mcla\u001b[0m\u001b[1;33m(\u001b[0m\u001b[1;33m)\u001b[0m\u001b[1;33m\u001b[0m\u001b[1;33m\u001b[0m\u001b[0m\n\u001b[0m\u001b[0;32m    635\u001b[0m \u001b[1;33m\u001b[0m\u001b[0m\n\u001b[0;32m    636\u001b[0m         \u001b[1;31m# funcs used to format x and y - fall back on major formatters\u001b[0m\u001b[1;33m\u001b[0m\u001b[1;33m\u001b[0m\u001b[0m\n",
      "\u001b[1;32m~\\anaconda3\\lib\\site-packages\\matplotlib\\axes\\_base.py\u001b[0m in \u001b[0;36mcla\u001b[1;34m(self)\u001b[0m\n\u001b[0;32m   1294\u001b[0m         \u001b[0mself\u001b[0m\u001b[1;33m.\u001b[0m\u001b[0mset_axis_on\u001b[0m\u001b[1;33m(\u001b[0m\u001b[1;33m)\u001b[0m\u001b[1;33m\u001b[0m\u001b[1;33m\u001b[0m\u001b[0m\n\u001b[0;32m   1295\u001b[0m \u001b[1;33m\u001b[0m\u001b[0m\n\u001b[1;32m-> 1296\u001b[1;33m         \u001b[0mself\u001b[0m\u001b[1;33m.\u001b[0m\u001b[0mxaxis\u001b[0m\u001b[1;33m.\u001b[0m\u001b[0mset_clip_path\u001b[0m\u001b[1;33m(\u001b[0m\u001b[0mself\u001b[0m\u001b[1;33m.\u001b[0m\u001b[0mpatch\u001b[0m\u001b[1;33m)\u001b[0m\u001b[1;33m\u001b[0m\u001b[1;33m\u001b[0m\u001b[0m\n\u001b[0m\u001b[0;32m   1297\u001b[0m         \u001b[0mself\u001b[0m\u001b[1;33m.\u001b[0m\u001b[0myaxis\u001b[0m\u001b[1;33m.\u001b[0m\u001b[0mset_clip_path\u001b[0m\u001b[1;33m(\u001b[0m\u001b[0mself\u001b[0m\u001b[1;33m.\u001b[0m\u001b[0mpatch\u001b[0m\u001b[1;33m)\u001b[0m\u001b[1;33m\u001b[0m\u001b[1;33m\u001b[0m\u001b[0m\n\u001b[0;32m   1298\u001b[0m \u001b[1;33m\u001b[0m\u001b[0m\n",
      "\u001b[1;32m~\\anaconda3\\lib\\site-packages\\matplotlib\\axis.py\u001b[0m in \u001b[0;36mset_clip_path\u001b[1;34m(self, clippath, transform)\u001b[0m\n\u001b[0;32m    916\u001b[0m \u001b[1;33m\u001b[0m\u001b[0m\n\u001b[0;32m    917\u001b[0m     \u001b[1;32mdef\u001b[0m \u001b[0mset_clip_path\u001b[0m\u001b[1;33m(\u001b[0m\u001b[0mself\u001b[0m\u001b[1;33m,\u001b[0m \u001b[0mclippath\u001b[0m\u001b[1;33m,\u001b[0m \u001b[0mtransform\u001b[0m\u001b[1;33m=\u001b[0m\u001b[1;32mNone\u001b[0m\u001b[1;33m)\u001b[0m\u001b[1;33m:\u001b[0m\u001b[1;33m\u001b[0m\u001b[1;33m\u001b[0m\u001b[0m\n\u001b[1;32m--> 918\u001b[1;33m         \u001b[0msuper\u001b[0m\u001b[1;33m(\u001b[0m\u001b[1;33m)\u001b[0m\u001b[1;33m.\u001b[0m\u001b[0mset_clip_path\u001b[0m\u001b[1;33m(\u001b[0m\u001b[0mclippath\u001b[0m\u001b[1;33m,\u001b[0m \u001b[0mtransform\u001b[0m\u001b[1;33m)\u001b[0m\u001b[1;33m\u001b[0m\u001b[1;33m\u001b[0m\u001b[0m\n\u001b[0m\u001b[0;32m    919\u001b[0m         \u001b[1;32mfor\u001b[0m \u001b[0mchild\u001b[0m \u001b[1;32min\u001b[0m \u001b[0mself\u001b[0m\u001b[1;33m.\u001b[0m\u001b[0mmajorTicks\u001b[0m \u001b[1;33m+\u001b[0m \u001b[0mself\u001b[0m\u001b[1;33m.\u001b[0m\u001b[0mminorTicks\u001b[0m\u001b[1;33m:\u001b[0m\u001b[1;33m\u001b[0m\u001b[1;33m\u001b[0m\u001b[0m\n\u001b[0;32m    920\u001b[0m             \u001b[0mchild\u001b[0m\u001b[1;33m.\u001b[0m\u001b[0mset_clip_path\u001b[0m\u001b[1;33m(\u001b[0m\u001b[0mclippath\u001b[0m\u001b[1;33m,\u001b[0m \u001b[0mtransform\u001b[0m\u001b[1;33m)\u001b[0m\u001b[1;33m\u001b[0m\u001b[1;33m\u001b[0m\u001b[0m\n",
      "\u001b[1;32m~\\anaconda3\\lib\\site-packages\\matplotlib\\artist.py\u001b[0m in \u001b[0;36mset_clip_path\u001b[1;34m(self, path, transform)\u001b[0m\n\u001b[0;32m    778\u001b[0m             \u001b[1;32mif\u001b[0m \u001b[0misinstance\u001b[0m\u001b[1;33m(\u001b[0m\u001b[0mpath\u001b[0m\u001b[1;33m,\u001b[0m \u001b[0mRectangle\u001b[0m\u001b[1;33m)\u001b[0m\u001b[1;33m:\u001b[0m\u001b[1;33m\u001b[0m\u001b[1;33m\u001b[0m\u001b[0m\n\u001b[0;32m    779\u001b[0m                 self.clipbox = TransformedBbox(Bbox.unit(),\n\u001b[1;32m--> 780\u001b[1;33m                                                path.get_transform())\n\u001b[0m\u001b[0;32m    781\u001b[0m                 \u001b[0mself\u001b[0m\u001b[1;33m.\u001b[0m\u001b[0m_clippath\u001b[0m \u001b[1;33m=\u001b[0m \u001b[1;32mNone\u001b[0m\u001b[1;33m\u001b[0m\u001b[1;33m\u001b[0m\u001b[0m\n\u001b[0;32m    782\u001b[0m                 \u001b[0msuccess\u001b[0m \u001b[1;33m=\u001b[0m \u001b[1;32mTrue\u001b[0m\u001b[1;33m\u001b[0m\u001b[1;33m\u001b[0m\u001b[0m\n",
      "\u001b[1;32m~\\anaconda3\\lib\\site-packages\\matplotlib\\patches.py\u001b[0m in \u001b[0;36mget_transform\u001b[1;34m(self)\u001b[0m\n\u001b[0;32m    271\u001b[0m     \u001b[1;32mdef\u001b[0m \u001b[0mget_transform\u001b[0m\u001b[1;33m(\u001b[0m\u001b[0mself\u001b[0m\u001b[1;33m)\u001b[0m\u001b[1;33m:\u001b[0m\u001b[1;33m\u001b[0m\u001b[1;33m\u001b[0m\u001b[0m\n\u001b[0;32m    272\u001b[0m         \u001b[1;34m\"\"\"Return the `~.transforms.Transform` applied to the `Patch`.\"\"\"\u001b[0m\u001b[1;33m\u001b[0m\u001b[1;33m\u001b[0m\u001b[0m\n\u001b[1;32m--> 273\u001b[1;33m         \u001b[1;32mreturn\u001b[0m \u001b[0mself\u001b[0m\u001b[1;33m.\u001b[0m\u001b[0mget_patch_transform\u001b[0m\u001b[1;33m(\u001b[0m\u001b[1;33m)\u001b[0m \u001b[1;33m+\u001b[0m \u001b[0martist\u001b[0m\u001b[1;33m.\u001b[0m\u001b[0mArtist\u001b[0m\u001b[1;33m.\u001b[0m\u001b[0mget_transform\u001b[0m\u001b[1;33m(\u001b[0m\u001b[0mself\u001b[0m\u001b[1;33m)\u001b[0m\u001b[1;33m\u001b[0m\u001b[1;33m\u001b[0m\u001b[0m\n\u001b[0m\u001b[0;32m    274\u001b[0m \u001b[1;33m\u001b[0m\u001b[0m\n\u001b[0;32m    275\u001b[0m     \u001b[1;32mdef\u001b[0m \u001b[0mget_data_transform\u001b[0m\u001b[1;33m(\u001b[0m\u001b[0mself\u001b[0m\u001b[1;33m)\u001b[0m\u001b[1;33m:\u001b[0m\u001b[1;33m\u001b[0m\u001b[1;33m\u001b[0m\u001b[0m\n",
      "\u001b[1;32m~\\anaconda3\\lib\\site-packages\\matplotlib\\patches.py\u001b[0m in \u001b[0;36mget_patch_transform\u001b[1;34m(self)\u001b[0m\n\u001b[0;32m    777\u001b[0m         \u001b[0mbbox\u001b[0m \u001b[1;33m=\u001b[0m \u001b[0mself\u001b[0m\u001b[1;33m.\u001b[0m\u001b[0mget_bbox\u001b[0m\u001b[1;33m(\u001b[0m\u001b[1;33m)\u001b[0m\u001b[1;33m\u001b[0m\u001b[1;33m\u001b[0m\u001b[0m\n\u001b[0;32m    778\u001b[0m         return (transforms.BboxTransformTo(bbox)\n\u001b[1;32m--> 779\u001b[1;33m                 + transforms.Affine2D().rotate_deg_around(\n\u001b[0m\u001b[0;32m    780\u001b[0m                     bbox.x0, bbox.y0, self.angle))\n\u001b[0;32m    781\u001b[0m \u001b[1;33m\u001b[0m\u001b[0m\n",
      "\u001b[1;32m~\\anaconda3\\lib\\site-packages\\matplotlib\\transforms.py\u001b[0m in \u001b[0;36mrotate_deg_around\u001b[1;34m(self, x, y, degrees)\u001b[0m\n\u001b[0;32m   2000\u001b[0m         \u001b[1;31m# Cast to float to avoid wraparound issues with uint8's\u001b[0m\u001b[1;33m\u001b[0m\u001b[1;33m\u001b[0m\u001b[0m\n\u001b[0;32m   2001\u001b[0m         \u001b[0mx\u001b[0m\u001b[1;33m,\u001b[0m \u001b[0my\u001b[0m \u001b[1;33m=\u001b[0m \u001b[0mfloat\u001b[0m\u001b[1;33m(\u001b[0m\u001b[0mx\u001b[0m\u001b[1;33m)\u001b[0m\u001b[1;33m,\u001b[0m \u001b[0mfloat\u001b[0m\u001b[1;33m(\u001b[0m\u001b[0my\u001b[0m\u001b[1;33m)\u001b[0m\u001b[1;33m\u001b[0m\u001b[1;33m\u001b[0m\u001b[0m\n\u001b[1;32m-> 2002\u001b[1;33m         \u001b[1;32mreturn\u001b[0m \u001b[0mself\u001b[0m\u001b[1;33m.\u001b[0m\u001b[0mtranslate\u001b[0m\u001b[1;33m(\u001b[0m\u001b[1;33m-\u001b[0m\u001b[0mx\u001b[0m\u001b[1;33m,\u001b[0m \u001b[1;33m-\u001b[0m\u001b[0my\u001b[0m\u001b[1;33m)\u001b[0m\u001b[1;33m.\u001b[0m\u001b[0mrotate_deg\u001b[0m\u001b[1;33m(\u001b[0m\u001b[0mdegrees\u001b[0m\u001b[1;33m)\u001b[0m\u001b[1;33m.\u001b[0m\u001b[0mtranslate\u001b[0m\u001b[1;33m(\u001b[0m\u001b[0mx\u001b[0m\u001b[1;33m,\u001b[0m \u001b[0my\u001b[0m\u001b[1;33m)\u001b[0m\u001b[1;33m\u001b[0m\u001b[1;33m\u001b[0m\u001b[0m\n\u001b[0m\u001b[0;32m   2003\u001b[0m \u001b[1;33m\u001b[0m\u001b[0m\n\u001b[0;32m   2004\u001b[0m     \u001b[1;32mdef\u001b[0m \u001b[0mtranslate\u001b[0m\u001b[1;33m(\u001b[0m\u001b[0mself\u001b[0m\u001b[1;33m,\u001b[0m \u001b[0mtx\u001b[0m\u001b[1;33m,\u001b[0m \u001b[0mty\u001b[0m\u001b[1;33m)\u001b[0m\u001b[1;33m:\u001b[0m\u001b[1;33m\u001b[0m\u001b[1;33m\u001b[0m\u001b[0m\n",
      "\u001b[1;32m~\\anaconda3\\lib\\site-packages\\matplotlib\\transforms.py\u001b[0m in \u001b[0;36mrotate_deg\u001b[1;34m(self, degrees)\u001b[0m\n\u001b[0;32m   1978\u001b[0m         \u001b[1;32mand\u001b[0m \u001b[1;33m:\u001b[0m\u001b[0mmeth\u001b[0m\u001b[1;33m:\u001b[0m\u001b[0;31m`\u001b[0m\u001b[0mscale\u001b[0m\u001b[0;31m`\u001b[0m\u001b[1;33m.\u001b[0m\u001b[1;33m\u001b[0m\u001b[1;33m\u001b[0m\u001b[0m\n\u001b[0;32m   1979\u001b[0m         \"\"\"\n\u001b[1;32m-> 1980\u001b[1;33m         \u001b[1;32mreturn\u001b[0m \u001b[0mself\u001b[0m\u001b[1;33m.\u001b[0m\u001b[0mrotate\u001b[0m\u001b[1;33m(\u001b[0m\u001b[0mmath\u001b[0m\u001b[1;33m.\u001b[0m\u001b[0mradians\u001b[0m\u001b[1;33m(\u001b[0m\u001b[0mdegrees\u001b[0m\u001b[1;33m)\u001b[0m\u001b[1;33m)\u001b[0m\u001b[1;33m\u001b[0m\u001b[1;33m\u001b[0m\u001b[0m\n\u001b[0m\u001b[0;32m   1981\u001b[0m \u001b[1;33m\u001b[0m\u001b[0m\n\u001b[0;32m   1982\u001b[0m     \u001b[1;32mdef\u001b[0m \u001b[0mrotate_around\u001b[0m\u001b[1;33m(\u001b[0m\u001b[0mself\u001b[0m\u001b[1;33m,\u001b[0m \u001b[0mx\u001b[0m\u001b[1;33m,\u001b[0m \u001b[0my\u001b[0m\u001b[1;33m,\u001b[0m \u001b[0mtheta\u001b[0m\u001b[1;33m)\u001b[0m\u001b[1;33m:\u001b[0m\u001b[1;33m\u001b[0m\u001b[1;33m\u001b[0m\u001b[0m\n",
      "\u001b[1;32m~\\anaconda3\\lib\\site-packages\\matplotlib\\transforms.py\u001b[0m in \u001b[0;36mrotate\u001b[1;34m(self, theta)\u001b[0m\n\u001b[0;32m   1966\u001b[0m         rotate_mtx = np.array([[a, -b, 0.0], [b, a, 0.0], [0.0, 0.0, 1.0]],\n\u001b[0;32m   1967\u001b[0m                               float)\n\u001b[1;32m-> 1968\u001b[1;33m         \u001b[0mself\u001b[0m\u001b[1;33m.\u001b[0m\u001b[0m_mtx\u001b[0m \u001b[1;33m=\u001b[0m \u001b[0mnp\u001b[0m\u001b[1;33m.\u001b[0m\u001b[0mdot\u001b[0m\u001b[1;33m(\u001b[0m\u001b[0mrotate_mtx\u001b[0m\u001b[1;33m,\u001b[0m \u001b[0mself\u001b[0m\u001b[1;33m.\u001b[0m\u001b[0m_mtx\u001b[0m\u001b[1;33m)\u001b[0m\u001b[1;33m\u001b[0m\u001b[1;33m\u001b[0m\u001b[0m\n\u001b[0m\u001b[0;32m   1969\u001b[0m         \u001b[0mself\u001b[0m\u001b[1;33m.\u001b[0m\u001b[0minvalidate\u001b[0m\u001b[1;33m(\u001b[0m\u001b[1;33m)\u001b[0m\u001b[1;33m\u001b[0m\u001b[1;33m\u001b[0m\u001b[0m\n\u001b[0;32m   1970\u001b[0m         \u001b[1;32mreturn\u001b[0m \u001b[0mself\u001b[0m\u001b[1;33m\u001b[0m\u001b[1;33m\u001b[0m\u001b[0m\n",
      "\u001b[1;32m<__array_function__ internals>\u001b[0m in \u001b[0;36mdot\u001b[1;34m(*args, **kwargs)\u001b[0m\n",
      "\u001b[1;31mKeyboardInterrupt\u001b[0m: "
     ]
    },
    {
     "data": {
      "image/png": "[encoded data removed]",
      "text/plain": [
       "<Figure size 1080x216 with 1 Axes>"
      ]
     },
     "metadata": {},
     "output_type": "display_data"
    }
   ],
   "source": [
    "qualitative_uni(df)"
   ]
  },
  {
   "cell_type": "markdown",
   "id": "d4c54b34",
   "metadata": {},
   "source": [
    "#### Findings:\n",
    "<ol>\n",
    "<li>blue:Feature almost balanced, a mobile doesn't has bluetooth is greater than mobile has by only 1%.</li>\n",
    "<li>dual_sim:Feature almost balanced ,a mobile has dual_sim is greater than mobile hasn't by only 1%.</li>\n",
    "<li>four_g:mobiles support four_g reprsent 52.1% of the dataset it's more than mobile doesn't support 4G by 4%.</li>\n",
    "<li>m_dep:has 10 unique values 0.1 represnt mobiles support four_g reprsent 52.1% of the dataset it's more than mobile doesn't support 4G by 4%.</li> \n",
    "<li>n_cores:has 8 unique values almost balanced while core 4 represnt the maximum about 13.7% of the dataset as mentioed above.</li>\n",
    "<li>three_g:mobiles support three_g reprsent 76.15% of the dataset it's more than mobile doesn't support which represent only 23.85% of the dataset.</li>\n",
    "<li>touch_screen:Feature almost balanced ,a mobile has touch reprsent 50.3% while the others reprsent 49.7%.</li>\n",
    "<li>wifi:Feature almost balanced ,a mobile has wifi reprsent 50.7% while the others reprsent 49.3%.</li>\n",
    "<li>price_range:Feature has 4 values it's balanced,each value reprsent 25% of the dataset , we should declare that it's ordinal variables.</li>\n",
    "<li>has_fc:Mobile has front camera represent 76.3% of the dataset while the other not has represent 23.7%.</li>\n",
    "<li>has_pc:only 5.05% doesn't has primary camera while 94.95% of the mobiles on the dataset has primary camera.</li>\n",
    "<li>Finally: we can conclude that our data variable are ordinal & nominal data type.</li>\n",
    "</ol>\n",
    "    "
   ]
  },
  {
   "cell_type": "markdown",
   "id": "1ff92a03",
   "metadata": {},
   "source": [
    "<li><a id='bi'></a>bivariate Analysis</li>\n",
    "\n",
    "* From above we conclude that our sample dataset have nominal & ordinal data type so we can't depend only on pearson correlation cofficient(r) to measure the correlations between features.\n",
    "* let's clarify steps we will moving on: \n",
    "as we have large sample size 2000 raw data so we will measure the correlation between variables following these process:\n",
    "<ul>\n",
    "    <li>First of all we measure pearson's correlation cofficient with all features just to check, then.</li>\n",
    "    <li>Measure correlation between Two ordinal variables using pearson's correlation cofficient, Kindla's Tau & Spearman's Rho.</li>\n",
    "    <li>Measure correlation between one Nominal variable and one ordinal variable or Two Nonminal variables using phi test.</li>\n",
    "</ul>\n",
    "\n",
    "#### pearson's correlation cofficient with all features"
   ]
  },
  {
   "cell_type": "code",
   "execution_count": null,
   "id": "c28b96c5",
   "metadata": {},
   "outputs": [],
   "source": [
    "peasron_corr=df.corr()\n",
    "peasron_corr"
   ]
  },
  {
   "cell_type": "code",
   "execution_count": null,
   "id": "7c66bca2",
   "metadata": {},
   "outputs": [],
   "source": [
    "sns.set(rc={'figure.figsize':[15,8]},font_scale=1)\n",
    "mask=np.triu(np.ones_like(peasron_corr,dtype=bool))\n",
    "sns.heatmap(peasron_corr,mask=mask,annot=True,fmt='0.1f',center=0,cbar_kws={'shrink':0.5})\n",
    "plt.suptitle('Pearson\\'s correlation cofficient');"
   ]
  },
  {
   "cell_type": "code",
   "execution_count": null,
   "id": "9450e026",
   "metadata": {
    "scrolled": true
   },
   "outputs": [],
   "source": [
    "abs(df.corr()[['price_range']]).sort_values(by='price_range',ascending=False)"
   ]
  },
  {
   "cell_type": "code",
   "execution_count": null,
   "id": "457c5844",
   "metadata": {
    "scrolled": true
   },
   "outputs": [],
   "source": [
    "sns.set(rc={'figure.figsize':[15,8]},font_scale=1.2)\n",
    "sns.heatmap(df.corr()[['price_range']],annot=True,fmt='0.1f')"
   ]
  },
  {
   "cell_type": "markdown",
   "id": "0fad13d0",
   "metadata": {},
   "source": [
    "* Findings:\n",
    "<ol>\n",
    "<li>as we expect we can't depend on the pearson's correlation cofficient between these types of features it seem's that no linear correlation between most of them especially with the target feature 'price_range', only ram has a very strong positive linear correlation with the price range +0.90 while the other feature has maximum positive 0.2 for battery_power,px_width & reso features.</li>\n",
    "<li>px_height & px_width almost have multicolinearity +0.5 also we should not forget the new features we have created has multicolinearity with the base features created from which is (reso with px_width & px_height), (md with sc_h & sc_w) & finally (has_pc & has_fc with pc & fc) respectively.</li>\n",
    "</ol>\n",
    "\n",
    "#### Now let's divide the features into nominal & ordinal variables"
   ]
  },
  {
   "cell_type": "code",
   "execution_count": null,
   "id": "58562cf9",
   "metadata": {},
   "outputs": [],
   "source": [
    "ord_cat=[]\n",
    "nom_cat=[]\n",
    "for col in df.columns:\n",
    "    if df[col].nunique() >2:\n",
    "        ord_cat.append(col)\n",
    "    else:\n",
    "        nom_cat.append(col)\n",
    "print(f'Ordinal variable has {len(ord_cat)} features\\n{ord_cat}\\nNominal variable has {len(nom_cat)} features\\n{nom_cat}')"
   ]
  },
  {
   "cell_type": "markdown",
   "id": "26d19d45",
   "metadata": {},
   "source": [
    "<li>Measure correlation between Two ordinal variables using pearson's correlation cofficient, Kindla's Tau & Spearman's Rho.</li>\n",
    "\n",
    "### pearson's correlation cofficient: Measures the linear correlation between two variables."
   ]
  },
  {
   "cell_type": "code",
   "execution_count": null,
   "id": "257974f0",
   "metadata": {},
   "outputs": [],
   "source": [
    "ord_pearson_corr= df[ord_cat].corr()\n",
    "ord_pearson_corr"
   ]
  },
  {
   "cell_type": "code",
   "execution_count": null,
   "id": "898c0e87",
   "metadata": {},
   "outputs": [],
   "source": [
    "sns.set(rc={'figure.figsize':[15,8]},font_scale=1)\n",
    "mask=np.triu(np.ones_like(ord_pearson_corr,dtype=bool))\n",
    "sns.heatmap(ord_pearson_corr,mask=mask,annot=True,fmt='0.1f',center=0,cbar_kws={'shrink':0.5})\n",
    "plt.suptitle('Pearson\\'s correlation cofficient for ordinal variables');"
   ]
  },
  {
   "cell_type": "markdown",
   "id": "997fa71a",
   "metadata": {},
   "source": [
    "#### Findings:\n",
    "<li>ram has a very strong positive linear correlation with the price_range +0.92 </li>\n",
    "<li>battery_power, px_width, reso & px_height has a very weak positive linear correlation with the price range within range( +0.15, +0.2).</li>\n",
    "<li>others features has no linear correlation with the target feature price_range.</li>\n",
    "\n",
    "**multicolinearity between some features as follwing:**\n",
    "<li>px_height has a meduium positive linear correlation with px_width +0.51 </li>\n",
    "<li>pc has a meduium positive linear correlation with fc +0.64 </li>\n",
    "<li>reso has a meduium positive linear correlation with px_width +0.68 while it has a very strong linear correlation with px_height +.95 almost perfect.</li>\n",
    "<li>md has a weak positive linear correlation with sc_h +0.49 & m_dep +0.46 while it has a meduium linear correlation with sc_w +.73 almost strong.</li>\n",
    "\n",
    "**there are a rule thumb that: a correlation less than 0.8 or greater than -0.8 is considered insignificant and not strongly correlated.**\n",
    "\n",
    "**Let's visualize the linear crrelation cofficient with the targat feature 'price_range'**"
   ]
  },
  {
   "cell_type": "code",
   "execution_count": null,
   "id": "03c3f5af",
   "metadata": {},
   "outputs": [],
   "source": [
    "fig,axs = plt.subplots(6,3,figsize=(30,15),facecolor='w',edgecolor='k')\n",
    "fig.subplots_adjust(hspace=0.5, wspace=0.2)\n",
    "# sns.set_theme(palette='mako')\n",
    "axs=axs.ravel()\n",
    "for i,col in enumerate(df[ord_cat].columns):\n",
    "    sns.regplot(data=df,x=col,y='price_range',ax=axs[i])\n",
    "plt.suptitle('Pearson\\'s correlation cofficient');"
   ]
  },
  {
   "cell_type": "markdown",
   "id": "c10c4c06",
   "metadata": {},
   "source": [
    "* from graph above we can conclude that there are no linear correlation between any two variables even variables which have high correlation between each other like ram & price_range however it has +0.92 but when we plot it it's there are no linear correlation between each othere so le's check Kendall Rank correlation Coefficient & spearman Rho correlation coefficient "
   ]
  },
  {
   "cell_type": "markdown",
   "id": "86c039b5",
   "metadata": {},
   "source": [
    "###  Kendall rank correlation cofficient: Measures the ordinal association between two variables.\n",
    "* It's doesn't assume a normal distribution of the variables and is looking for a monotonic relationship between two variables.\n",
    "* Two variables are monotonic correlated if any greater value of the one variable will result in a greater value of the other variable. \n",
    "* If the variables is negatively monotonic correlated ,then it's opposite."
   ]
  },
  {
   "cell_type": "code",
   "execution_count": null,
   "id": "f37c4832",
   "metadata": {
    "scrolled": false
   },
   "outputs": [],
   "source": [
    "kend_corr= df[ord_cat].corr(method='kendall')\n",
    "kend_corr"
   ]
  },
  {
   "cell_type": "code",
   "execution_count": null,
   "id": "b810dca6",
   "metadata": {},
   "outputs": [],
   "source": [
    "sns.set(rc={'figure.figsize':[15,8]},font_scale=1)\n",
    "mask=np.triu(np.ones_like(kend_corr,dtype=bool))\n",
    "sns.heatmap(kend_corr,mask=mask,annot=True,fmt='0.1f',center=0,cbar_kws={'shrink':0.5})\n",
    "plt.suptitle('Kendall Rank correlation cofficient');"
   ]
  },
  {
   "cell_type": "markdown",
   "id": "1d56b6b4",
   "metadata": {},
   "source": [
    "#### Findings:\n",
    "Kendall rank correlation almost less than Pearson's correlation cofficient, However we should declare that these are two different measures and can not be directly compared as they measure different aspects.\n",
    "* The pearson method can be thought of how close the points are to a fitted line, while the kendall method looks if the one variable grows does the other. \n",
    "* as we can see on the map this only happen on the cases that we have mentioned above but the values is decreases, while there are many instances where it doesn't happen."
   ]
  },
  {
   "cell_type": "markdown",
   "id": "beb2eb2e",
   "metadata": {},
   "source": [
    "### Spearman rank correlation cofficient: Measures if the realationship between two variables is monotonic.\n",
    "* Spearman is closely related to Kendall & measures whether the variables are monotonically correlated "
   ]
  },
  {
   "cell_type": "code",
   "execution_count": null,
   "id": "ce32c8a7",
   "metadata": {
    "scrolled": false
   },
   "outputs": [],
   "source": [
    "sper_corr = df[ord_cat].corr(method='spearman')\n",
    "sper_corr "
   ]
  },
  {
   "cell_type": "code",
   "execution_count": null,
   "id": "1fb65932",
   "metadata": {},
   "outputs": [],
   "source": [
    "sns.set(rc={'figure.figsize':[15,8]},font_scale=1)\n",
    "mask=np.triu(np.ones_like(sper_corr ,dtype=bool))\n",
    "sns.heatmap(sper_corr ,mask=mask,annot=True,fmt='0.1f',center=0,cbar_kws={'shrink':0.5})\n",
    "plt.suptitle('spearman Rho correlation cofficient');"
   ]
  },
  {
   "cell_type": "markdown",
   "id": "96cce6a2",
   "metadata": {},
   "source": [
    "#### Findings:\n",
    "Spearman Rho correlation is close enough to Pearson's correlation cofficient due to the sample size that we mentioned on the beginnig as Kendall Rank should be used for smaller sample also we can use Pearson's correlation cofficient in large sample size. However we should declare that these are two different measures and can not be directly compared as they measure different aspects.\n",
    "Now we can conclude that:\n",
    "* When px_height increase the resolution increase in a more way than when px_width increase.\n",
    "* When ram increase the price_range increase."
   ]
  },
  {
   "cell_type": "markdown",
   "id": "256da9b3",
   "metadata": {},
   "source": [
    "<li>Measure correlation between one Nominal variable and one ordinal variable or Two Nonminal variables using phi test.</li>\n"
   ]
  },
  {
   "cell_type": "code",
   "execution_count": null,
   "id": "3f731430",
   "metadata": {},
   "outputs": [],
   "source": [
    "phik_overview= df.phik_matrix().round(2)\n",
    "phik_overview"
   ]
  },
  {
   "cell_type": "code",
   "execution_count": null,
   "id": "c5301636",
   "metadata": {},
   "outputs": [],
   "source": [
    "sns.set(rc={'figure.figsize':[15,8]},font_scale=1)\n",
    "mask=np.triu(np.ones_like(phik_overview ,dtype=bool))\n",
    "sns.heatmap(phik_overview ,mask=mask,annot=True,fmt='0.2f',center=0,cbar_kws={'shrink':0.5})\n",
    "plt.suptitle('correlation $\\phi_K$');"
   ]
  },
  {
   "cell_type": "markdown",
   "id": "4212d7cc",
   "metadata": {},
   "source": [
    "* We find a new correlation between for_g & three_g +0.79."
   ]
  },
  {
   "cell_type": "markdown",
   "id": "d2903880",
   "metadata": {},
   "source": [
    "#### Relation between price_range & Independent variables"
   ]
  },
  {
   "cell_type": "code",
   "execution_count": null,
   "id": "8a1ebae4",
   "metadata": {},
   "outputs": [],
   "source": [
    "for col in df[ord_cat].columns.drop('price_range'):\n",
    "    fig,axs = plt.subplots(1,2,figsize=(15,3),facecolor='w',edgecolor='k')\n",
    "    sns.pointplot(data=df,y=col,x='price_range',ax=axs[0])\n",
    "    sns.boxplot(data=df,y=col,x='price_range',ax=axs[1],showmeans=True)\n",
    "    plt.suptitle(f'Relation between {col} & price range')\n",
    "    sns.displot(data=df,x=col,hue='price_range',col='price_range')\n",
    "    plt.show()"
   ]
  },
  {
   "cell_type": "markdown",
   "id": "52eebbea",
   "metadata": {},
   "source": [
    "#### Findings:\n",
    "<ol>\n",
    "    \n",
    "<li>battery_power:\n",
    "    <ul>\n",
    "        <li>price_range levels increases by increasing in battery power, price range 0 'low cost' has battery power about 1110 mAh while price_range 3 'very high cost' has battery power mean about 1390 mAh, However it seems that battery power has no effect between price_range 1 & 2 bettery power almost equal.</li>\n",
    "        <li>price_range levels has almost same variation on the battery power.</li>\n",
    "        <li>price_range has same battery power range with min 500 & max 2000 mAh, However price range 0 has 75% of battery power less than about 1450 mAh while the price range 3 has 75% of battery power less than 1750 mAh.</li>\n",
    "       <li>battery_power has no outliers on all price_ranges levels.</li>\n",
    "    </ul>\n",
    "</li>\n",
    "    \n",
    "<li>clock_speed:\n",
    "    <ul>\n",
    "        <li>There is no clear relation between clock_speed & price_range,while price_range 0 has mean clock_speed 1.55 greater than 1.49 on price range 1 ; price range 1 has mean clock_speed 1.49 less than 1.54 on price_range 2 which is greater than 1.53 on price_range 3, we can see that the mean of clock_speed is up & down and not affect price_range levels .</li>\n",
    "        <li>price_range levels has almost same variation on the clock_speed.</li>\n",
    "        <li>price_range levels has equal clock_speed range with min 0.5 & max 3, also 75% of clock_speed on price_range level almsot equal about 2.3.</li>\n",
    "       <li>However all price_range levels has 0.5 as a Top on clock_speed there are difference on the frequency of clock_speed instances that's affect the difference on clock_speed mean.</li>\n",
    "       <li>clock_speed has no outliers on all price_ranges levels.</li>\n",
    "    </ul>\n",
    "</li>\n",
    "    \n",
    "<li>fc \"front camera mega pixels\":\n",
    "    <ul>\n",
    "        <li>there is little difference on fc mean on price levels, however it increases on first 3 levels it decreases on highest price level.</li>\n",
    "        <li>price_range levels has almost same variation on the fc.</li>\n",
    "        <li>price_range levels has equal fc range with min 0.0 & max 17.5,75% of fc on price_range level(1,2&3) almsot equal on about less than 6 which is little more than price_range level 0.</li>\n",
    "       <li>However all price_range levels has 0.0 as a Top on fc there are difference on the frequency of fc instances that's affect the difference on fc mean.</li>\n",
    "       <li>fc has outliers on all price_ranges levels.</li>\n",
    "    </ul>\n",
    "</li>\n",
    "    \n",
    "<li>int_memory 'internal memory in Gigabytes':\n",
    "    <ul>\n",
    "        <li>There is no clear relation between int_memory & price_range,while price_range 0 has mean int_memory about 30 goes up till about 32 on price range 1 it goes down again till about 31 on price_range 2 then again goes up till about 34 on price_range 3, we can see that the mean of int_memory is up & down without clear effect on price_range levels .</li>\n",
    "        <li>price_range levels has almost same variation on the int_memory.</li>\n",
    "        <li>price_range levels has equal int_memory range with min 2 & max 64, also 75% of int_memory on price_range level almsot equal about 48 with very little difference more or less.</li>\n",
    "       <li>int_memory has no outliers on all price_ranges levels.</li>\n",
    "    </ul>\n",
    "</li>\n",
    "    \n",
    "<li>m_dep 'Mobile depth in cm':\n",
    "    <ul>\n",
    "          <li>as int_memory There is no clear relation between m_dep & price_range, we can see that the mean of m_dep is up & down without clear effect on price_range levels .</li>\n",
    "        <li>price_range levels has almost same variation on the m_dep.</li>\n",
    "        <li>price_range levels has equal m_dep range with min 0.1 & max 1; 75% of m_dep on price_range level(1,3) less than 0.8 little more than price level (0,2) almost less than 0.7.</li>\n",
    "       <li>m_dep has no outliers on all price_ranges levels.</li>\n",
    "    </ul>\n",
    "</li>\n",
    "<li>mobile_wt 'Mobile weight' :\n",
    "    <ul>\n",
    "        <li>There is no clear relation between mobile_wt & price_range, we can see that the mean of m_dep is up & down with no clear effect on price_range levels.</li>\n",
    "        <li>price_range levels has almost same variation on the mobile_wt.</li>\n",
    "        <li>price_range levels has equal mobile_wt range with min 80 & max 200; the 75% of mobile_wt on price_range levels almost less than 170 with avery little difference more or less than each other.</li>\n",
    "       <li>mobile_wt has no outliers on all price_ranges levels.</li>\n",
    "    </ul>\n",
    "</li>\n",
    "    \n",
    "<li>n_cores:\n",
    "    <ul>\n",
    "        <li>price_range level 0 is a multimodal however n_core 2 is the top frequencies, price_range level 1 is a bimodal on n_core(1&4), we can say that price level 2 is a unimodal on n_core 4 while price level 3 is a bimodal on n_core (5&7).</li>\n",
    "    </ul>\n",
    "</li>\n",
    "    \n",
    "<li>pc 'primary_camera mega pixels':\n",
    "    <ul>\n",
    "         <li>we can see price level goes up with increasing on the mean of pc.</li>\n",
    "        <li>price_range levels has almost same variation on the pc.</li>\n",
    "        <li>price_range levels has equal pc range with min 0.0 & max 20,75% of pc on price_range level less than 15 except price level 3 75% has pc less than about 16 mega pixels.</li>\n",
    "       <li>pc has no outliers on all price_ranges levels.</li>\n",
    "    </ul>\n",
    "</li>\n",
    "    \n",
    "<li>px_height:\n",
    "    <ul>\n",
    "        <li>we can see there are a huge difference on px_height mean and it price level increase with increasing on mean of px_height except on the middle price level px_height is decreased from level 1 to 2 may be du to the outliers on level 1 px_height.</li>\n",
    "        <li>price_range levels has almost same variation on the px_height.</li>\n",
    "        <li>price_range levels has equal px_height range with min 0.0 & max 1960,75% of px_height on price_range level 0 is less than about 750 while it's about less than 1100 on price level 3; however it's almost same on the two middle price level less than about 900.</li>\n",
    "       <li>px_height has outliers on the first two price_ranges levels.</li>\n",
    "    </ul>\n",
    "</li>\n",
    "    \n",
    "\n",
    "<li>px_width:\n",
    "    <ul>\n",
    "         <li>we can see there are a huge difference on px_height mean and it price level increase with increasing on mean of px_width except on the middle price level px_width is decreased from level 1 to 2 may be du to the outliers on level 1 px_height.</li>\n",
    "        <li>price_range levels has almost same variation on the px_width.</li>\n",
    "        <li>price_range levels has equal px_width range with min 500 & max 1998,75% of px_height on price_range level 0 is less than about 1490 while it's about less than 1750 on price level 3; however it's almost same on the two middle price level less than about 1600.</li>\n",
    "       <li>px_width has no outliers on all price_ranges levels.</li>\n",
    "    </ul>\n",
    "</li>\n",
    "<li>ram:\n",
    "    <ul>\n",
    "         <li>clearly we can see a perfect relation between increasing on mean of ram with going up on price_range level & actually we can expected that from the positive linear correlation we found up +0.92.</li>\n",
    "         <li>price levels goes up with increasing on ram range,75% of ram on price_range level 0 is less than about 1000 while it's about less than 3800 on price level 3.</li>\n",
    "       <li>ram has outliers o price_ranges levels (0&2).</li>\n",
    "    </ul>\n",
    "</li>\n",
    "<li>sc_h 'screen_height in cm':\n",
    "    <ul>\n",
    "        <li>sc_h mean decreased on the first 3 price level, However it increased on the highest price level 3.</li>\n",
    "        <li>price_range levels has almost same variation on the sc_h.</li>\n",
    "        <li>price_range levels has equal sc_h range with min 5 & max 19; 75% of sc_h on price_range level less than 15.5.</li>\n",
    "       <li>sc_h has no outliers on all price_ranges levels.</li>\n",
    "    </ul>\n",
    "</li>\n",
    "    \n",
    "<li>sc_w 'Screen_width in cm':\n",
    "    <ul>\n",
    "        <li>sc_w mean decreased on the first 2 price level,However it increased on the latest 2 price level.</li>\n",
    "        <li>price_range levels has almost same variation on the sc_w.</li>\n",
    "        <li>price_range levels has equal sc_w range with min 0 & max 18; 75% of sc_w on price_range level less than 8 except on price level 3 is less than 10.</li>\n",
    "       <li>sc_w has outliers on first two price_ranges levels.</li>\n",
    "    </ul>\n",
    "</li>\n",
    "    \n",
    "<li>talk_time:\n",
    "    <ul>\n",
    "        <li>There is no clear relation between talk_time & price_range, we can see that the mean of talk_time is up & down with no clear effect on price_range levels.</li>\n",
    "        <li>price_range levels has almost same variation on the talk_time.</li>\n",
    "        <li>price_range levels has equal talk_time range with min 2 & max 20; 75% of talk_time on price_range level less than 16.</li>\n",
    "       <li>talk_time has no outliers price_ranges levels.</li>\n",
    "    </ul>\n",
    "</li>\n",
    "<li>md 'mobile dimension m_d*sc_h*sc_w':\n",
    "    <ul>\n",
    "        <li>There is no clear relation between md & price_range, we can see that the mean of md is up & down with no clear effect on price_range levels.</li>\n",
    "        <li>price_range levels has almost same md variation.</li>\n",
    "        <li>price_range levels has equal md range.</li>\n",
    "       <li>md has outliers price_ranges levels.</li>\n",
    "    </ul>\n",
    "</li>\n",
    "<li>reso:\n",
    "    <ul>\n",
    "        <li>we can see there are a huge difference on reso mean, price level increased by increasing on mean of reso except on the middle price level reso is decreased from level 1 to 2 may be du to the outliers on level 1 px_height.</li>\n",
    "        <li>price_range levels has almost same variation on the reso.</li>\n",
    "        <li>px_height has outliers on price_ranges levels.</li>\n",
    "    </ul>\n",
    "</li>\n",
    "</ol>\n",
    "    "
   ]
  },
  {
   "cell_type": "code",
   "execution_count": null,
   "id": "e770920e",
   "metadata": {},
   "outputs": [],
   "source": [
    "fig,axs = plt.subplots(4,2,figsize=(30,20),facecolor='w',edgecolor='k')\n",
    "fig.subplots_adjust(hspace=0.5, wspace=0.2)\n",
    "sns.set_theme(palette='gist_earth')\n",
    "axs=axs.ravel()\n",
    "for i,col in enumerate(df[nom_cat].columns):\n",
    "    sns.countplot(data=df,x='price_range',hue=col,ax=axs[i])\n",
    "    axs[i].set_title(f'price range by {col}')"
   ]
  },
  {
   "cell_type": "markdown",
   "id": "954f8f95",
   "metadata": {},
   "source": [
    "#### Findings:\n",
    "<ol>\n",
    "<li>blu 'Has bluetooth or not': There are no huge difference on number of mobile has bluetooth or not on different price_range but we can notice that the mobile has no bluetooth is greater in price_range from 0 to 2 vice versa on price_range 3.</li> \n",
    "\n",
    "<li>dual_sim 'Has dual_sim support or not': There are no huge difference on number of mobile has dual_sim or not on price_range levels except price_range 3 the highest has top of number of mobile that suppport dual_sim.</li> \n",
    "\n",
    "<li>four_g 'support four_g or not': There are no huge difference on number of mobile that support three_g or not on price_range levels except price_range 3 the highest has top of number of mobile that suppport four_g.</li> \n",
    "\n",
    "<li>three_g 'support three_g or not': Most of mobiles support three_g on all price_range levels.</li>\n",
    "\n",
    "<li> touch_screen'support touch_screen or not': by little difference most of mobiles support touch_screen on first two price_range levels while mobile not support touch screen is more on price_range level 2 and they are almost equal on the highest level.</li> \n",
    "\n",
    "<li>wifi 'Has wifi support or not': There are no huge difference on number of mobile has wifi or not on price_range levels except price_range 3 the highest has top of number of mobile that suppport wifi.</li>\n",
    "\n",
    "<li>has_fc ' has front camera or not': Most of mobiles has_fc on all price_range levels.</li> \n",
    "\n",
    "<li>has_pc 'has primary camera or not': Most of mobiles has_pc on all price_range levels.</li> \n",
    "</ol>\n",
    "    "
   ]
  },
  {
   "cell_type": "markdown",
   "id": "15a43f1e",
   "metadata": {},
   "source": [
    "<a id='mult'></a>\n",
    "### Multivariate Analysis\n",
    "* From all above we will focus on multivariate analysis on the relation between two or more features with price_range especially ram & price_range and some other features "
   ]
  },
  {
   "cell_type": "code",
   "execution_count": null,
   "id": "71fd3492",
   "metadata": {
    "scrolled": false
   },
   "outputs": [],
   "source": [
    "for ocol in df[ord_cat].columns.drop('price_range'):\n",
    "    fig,axs = plt.subplots(4,2,figsize=(30,20),facecolor='w',edgecolor='k')\n",
    "    fig.subplots_adjust(hspace=0.5, wspace=0.2)\n",
    "    sns.set_theme(palette='gist_stern')\n",
    "    axs=axs.ravel()\n",
    "    for i,col in enumerate(df[nom_cat].columns):\n",
    "        sns.pointplot(data=df,x='price_range',y=ocol,hue=col,ax=axs[i],dodge=True)\n",
    "        axs[i].set_title(f'{ocol} & {col} effectivness on price_range')"
   ]
  },
  {
   "cell_type": "code",
   "execution_count": null,
   "id": "dd1ea582",
   "metadata": {
    "scrolled": true
   },
   "outputs": [],
   "source": [
    "for ocol in df[ord_cat].columns.drop('price_range'):\n",
    "    fig,axs = plt.subplots(4,2,figsize=(30,20),facecolor='w',edgecolor='k')\n",
    "    fig.subplots_adjust(hspace=0.5, wspace=0.2)\n",
    "    sns.set_theme(palette='gist_stern')\n",
    "    axs=axs.ravel()\n",
    "    for i,col in enumerate(df[nom_cat].columns):\n",
    "        sns.boxplot(data=df,x='price_range',y=ocol,hue=col,ax=axs[i],dodge=True)\n",
    "        axs[i].set_title(f'{ocol} & {col} effectivness on price_range')"
   ]
  },
  {
   "cell_type": "code",
   "execution_count": null,
   "id": "2e85e91d",
   "metadata": {
    "scrolled": true
   },
   "outputs": [],
   "source": [
    "for ocol in df[ord_cat].columns.drop('price_range'):\n",
    "    fig,axs = plt.subplots(4,2,figsize=(30,20),facecolor='w',edgecolor='k')\n",
    "    fig.subplots_adjust(hspace=0.5, wspace=0.2)\n",
    "    sns.set_theme(palette='gist_stern')\n",
    "    axs=axs.ravel()\n",
    "    for i,col in enumerate(df[nom_cat].columns):\n",
    "        sns.barplot(data=df,x='price_range',y=ocol,hue=col,ax=axs[i])\n",
    "        axs[i].set_title(f'{ocol} & {col} effectivness on price_range')"
   ]
  },
  {
   "cell_type": "code",
   "execution_count": null,
   "id": "ae2414e4",
   "metadata": {
    "scrolled": true
   },
   "outputs": [],
   "source": [
    "for ocol in df[ord_cat].columns.drop('price_range'):\n",
    "    sns.set_theme(palette='gist_stern')\n",
    "    for i,col in enumerate(df[nom_cat].columns):\n",
    "        g=sns.catplot(data=df,x='price_range',y=ocol,hue=col)\n",
    "        g.fig.subplots_adjust(top=0.9)\n",
    "        g.fig.suptitle(f'{ocol} & {col} effectivness on price_range')"
   ]
  },
  {
   "cell_type": "code",
   "execution_count": null,
   "id": "5f0becec",
   "metadata": {},
   "outputs": [],
   "source": [
    "colors=['gist_ncar','gist_stern','ocean','brg','terrain','gist_earth','cubehelix','pink']\n",
    "for i,ncol in enumerate(nom_cat):\n",
    "    sns.set_theme(palette=colors[i])\n",
    "    for col in df[nom_cat].columns:\n",
    "        if ncol==col:\n",
    "            continue\n",
    "        else:\n",
    "            g = sns.catplot(data=df,col='price_range',x=ncol,kind='count',hue=col,height=4)\n",
    "            g.fig.subplots_adjust(top=0.8)\n",
    "            g.fig.suptitle(f'{ncol} & {col} effectivness on price_range')"
   ]
  },
  {
   "cell_type": "markdown",
   "id": "48b3bfee",
   "metadata": {},
   "source": [
    "#### Findings:\n",
    "* From all above we can't find a clear colinearity between features that affect on price range."
   ]
  },
  {
   "cell_type": "markdown",
   "id": "b2b0a502",
   "metadata": {},
   "source": [
    "<a id='ml'></a>\n",
    "## Machine Learning Process\n",
    "* Split Data to train test set"
   ]
  },
  {
   "cell_type": "code",
   "execution_count": null,
   "id": "1cffe86b",
   "metadata": {},
   "outputs": [],
   "source": [
    "df.columns"
   ]
  },
  {
   "cell_type": "code",
   "execution_count": null,
   "id": "f57524e1",
   "metadata": {},
   "outputs": [],
   "source": [
    "# clarify independent var & dependent Var\n",
    "x =df.drop(['price_range','has_fc','has_pc','reso','md'],axis=1)\n",
    "y=df['price_range']"
   ]
  },
  {
   "cell_type": "code",
   "execution_count": null,
   "id": "7f402c96",
   "metadata": {},
   "outputs": [],
   "source": [
    "features = x.columns\n",
    "features"
   ]
  },
  {
   "cell_type": "code",
   "execution_count": null,
   "id": "180dad31",
   "metadata": {},
   "outputs": [],
   "source": [
    "# split dataset to train_test set\n",
    "x_train, x_test, y_train, y_test = train_test_split(x, y, test_size=0.2, random_state=42)\n",
    "print(x_train.shape, x_test.shape, y_train.shape, y_test.shape)"
   ]
  },
  {
   "cell_type": "code",
   "execution_count": null,
   "id": "3c295ac6",
   "metadata": {},
   "outputs": [],
   "source": [
    "# feature scaling\n",
    "scaler = StandardScaler()\n",
    "scaled_x_train = scaler.fit_transform(x_train)\n",
    "scaled_x_test = scaler.transform(x_test)"
   ]
  },
  {
   "cell_type": "markdown",
   "id": "187a09d4",
   "metadata": {},
   "source": [
    "#### Train Different Models"
   ]
  },
  {
   "cell_type": "markdown",
   "id": "27bfa9cc",
   "metadata": {},
   "source": [
    "#### cross validation\n",
    "* Binary classification models like logistic regression and SVM do not support multi-class classification natively and require meta-strategies.\n",
    "* The One-vs-Rest strategy splits a multi-class classification into one binary classification problem per class.\n",
    "* The One-vs-One strategy splits a multi-class classification into one binary classification problem per each pair of classes."
   ]
  },
  {
   "cell_type": "code",
   "execution_count": null,
   "id": "e40a9cde",
   "metadata": {},
   "outputs": [],
   "source": [
    "models = {\n",
    "    'ova_sgd':SGDClassifier(random_state=42),\n",
    "    'ovo_sgd':OneVsOneClassifier(SGDClassifier(random_state=42)),\n",
    "    'log':LogisticRegression(random_state=42),\n",
    "    'softmax_reg':LogisticRegression(multi_class='multinomial',solver='lbfgs',C=10,random_state=42),\n",
    "    'DT':DecisionTreeClassifier(random_state=42),\n",
    "    'DT_entropy':DecisionTreeClassifier(random_state=42,criterion='entropy'),\n",
    "    'RF':RandomForestClassifier(random_state=42),\n",
    "    'XGB':XGBRFClassifier(random_state=42),\n",
    "    'KNN_5':KNeighborsClassifier(n_neighbors=5),\n",
    "    'KNN_3':KNeighborsClassifier(n_neighbors=3),\n",
    "    'ova_SVC':SVC(random_state=42,decision_function_shape= 'ovr'),\n",
    "    'ovo_SVC':SVC(random_state=42,decision_function_shape= 'ovo')   \n",
    "}"
   ]
  },
  {
   "cell_type": "code",
   "execution_count": null,
   "id": "3ab4e140",
   "metadata": {
    "scrolled": true
   },
   "outputs": [],
   "source": [
    "train_accuracy={}\n",
    "for name,model in models.items():\n",
    "    y_train_predict = cross_val_predict(model,scaled_x_train,y_train,cv=3)\n",
    "    scores = cross_val_score(model,scaled_x_train,y_train,cv=3,scoring='accuracy')\n",
    "    print(f'confusion matrix:{name}\\n')\n",
    "    plot_confusion_matrix(confusion_matrix(y_train,y_train_predict))\n",
    "    plt.show()\n",
    "    print(f\"{name} model:\\n\",'_'*20)\n",
    "    adj_r= statistics.harmonic_mean(scores)\n",
    "    print(f'adj_r2:{adj_r}')\n",
    "    train_accuracy[name] = adj_r\n",
    "    print(f'recall:',recall_score(y_train,y_train_predict,average='weighted'))\n",
    "    print(f'precision:{precision_score(y_train,y_train_predict,average=\"weighted\")}')\n",
    "    print(f'f1:{f1_score(y_train,y_train_predict,average=\"weighted\")}')\n",
    "    print(f'fb_0.5:{fbeta_score(y_train,y_train_predict,beta=0.5,average=\"weighted\")}')\n",
    "    print(f'fb_2:{fbeta_score(y_train,y_train_predict,beta=2,average=\"weighted\")}')\n",
    "    print(f'classification_report:\\n{classification_report(y_train,y_train_predict)}')\n",
    "    print('*'*75)"
   ]
  },
  {
   "cell_type": "code",
   "execution_count": null,
   "id": "de274136",
   "metadata": {
    "scrolled": false
   },
   "outputs": [],
   "source": [
    "test_accuracy={}\n",
    "for name,model in models.items():\n",
    "    model.fit(scaled_x_train,y_train)\n",
    "    y_test_predict =model.predict(scaled_x_test)\n",
    "    print(f'confusion matrix:{name}\\n')\n",
    "    plot_confusion_matrix(confusion_matrix(y_test,y_test_predict))\n",
    "    plt.show()\n",
    "    print(f\"{name} model:\\n\",'_'*20)\n",
    "    adj_r=accuracy_score(y_test,y_test_predict)\n",
    "    print(f'adj_r2:{adj_r}')\n",
    "    test_accuracy[name] = adj_r\n",
    "    print(f'recall:',recall_score(y_test,y_test_predict,average='weighted'))\n",
    "    print(f'precision:{precision_score(y_test,y_test_predict,average=\"weighted\")}')\n",
    "    print(f'f1:{f1_score(y_test,y_test_predict,average=\"weighted\")}')\n",
    "    print(f'fb_0.5:{fbeta_score(y_test,y_test_predict,beta=0.5,average=\"weighted\")}')\n",
    "    print(f'fb_2:{fbeta_score(y_test,y_test_predict,beta=2,average=\"weighted\")}')\n",
    "    print(f'classification_report:\\n{classification_report(y_test,y_test_predict)}')\n",
    "    print('*'*75)"
   ]
  },
  {
   "cell_type": "code",
   "execution_count": null,
   "id": "fa29fb64",
   "metadata": {
    "scrolled": true
   },
   "outputs": [],
   "source": [
    "models_accuracy=pd.DataFrame.from_dict(train_accuracy,orient='index',columns=['train_r2'])\n",
    "models_accuracy['test_r2'] = [item for key,item in test_accuracy.items()]\n",
    "models_accuracy.reset_index(inplace=True)\n",
    "models_accuracy.rename(columns={'index':'model'},inplace=True)\n",
    "models_accuracy.round(3)"
   ]
  },
  {
   "cell_type": "code",
   "execution_count": null,
   "id": "87abbe31",
   "metadata": {
    "scrolled": true
   },
   "outputs": [],
   "source": [
    "sns.barplot(y='model',x='train_r2',data=models_accuracy)"
   ]
  },
  {
   "cell_type": "code",
   "execution_count": null,
   "id": "5e364342",
   "metadata": {
    "scrolled": true
   },
   "outputs": [],
   "source": [
    "sns.barplot(y='model',x='test_r2',data=models_accuracy)"
   ]
  },
  {
   "cell_type": "markdown",
   "id": "d2844f0d",
   "metadata": {},
   "source": [
    "* Best model: softmax_reg model with train_accuracy 0.961 & test_accuracy = 0.972 \t\n",
    "* use softmax_reg model on applying Feature selection & PCA & check if we can raise model accuracy."
   ]
  },
  {
   "cell_type": "markdown",
   "id": "0b3da8f2",
   "metadata": {},
   "source": [
    "## Features selection \n",
    "* using softmax_reg model"
   ]
  },
  {
   "cell_type": "code",
   "execution_count": null,
   "id": "8ff467e3",
   "metadata": {},
   "outputs": [],
   "source": [
    "# softmax_reg':\n",
    "model = LogisticRegression(multi_class='multinomial',solver='lbfgs',C=10,random_state=42)"
   ]
  },
  {
   "cell_type": "code",
   "execution_count": null,
   "id": "c093ad11",
   "metadata": {},
   "outputs": [],
   "source": [
    "selector = RFE(model,verbose = 3)"
   ]
  },
  {
   "cell_type": "code",
   "execution_count": null,
   "id": "61e9852c",
   "metadata": {},
   "outputs": [],
   "source": [
    "selector.fit(scaled_x_train,y_train)"
   ]
  },
  {
   "cell_type": "code",
   "execution_count": null,
   "id": "4e1198e1",
   "metadata": {},
   "outputs": [],
   "source": [
    "selector.n_features_"
   ]
  },
  {
   "cell_type": "code",
   "execution_count": null,
   "id": "708ef729",
   "metadata": {},
   "outputs": [],
   "source": [
    "features"
   ]
  },
  {
   "cell_type": "code",
   "execution_count": null,
   "id": "1ab7a256",
   "metadata": {},
   "outputs": [],
   "source": [
    "selector.get_support()"
   ]
  },
  {
   "cell_type": "code",
   "execution_count": null,
   "id": "51e3ea68",
   "metadata": {},
   "outputs": [],
   "source": [
    "selected_features = features[selector.get_support()]\n",
    "selected_features"
   ]
  },
  {
   "cell_type": "markdown",
   "id": "7e76ca22",
   "metadata": {},
   "source": [
    "## split Data again based selected features"
   ]
  },
  {
   "cell_type": "code",
   "execution_count": null,
   "id": "191d8346",
   "metadata": {
    "scrolled": false
   },
   "outputs": [],
   "source": [
    "x_selected = x[selected_features]\n",
    "x_selected"
   ]
  },
  {
   "cell_type": "code",
   "execution_count": null,
   "id": "dd403bc4",
   "metadata": {},
   "outputs": [],
   "source": [
    "# split dataset to train_test set\n",
    "x_train, x_test, y_train, y_test = train_test_split(x_selected, y, test_size=0.2, random_state=42)\n",
    "print(x_train.shape, x_test.shape, y_train.shape, y_test.shape)"
   ]
  },
  {
   "cell_type": "code",
   "execution_count": null,
   "id": "ec583f86",
   "metadata": {},
   "outputs": [],
   "source": [
    "# feature scaling\n",
    "scaler = StandardScaler()\n",
    "scaled_x_train = scaler.fit_transform(x_train)\n",
    "scaled_x_test = scaler.transform(x_test)"
   ]
  },
  {
   "cell_type": "code",
   "execution_count": null,
   "id": "7a69829a",
   "metadata": {},
   "outputs": [],
   "source": [
    "# apply PCA \n",
    "pca = PCA()\n",
    "scaled_x_train = pca.fit_transform(scaled_x_train)\n",
    "scaled_x_test = pca.transform(scaled_x_test)"
   ]
  },
  {
   "cell_type": "code",
   "execution_count": null,
   "id": "facd3071",
   "metadata": {},
   "outputs": [],
   "source": [
    "scaled_x_test"
   ]
  },
  {
   "cell_type": "markdown",
   "id": "049445d0",
   "metadata": {},
   "source": [
    "#### Train Different Models after Feature selection & PCA"
   ]
  },
  {
   "cell_type": "markdown",
   "id": "c92b1ab4",
   "metadata": {},
   "source": [
    "### GridSearchCV"
   ]
  },
  {
   "cell_type": "code",
   "execution_count": null,
   "id": "30ae54fa",
   "metadata": {},
   "outputs": [],
   "source": [
    "train_models_accuracy={}\n",
    "test_models_accuracy= {}"
   ]
  },
  {
   "cell_type": "code",
   "execution_count": null,
   "id": "f761d5e3",
   "metadata": {},
   "outputs": [],
   "source": [
    "def grid_search(estimator,param_grid,x_train,y_train,x_test,y_test,scoring='accuracy',cv=5,verbose=3,n_jobs=-1):\n",
    "    grid = GridSearchCV(estimator=estimator,param_grid=param_grid,scoring=scoring,cv=cv,verbose=verbose,n_jobs=n_jobs)\n",
    "    grid.fit(x_train,y_train)\n",
    "    predictions = grid.predict(x_test)\n",
    "    print(f'grid.best_params_:{grid.best_params_}')\n",
    "    print(f'grid.best_estimator_:{grid.best_estimator_}')\n",
    "    print(f'grid.best_score_:{grid.best_score_}')\n",
    "    train_models_accuracy[str(estimator).split('(')[0]] = round(grid.best_score_,2)\n",
    "    test_models_accuracy[str(estimator).split('(')[0]] = round(accuracy_score(y_test,predictions),2)\n",
    "    return grid.best_estimator_,predictions"
   ]
  },
  {
   "cell_type": "code",
   "execution_count": null,
   "id": "6d691f25",
   "metadata": {},
   "outputs": [],
   "source": [
    "def random_search(estimator,param_grid,x_train,y_train,x_test,y_test,scoring='accuracy',cv=5,verbose=3,n_jobs=-1):\n",
    "    random = RandomizedSearchCV(estimator=estimator,param_distributions=param_grid,scoring=scoring,cv=cv,verbose=verbose,n_jobs=n_jobs)\n",
    "    random.fit(x_train,y_train)\n",
    "    predictions = random.predict(x_test)\n",
    "    print(f'grid.best_params_:{random.best_params_}')\n",
    "    print(f'grid.best_estimator_:{random.best_estimator_}')\n",
    "    print(f'grid.best_score_:{random.best_score_}')\n",
    "    train_models_accuracy[str(estimator).split('(')[0]] = round(random.best_score_,2)\n",
    "    test_models_accuracy[str(estimator).split('(')[0]] = round(accuracy_score(y_test,predictions),2)\n",
    "    return random.best_estimator_,predictions"
   ]
  },
  {
   "cell_type": "markdown",
   "id": "e4ed20de",
   "metadata": {},
   "source": [
    "### Test set Prediction Accuracy"
   ]
  },
  {
   "cell_type": "code",
   "execution_count": null,
   "id": "a30e9537",
   "metadata": {},
   "outputs": [],
   "source": [
    "def model_accuracy_report(y_true,y_predict):\n",
    "    adj_r = accuracy_score(y_true,y_predict)  \n",
    "    \n",
    "    plot_confusion_matrix(confusion_matrix(y_true,y_predict))\n",
    "    plt.show()\n",
    "    print(\"*\"*50)\n",
    "    print(f'classification_report:\\n{classification_report(y_true,y_predict)}')\n",
    "    print(\"*\"*50)\n",
    "    print(f'adj_r:{round(adj_r,2)}')\n",
    "    print(f'recall:{round(recall_score(y_true,y_predict,average=\"weighted\"),2)}')\n",
    "    print(f'precision:{round(precision_score(y_true,y_predict,average=\"weighted\"),2)}')\n",
    "    print(f'f1:{round(f1_score(y_true,y_predict,average=\"weighted\"),2)}')\n",
    "    print(f'fb_0.5:{round(fbeta_score(y_true,y_predict,beta=0.5,average=\"weighted\"),2)}')\n",
    "    print(f'fb_2:{round(fbeta_score(y_true,y_predict,beta=2,average=\"weighted\"),2)}')\n",
    "   \n",
    "    \n",
    "    "
   ]
  },
  {
   "cell_type": "markdown",
   "id": "40d35066",
   "metadata": {},
   "source": [
    "### One vs Rest SGDClassifier"
   ]
  },
  {
   "cell_type": "code",
   "execution_count": null,
   "id": "23018d71",
   "metadata": {},
   "outputs": [],
   "source": [
    "ova_sgd_model = SGDClassifier(random_state=42,eta0=1)"
   ]
  },
  {
   "cell_type": "code",
   "execution_count": null,
   "id": "949cee27",
   "metadata": {},
   "outputs": [],
   "source": [
    "param_grid={\n",
    "    'loss' :['hinge', 'log', 'modified_huber', 'squared_hinge', 'perceptron'],\n",
    "    'penalty':['l2', 'l1', 'elasticnet'],\n",
    "    'learning_rate':['constant','optimal','invscaling']\n",
    "}"
   ]
  },
  {
   "cell_type": "code",
   "execution_count": null,
   "id": "a45b6592",
   "metadata": {
    "scrolled": false
   },
   "outputs": [],
   "source": [
    "best_ova_sgd_model, y_prediction = grid_search(ova_sgd_model ,param_grid,scaled_x_train,y_train,scaled_x_test,y_test,scoring='accuracy',cv=5)"
   ]
  },
  {
   "cell_type": "code",
   "execution_count": null,
   "id": "2f7e3322",
   "metadata": {
    "scrolled": true
   },
   "outputs": [],
   "source": [
    "model_accuracy_report(y_test,y_prediction)"
   ]
  },
  {
   "cell_type": "markdown",
   "id": "3c058ea1",
   "metadata": {},
   "source": [
    "### One vs One SGDClassifier"
   ]
  },
  {
   "cell_type": "code",
   "execution_count": null,
   "id": "b6828619",
   "metadata": {},
   "outputs": [],
   "source": [
    "ovo_sgd_model = OneVsOneClassifier(SGDClassifier(random_state=42,eta0=1))"
   ]
  },
  {
   "cell_type": "code",
   "execution_count": null,
   "id": "6ec4cd29",
   "metadata": {},
   "outputs": [],
   "source": [
    "param_grid={\n",
    "    'estimator__loss' :['hinge', 'log', 'modified_huber', 'squared_hinge', 'perceptron'],\n",
    "    'estimator__penalty':['l2', 'l1', 'elasticnet'],\n",
    "    'estimator__learning_rate':['constant','optimal','invscaling']\n",
    "}"
   ]
  },
  {
   "cell_type": "code",
   "execution_count": null,
   "id": "ac898723",
   "metadata": {},
   "outputs": [],
   "source": [
    "best_ovo_sgd_model, y_prediction = grid_search(ovo_sgd_model ,param_grid,scaled_x_train,y_train,scaled_x_test,y_test,scoring='accuracy',cv=5)"
   ]
  },
  {
   "cell_type": "code",
   "execution_count": null,
   "id": "d34151d0",
   "metadata": {
    "scrolled": true
   },
   "outputs": [],
   "source": [
    "model_accuracy_report(y_test,y_prediction)"
   ]
  },
  {
   "cell_type": "markdown",
   "id": "09a1435c",
   "metadata": {},
   "source": [
    "### Logistic Regression"
   ]
  },
  {
   "cell_type": "code",
   "execution_count": null,
   "id": "08f0f56b",
   "metadata": {},
   "outputs": [],
   "source": [
    "log_model = LogisticRegression(random_state=42,max_iter=1000000)"
   ]
  },
  {
   "cell_type": "code",
   "execution_count": null,
   "id": "10c1b786",
   "metadata": {},
   "outputs": [],
   "source": [
    "param_grid={\n",
    "    'multi_class': ['auto','multinomial'],\n",
    "    'C' :np.logspace(-4, 4, 50),\n",
    "    'penalty': ['l1', 'l2','elasticnet'],\n",
    "    'solver' :['newton-cg','lbfgs','sag','saga']\n",
    "}"
   ]
  },
  {
   "cell_type": "code",
   "execution_count": null,
   "id": "62367aff",
   "metadata": {},
   "outputs": [],
   "source": [
    "best_log_model, y_prediction = grid_search(log_model ,param_grid,scaled_x_train,y_train,scaled_x_test,y_test,scoring='accuracy',cv=5)"
   ]
  },
  {
   "cell_type": "code",
   "execution_count": null,
   "id": "7b5ad4c2",
   "metadata": {
    "scrolled": true
   },
   "outputs": [],
   "source": [
    "model_accuracy_report(y_test,y_prediction)"
   ]
  },
  {
   "cell_type": "markdown",
   "id": "88a6d43c",
   "metadata": {},
   "source": [
    "### KNN _GridSearchCV"
   ]
  },
  {
   "cell_type": "code",
   "execution_count": null,
   "id": "c6f0938b",
   "metadata": {},
   "outputs": [],
   "source": [
    "knn_model = KNeighborsClassifier()"
   ]
  },
  {
   "cell_type": "code",
   "execution_count": null,
   "id": "0818c031",
   "metadata": {},
   "outputs": [],
   "source": [
    "param_grid={\n",
    "   'n_neighbors': range(5, 150, 2),\n",
    "    'weights' : ['uniform', 'distance']\n",
    "}"
   ]
  },
  {
   "cell_type": "code",
   "execution_count": null,
   "id": "d18827d8",
   "metadata": {},
   "outputs": [],
   "source": [
    "best_knn_model_model, y_prediction = grid_search(knn_model ,param_grid,scaled_x_train,y_train,scaled_x_test,y_test,scoring='accuracy',cv=5)"
   ]
  },
  {
   "cell_type": "code",
   "execution_count": null,
   "id": "20c64fcd",
   "metadata": {
    "scrolled": false
   },
   "outputs": [],
   "source": [
    "model_accuracy_report(y_test,y_prediction)"
   ]
  },
  {
   "cell_type": "markdown",
   "id": "4d54afa7",
   "metadata": {},
   "source": [
    "## Decision Trees model"
   ]
  },
  {
   "cell_type": "code",
   "execution_count": null,
   "id": "f004ebf8",
   "metadata": {},
   "outputs": [],
   "source": [
    "dt_model = DecisionTreeClassifier(random_state=101)"
   ]
  },
  {
   "cell_type": "code",
   "execution_count": null,
   "id": "f2e4b379",
   "metadata": {},
   "outputs": [],
   "source": [
    "param_grid={\n",
    "    'criterion' : [\"gini\", \"entropy\"],\n",
    "    'max_features':[\"sqrt\", \"log2\"],\n",
    "    'max_depth': range(1, 100)\n",
    "}"
   ]
  },
  {
   "cell_type": "code",
   "execution_count": null,
   "id": "356a62e2",
   "metadata": {},
   "outputs": [],
   "source": [
    "best_dt_model, y_prediction = grid_search(dt_model ,param_grid,scaled_x_train,y_train,scaled_x_test,y_test,scoring='accuracy',cv=5)"
   ]
  },
  {
   "cell_type": "code",
   "execution_count": null,
   "id": "248b007f",
   "metadata": {
    "scrolled": false
   },
   "outputs": [],
   "source": [
    "model_accuracy_report(y_test,y_prediction)"
   ]
  },
  {
   "cell_type": "markdown",
   "id": "12c0cdc8",
   "metadata": {},
   "source": [
    "### Random Forest"
   ]
  },
  {
   "cell_type": "code",
   "execution_count": null,
   "id": "b76425f0",
   "metadata": {},
   "outputs": [],
   "source": [
    "rf_model = RandomForestClassifier(random_state=101)"
   ]
  },
  {
   "cell_type": "code",
   "execution_count": null,
   "id": "e9d1d023",
   "metadata": {},
   "outputs": [],
   "source": [
    "param_grid={\n",
    "    'n_estimators': range(50, 201, 10),\n",
    "    'criterion' : [\"gini\", \"entropy\"],\n",
    "    'max_features':[\"sqrt\", \"log2\"],\n",
    "    'max_depth': range(1, 40),\n",
    "}"
   ]
  },
  {
   "cell_type": "code",
   "execution_count": null,
   "id": "170e21d8",
   "metadata": {},
   "outputs": [],
   "source": [
    "best_rf_model, y_prediction = grid_search(rf_model ,param_grid,scaled_x_train,y_train,scaled_x_test,y_test,scoring='accuracy',cv=5)"
   ]
  },
  {
   "cell_type": "code",
   "execution_count": null,
   "id": "d3ba2c43",
   "metadata": {
    "scrolled": false
   },
   "outputs": [],
   "source": [
    "model_accuracy_report(y_test,y_prediction)"
   ]
  },
  {
   "cell_type": "markdown",
   "id": "cc1df562",
   "metadata": {},
   "source": [
    "## AdaBoostClassifier"
   ]
  },
  {
   "cell_type": "code",
   "execution_count": null,
   "id": "b1a7b443",
   "metadata": {},
   "outputs": [],
   "source": [
    "adaboost_model = AdaBoostClassifier(random_state=101)"
   ]
  },
  {
   "cell_type": "code",
   "execution_count": null,
   "id": "2b0d888a",
   "metadata": {},
   "outputs": [],
   "source": [
    "param_grid={\n",
    "    'n_estimators': range(50, 201, 10),\n",
    "    'learning_rate':range(1,3)\n",
    "}"
   ]
  },
  {
   "cell_type": "code",
   "execution_count": null,
   "id": "4d3e6b6c",
   "metadata": {},
   "outputs": [],
   "source": [
    "best_adaboost_model, y_prediction = grid_search(adaboost_model ,param_grid,scaled_x_train,y_train,scaled_x_test,y_test,scoring='accuracy',cv=5)"
   ]
  },
  {
   "cell_type": "code",
   "execution_count": null,
   "id": "b0c81923",
   "metadata": {
    "scrolled": false
   },
   "outputs": [],
   "source": [
    "model_accuracy_report(y_test,y_prediction)"
   ]
  },
  {
   "cell_type": "markdown",
   "id": "164f23a8",
   "metadata": {},
   "source": [
    "## GradientBoosting Classifier"
   ]
  },
  {
   "cell_type": "code",
   "execution_count": null,
   "id": "4839cce3",
   "metadata": {},
   "outputs": [],
   "source": [
    "grboost_model = GradientBoostingClassifier(random_state=101)"
   ]
  },
  {
   "cell_type": "code",
   "execution_count": null,
   "id": "59b5aefb",
   "metadata": {},
   "outputs": [],
   "source": [
    "param_grid={\n",
    "    'loss':['deviance','exponential'],\n",
    "    'n_estimators': range(50, 201, 10),\n",
    "    'learning_rate':range(1,3),\n",
    "    'max_depth': range(1, 40)\n",
    "}"
   ]
  },
  {
   "cell_type": "code",
   "execution_count": null,
   "id": "acd21445",
   "metadata": {},
   "outputs": [],
   "source": [
    "best_grboost_model, y_prediction = grid_search(grboost_model ,param_grid,scaled_x_train,y_train,scaled_x_test,y_test,scoring='accuracy',cv=5)"
   ]
  },
  {
   "cell_type": "code",
   "execution_count": null,
   "id": "72c436e9",
   "metadata": {
    "scrolled": false
   },
   "outputs": [],
   "source": [
    "model_accuracy_report(y_test,y_prediction)"
   ]
  },
  {
   "cell_type": "markdown",
   "id": "22fe7b8d",
   "metadata": {},
   "source": [
    "### XGBOOST Classifier\n",
    "**XGBRFClassifier**"
   ]
  },
  {
   "cell_type": "code",
   "execution_count": null,
   "id": "c032436f",
   "metadata": {},
   "outputs": [],
   "source": [
    "xgbrf_model = XGBRFClassifier(random_state=101)"
   ]
  },
  {
   "cell_type": "code",
   "execution_count": null,
   "id": "af5603b5",
   "metadata": {},
   "outputs": [],
   "source": [
    "param_grid={\n",
    "    'n_estimators': range(50, 201, 10),\n",
    "    'learning_rate':range(1,3),\n",
    "    'max_depth': range(1, 60)\n",
    "}"
   ]
  },
  {
   "cell_type": "code",
   "execution_count": null,
   "id": "e88cc584",
   "metadata": {},
   "outputs": [],
   "source": [
    "best_xgbrf_model, y_prediction = grid_search(xgbrf_model ,param_grid,scaled_x_train,y_train,scaled_x_test,y_test,scoring='accuracy',cv=5)"
   ]
  },
  {
   "cell_type": "code",
   "execution_count": null,
   "id": "95173fb6",
   "metadata": {
    "scrolled": false
   },
   "outputs": [],
   "source": [
    "model_accuracy_report(y_test,y_prediction)"
   ]
  },
  {
   "cell_type": "markdown",
   "id": "969acda1",
   "metadata": {},
   "source": [
    "**XGBClassifier**"
   ]
  },
  {
   "cell_type": "code",
   "execution_count": null,
   "id": "9c7f0076",
   "metadata": {},
   "outputs": [],
   "source": [
    "xgb_model = XGBClassifier(random_state=101)"
   ]
  },
  {
   "cell_type": "code",
   "execution_count": null,
   "id": "9c6a3601",
   "metadata": {},
   "outputs": [],
   "source": [
    "param_grid={\n",
    "    'n_estimators' : [50,100,150,200],\n",
    "    'booster':['gbtree', 'gblinear', 'dart'],\n",
    "    'learning_rate':[0.5,1.0,2],\n",
    "    'max_depth': [20,30,50,60]\n",
    "}"
   ]
  },
  {
   "cell_type": "code",
   "execution_count": null,
   "id": "ce01a11d",
   "metadata": {},
   "outputs": [],
   "source": [
    "best_xgb_model, y_prediction = grid_search(xgb_model ,param_grid,scaled_x_train,y_train,scaled_x_test,y_test,scoring='accuracy',cv=5)"
   ]
  },
  {
   "cell_type": "code",
   "execution_count": null,
   "id": "c0e5273e",
   "metadata": {
    "scrolled": false
   },
   "outputs": [],
   "source": [
    "model_accuracy_report(y_test,y_prediction)"
   ]
  },
  {
   "cell_type": "markdown",
   "id": "cea3e69f",
   "metadata": {},
   "source": [
    "### SVC_GridSearchCV"
   ]
  },
  {
   "cell_type": "code",
   "execution_count": null,
   "id": "4e15e62e",
   "metadata": {},
   "outputs": [],
   "source": [
    "base_svc = SVC(random_state=101)"
   ]
  },
  {
   "cell_type": "code",
   "execution_count": null,
   "id": "e8e5331b",
   "metadata": {},
   "outputs": [],
   "source": [
    "param_grid=[\n",
    "    \n",
    "    {'C': [1, 10, 100, 1000], 'kernel': ['rbf'], 'gamma': [0.001, 0.01, 0.1, 1.0, 10.0, 100.0], 'decision_function_shape': ['ovr','ovo']},\n",
    "    {'C': [1, 10, 100, 1000], 'kernel': ['poly'], 'degree': range(2, 20),'decision_function_shape':['ovr','ovo']},\n",
    "    {'C': [1, 10, 100, 1000], 'kernel': ['sigmoid'],'decision_function_shape':['ovr','ovo']}\n",
    "]"
   ]
  },
  {
   "cell_type": "code",
   "execution_count": null,
   "id": "d5df7808",
   "metadata": {},
   "outputs": [],
   "source": [
    "best_base_svc, y_prediction = grid_search(base_svc ,param_grid,scaled_x_train,y_train,scaled_x_test,y_test,scoring='accuracy',cv=5)"
   ]
  },
  {
   "cell_type": "code",
   "execution_count": null,
   "id": "495d8041",
   "metadata": {
    "scrolled": false
   },
   "outputs": [],
   "source": [
    "model_accuracy_report(y_test,y_prediction)"
   ]
  },
  {
   "cell_type": "markdown",
   "id": "aa333285",
   "metadata": {},
   "source": [
    "## Display models train & test accuracy"
   ]
  },
  {
   "cell_type": "code",
   "execution_count": null,
   "id": "59ea7dce",
   "metadata": {},
   "outputs": [],
   "source": [
    "print(train_models_accuracy)"
   ]
  },
  {
   "cell_type": "code",
   "execution_count": null,
   "id": "09784172",
   "metadata": {},
   "outputs": [],
   "source": [
    "print(test_models_accuracy)"
   ]
  },
  {
   "cell_type": "code",
   "execution_count": null,
   "id": "17ec6760",
   "metadata": {},
   "outputs": [],
   "source": [
    "Grid_accuracy_df = pd.DataFrame.from_dict(train_models_accuracy, orient='index',columns=['train_accuracy'])\n",
    "Grid_accuracy_df['test_accuracy'] =[val for key,val in test_models_accuracy.items()]\n",
    "Grid_accuracy_df = Grid_accuracy_df.reset_index().rename(columns={'index':'model'})\n",
    "Grid_accuracy_df"
   ]
  },
  {
   "cell_type": "code",
   "execution_count": null,
   "id": "19e4461a",
   "metadata": {},
   "outputs": [],
   "source": [
    "train_models_accuracy.keys()"
   ]
  },
  {
   "cell_type": "code",
   "execution_count": null,
   "id": "d4b4eff0",
   "metadata": {},
   "outputs": [],
   "source": [
    "fig = plt.figure(figsize=[10,5],dpi=150)\n",
    "plt.bar(train_models_accuracy.keys(),[val for key,val in train_models_accuracy.items()],label=\"train accuracy\")\n",
    "plt.bar(test_models_accuracy.keys(),[val for key,val in test_models_accuracy.items()],label=\"test accuracy\")\n",
    "plt.legend(loc='lower right')\n",
    "plt.xticks(rotation=90);"
   ]
  },
  {
   "cell_type": "markdown",
   "id": "86ac95c7",
   "metadata": {},
   "source": [
    "* from models above we can find that the best three models on test data set are:\n",
    "    * LogisticRegression:\t: \n",
    "        * r2_score:0.99, recall:0.99 precision:0.99\n",
    "    * OneVsOneClassifier:\t\t\n",
    "        * r2_score:0.98 , recall:0.98, precision:0.99\n",
    "    * SVC: \n",
    "        * r2_score:0.98 , recall:0.98, precision:0.98"
   ]
  },
  {
   "cell_type": "markdown",
   "id": "05e6cdbd",
   "metadata": {},
   "source": [
    "### Train all Data using LogisticRegression Model with adjusted r2\t 0.99 for test Data"
   ]
  },
  {
   "cell_type": "code",
   "execution_count": null,
   "id": "cbbe05e5",
   "metadata": {},
   "outputs": [],
   "source": [
    "best_log_model"
   ]
  },
  {
   "cell_type": "code",
   "execution_count": null,
   "id": "688c5f19",
   "metadata": {},
   "outputs": [],
   "source": [
    "selected_features"
   ]
  },
  {
   "cell_type": "code",
   "execution_count": null,
   "id": "3938e72d",
   "metadata": {},
   "outputs": [],
   "source": [
    "x_selected"
   ]
  },
  {
   "cell_type": "code",
   "execution_count": null,
   "id": "7e19f9ff",
   "metadata": {},
   "outputs": [],
   "source": [
    "# feature scaling\n",
    "scaler = StandardScaler()\n",
    "scaled_x_train_all = scaler.fit_transform(x_selected)"
   ]
  },
  {
   "cell_type": "code",
   "execution_count": null,
   "id": "c9212163",
   "metadata": {},
   "outputs": [],
   "source": [
    "scaled_x_train_all.shape"
   ]
  },
  {
   "cell_type": "code",
   "execution_count": null,
   "id": "e4fe0e79",
   "metadata": {},
   "outputs": [],
   "source": [
    "# apply PCA \n",
    "pca = PCA()\n",
    "scaled_x_train_all = pca.fit_transform(scaled_x_train_all )"
   ]
  },
  {
   "cell_type": "code",
   "execution_count": null,
   "id": "1cb3b9e5",
   "metadata": {},
   "outputs": [],
   "source": [
    "# logistic_regression:\n",
    "model = LogisticRegression(C=3237.45754281764,  solver='newton-cg')"
   ]
  },
  {
   "cell_type": "code",
   "execution_count": null,
   "id": "df413971",
   "metadata": {},
   "outputs": [],
   "source": [
    "model.fit(scaled_x_train_all,y)"
   ]
  },
  {
   "cell_type": "markdown",
   "id": "03891bc7",
   "metadata": {},
   "source": [
    "### Check final Train result on Full Train data"
   ]
  },
  {
   "cell_type": "code",
   "execution_count": null,
   "id": "aa1d0571",
   "metadata": {},
   "outputs": [],
   "source": [
    "y_train_predict = model.predict(scaled_x_train_all)"
   ]
  },
  {
   "cell_type": "code",
   "execution_count": null,
   "id": "b3495ce1",
   "metadata": {},
   "outputs": [],
   "source": [
    "plot_confusion_matrix(confusion_matrix(y,y_train_predict))\n",
    "plt.show()"
   ]
  },
  {
   "cell_type": "code",
   "execution_count": null,
   "id": "7b212c09",
   "metadata": {},
   "outputs": [],
   "source": [
    "print(f'classification_report:\\n{classification_report(y,y_train_predict)}')"
   ]
  },
  {
   "cell_type": "code",
   "execution_count": null,
   "id": "2ef65773",
   "metadata": {},
   "outputs": [],
   "source": [
    "accuracy_score(y,y_train_predict)"
   ]
  },
  {
   "cell_type": "code",
   "execution_count": null,
   "id": "b828b7f8",
   "metadata": {},
   "outputs": [],
   "source": [
    "precision_score(y,y_train_predict,average=\"weighted\")"
   ]
  },
  {
   "cell_type": "code",
   "execution_count": null,
   "id": "a11b5151",
   "metadata": {},
   "outputs": [],
   "source": [
    "recall_score(y,y_train_predict,average=\"weighted\")"
   ]
  },
  {
   "cell_type": "markdown",
   "id": "0946f72b",
   "metadata": {},
   "source": [
    "### Save Model"
   ]
  },
  {
   "cell_type": "code",
   "execution_count": null,
   "id": "af58bbba",
   "metadata": {},
   "outputs": [],
   "source": [
    "joblib.dump(model,'../model/model.h5')\n",
    "joblib.dump(scaler,'../model/scaler.h5')\n",
    "joblib.dump(pca,'../model/pca.h5')\n",
    "joblib.dump(selected_features,'../model/features.h5')"
   ]
  },
  {
   "cell_type": "markdown",
   "id": "fcab0a6f",
   "metadata": {},
   "source": [
    "<a href='#conc'></a>\n",
    "## Conclusion\n",
    "* Finally: we will launch **LogisticRegression(C=3237.45754281764, solver='newton-cg'), we get Test_accuracy about 99%.**\n",
    "* Trainig Full data accuracy 0.9845 about 98%.\n",
    "* Selected Features are:\n",
    "['battery_power', 'int_memory', 'm_dep', 'mobile_wt', 'n_cores','px_height', 'px_width', 'ram', 'sc_h', 'wifi']."
   ]
  },
  {
   "cell_type": "code",
   "execution_count": null,
   "id": "893cbbb8",
   "metadata": {},
   "outputs": [],
   "source": []
  }
 ],
 "metadata": {
  "kernelspec": {
   "display_name": "Python 3 (ipykernel)",
   "language": "python",
   "name": "python3"
  },
  "language_info": {
   "codemirror_mode": {
    "name": "ipython",
    "version": 3
   },
   "file_extension": ".py",
   "mimetype": "text/x-python",
   "name": "python",
   "nbconvert_exporter": "python",
   "pygments_lexer": "ipython3",
   "version": "3.9.7"
  }
 },
 "nbformat": 4,
 "nbformat_minor": 5
}
