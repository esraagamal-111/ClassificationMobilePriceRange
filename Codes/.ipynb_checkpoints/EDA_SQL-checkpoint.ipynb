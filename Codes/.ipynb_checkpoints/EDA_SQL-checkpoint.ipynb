{
 "cells": [
  {
   "cell_type": "markdown",
   "id": "fdb4ad2b",
   "metadata": {},
   "source": [
    "# Mobile Price Classification EDA SQL "
   ]
  },
  {
   "cell_type": "markdown",
   "id": "0e22459d",
   "metadata": {},
   "source": [
    "### Table of contenet:\n",
    "<li><a href='#intro'>Introduction</a></li>\n",
    "<li><a href='#dq'> Data Questions</a></li>"
   ]
  },
  {
   "cell_type": "markdown",
   "id": "b3177a93",
   "metadata": {},
   "source": [
    "<a id='intro'></a>\n",
    "## Introduction\n",
    "\n",
    "* **Context**\n",
    "<p>Bob has started his own mobile company. He wants to give tough fight to big companies like Apple,Samsung etc.\n",
    "\n",
    "He does not know how to estimate price of mobiles his company creates. In this competitive mobile phone market you cannot simply assume things. To solve this problem he collects sales data of mobile phones of various companies.\n",
    "\n",
    "Bob wants to find out some relation between features of a mobile phone(eg:- RAM,Internal Memory etc) and its selling price. But he is not so good at Machine Learning. So he needs your help to solve this problem.\n",
    "\n",
    "In this problem you do not have to predict actual price but a price range indicating how high the price is. </p>\n",
    "you can find the dataset [here](https://www.kaggle.com/iabhishekofficial/mobile-price-classification).\n",
    "* **Dataset files** \n",
    "    * train.csv - relation between features of a mobile phone(eg:- RAM,Internal Memory etc) and its selling price range.\n",
    "    * test.csv - new data need to predict in which price range.\n",
    "* **Project Goal**\n",
    "<p>Predict a price range indicating how high the price is</p>\n",
    "* **Attributes Defintion**\n",
    "<li>battery_power: Total energy a battery can store in one time measured in mAh</li>\n",
    "Hint: Capacity loss: the faster the charging speed, the greater the capacity loss.\n",
    "<li>blue: Has bluetooth or not</li>\n",
    "<li>clock_speed: speed at which microprocessor executes instructionst</li>\n",
    "<li>dual_sim: Has dual sim support or not</li>\n",
    "<li>fc: Front Camera mega pixels</li>\n",
    "<li>four_g: Has 4G or not</li>\n",
    "<li>int_memory: Internal Memory in Gigabytes</li>\n",
    "<li>m_dep: Mobile Depth in cm</li>\n",
    "<li>mobile_wt: Weight of mobile phone</li>\n",
    "<li>n_cores: Number of cores of processor</li>\n",
    "<li>pc: Primary Camera mega pixels</li>\n",
    "<li>px_height: Pixel Resolution Height</li>\n",
    "<li>px_width: Pixel Resolution Width</li>\n",
    "<li>ram: Random Access Memory in Megabytes</li>\n",
    "<li>sc_h: Screen Height of mobile in cm</li>\n",
    "<li>sc_w: Screen Width of mobile in cm</li>\n",
    "<li>talk_time: longest time that a single battery charge will last when you are</li>\n",
    "<li>three_g: Has 3G or not</li>\n",
    "<li>touch_screen: Has touch screen or not</li>\n",
    "<li>wifi: Has wifi or not</li>\n",
    "<li>price_range: This is the target variable with value of 0(low cost), 1(medium cost), 2(high cost) and 3(very high cost).</li>\n",
    "* **Answer the following questions:**\n",
    "<ol>\n",
    "    <li>What is the maximum , minmum & average of mobile battery power?</li>\n",
    "    <li>How many sales for mobile which has bluetooth?</li>\n",
    "    <li>which price range have the most sales?</li>\n",
    "    <li>What is mobile weight average per price range?</li>\n",
    "    <li>Does number of cores of processor affect on sales?</li>   \n",
    "    <li>what is the ram average for mobiles which have front camera per price range?</li>\n",
    "    <li>What is the battery power average & clock speed for mobiles per price range & wifi</li> \n",
    "    <li>What is the average ram , battery power & number of sales for mobile support 4G</li>\n",
    "    <li>What is average of px_height & px_width of mobiles which has front camera</li>\n",
    "    <li>How many sales of mobile which has touch screen & wifi</li>\n",
    "    \n",
    "</ol>"
   ]
  },
  {
   "cell_type": "code",
   "execution_count": 2,
   "id": "37acf2aa",
   "metadata": {},
   "outputs": [],
   "source": [
    "## Basic Importing \n",
    "import sqlite3\n",
    "import numpy as np\n",
    "import pandas as pd\n",
    "pd.set_option('display.max_columns',500)\n"
   ]
  },
  {
   "cell_type": "markdown",
   "id": "d93c62c3",
   "metadata": {},
   "source": [
    "<a id='dq'></a>\n",
    "## Data Questions\n",
    "#### 1- connect to the database"
   ]
  },
  {
   "cell_type": "code",
   "execution_count": 3,
   "id": "759a9b67",
   "metadata": {},
   "outputs": [],
   "source": [
    "# Files Path\n",
    "db_path = \"../Database/data_db.db\""
   ]
  },
  {
   "cell_type": "code",
   "execution_count": 4,
   "id": "81a0b5d8",
   "metadata": {},
   "outputs": [],
   "source": [
    "# create importing data from Sql function\n",
    "def import_sql(db_path,sql,data):\n",
    "    '''import data from sql \n",
    "        Args: \n",
    "            db_path(str): database path\n",
    "            sql(str):'SELECT SQL Statement'\n",
    "            data: Parameter in SELECT SQL Statement\n",
    "        return: \n",
    "            SELECT SQL Statement result in a list. \n",
    "    '''\n",
    "    conn = sqlite3.connect(db_path)\n",
    "    try:\n",
    "        print(f\"try to connect to {db_path.split('/')[-1].split('.')[0]} Database...\")\n",
    "        rows = conn.execute(sql,data).fetchall()\n",
    "        print(\"Successuly connected\")\n",
    "        return rows\n",
    "    except Exception as e:\n",
    "        print(\"e is : {}\".format(e))\n",
    "        print(type(e).__name__)\n",
    "        print('Failed to connect & retrieve data')\n",
    "    conn.close()"
   ]
  },
  {
   "cell_type": "code",
   "execution_count": 5,
   "id": "de7d7314",
   "metadata": {},
   "outputs": [],
   "source": [
    "def tuple_to_df(data,columns_name):\n",
    "    '''convert list of tuples into DataFrame\n",
    "        Args: \n",
    "            data(tuple list): list of tuples\n",
    "            columns_name(str list):list of columns name\n",
    "        return: \n",
    "            DataFrame. \n",
    "    '''\n",
    "    df = pd.DataFrame(data,columns=list(columns_name))\n",
    "    return df"
   ]
  },
  {
   "cell_type": "markdown",
   "id": "cae864e9",
   "metadata": {},
   "source": [
    "#### What is the maximum , minmum & average of mobile battery power?"
   ]
  },
  {
   "cell_type": "code",
   "execution_count": 6,
   "id": "cd0bffbc",
   "metadata": {},
   "outputs": [
    {
     "name": "stdout",
     "output_type": "stream",
     "text": [
      "try to connect to data_db Database...\n",
      "Successuly connected\n"
     ]
    }
   ],
   "source": [
    "sql = '''SELECT max(battery_power) as max_power , min(battery_power) as min_power , avg(battery_power) as avg_power\n",
    "from Features_tb'''\n",
    "data=[]\n",
    "rows = import_sql(db_path,sql,data)"
   ]
  },
  {
   "cell_type": "code",
   "execution_count": 7,
   "id": "6f8f577a",
   "metadata": {},
   "outputs": [
    {
     "data": {
      "text/plain": [
       "[(1998, 501, 1238.5185)]"
      ]
     },
     "execution_count": 7,
     "metadata": {},
     "output_type": "execute_result"
    }
   ],
   "source": [
    "rows"
   ]
  },
  {
   "cell_type": "code",
   "execution_count": 8,
   "id": "2c49f1ca",
   "metadata": {},
   "outputs": [
    {
     "name": "stdout",
     "output_type": "stream",
     "text": [
      "max_power:1998, min_power:501, avg_power:501\n"
     ]
    }
   ],
   "source": [
    "print(f'max_power:{rows[0][0]}, min_power:{rows[0][1]}, avg_power:{rows[0][1]}')"
   ]
  },
  {
   "cell_type": "markdown",
   "id": "b1ea89d8",
   "metadata": {},
   "source": [
    "####  <li>How many sales for mobile which has bluetooth?</li>"
   ]
  },
  {
   "cell_type": "code",
   "execution_count": 9,
   "id": "31227d61",
   "metadata": {},
   "outputs": [
    {
     "name": "stdout",
     "output_type": "stream",
     "text": [
      "try to connect to data_db Database...\n",
      "Successuly connected\n"
     ]
    }
   ],
   "source": [
    "sql = '''\n",
    "SELECT count(id)as cnt from Features_tb WHERE blue==?\n",
    "'''\n",
    "data=[1]\n",
    "rows = import_sql(db_path,sql,data)"
   ]
  },
  {
   "cell_type": "code",
   "execution_count": 10,
   "id": "0291c9f0",
   "metadata": {},
   "outputs": [
    {
     "name": "stdout",
     "output_type": "stream",
     "text": [
      "count_sales:1980\n"
     ]
    }
   ],
   "source": [
    "print(f'count_sales:{rows[0][0]}')"
   ]
  },
  {
   "cell_type": "markdown",
   "id": "b4a1c26f",
   "metadata": {},
   "source": [
    "#### which price range have the most sales?"
   ]
  },
  {
   "cell_type": "code",
   "execution_count": 11,
   "id": "bc201baa",
   "metadata": {},
   "outputs": [
    {
     "name": "stdout",
     "output_type": "stream",
     "text": [
      "try to connect to data_db Database...\n",
      "Successuly connected\n"
     ]
    }
   ],
   "source": [
    "sql = '''SELECT price_range, count(id)as cnt from Features_tb GROUP by price_range'''\n",
    "data=[]\n",
    "rows = import_sql(db_path,sql,data)"
   ]
  },
  {
   "cell_type": "code",
   "execution_count": 12,
   "id": "b979aade",
   "metadata": {
    "scrolled": true
   },
   "outputs": [
    {
     "data": {
      "text/html": [
       "<div>\n",
       "<style scoped>\n",
       "    .dataframe tbody tr th:only-of-type {\n",
       "        vertical-align: middle;\n",
       "    }\n",
       "\n",
       "    .dataframe tbody tr th {\n",
       "        vertical-align: top;\n",
       "    }\n",
       "\n",
       "    .dataframe thead th {\n",
       "        text-align: right;\n",
       "    }\n",
       "</style>\n",
       "<table border=\"1\" class=\"dataframe\">\n",
       "  <thead>\n",
       "    <tr style=\"text-align: right;\">\n",
       "      <th></th>\n",
       "      <th>price_range</th>\n",
       "      <th>sales_cnt</th>\n",
       "    </tr>\n",
       "  </thead>\n",
       "  <tbody>\n",
       "    <tr>\n",
       "      <th>0</th>\n",
       "      <td>0</td>\n",
       "      <td>1000</td>\n",
       "    </tr>\n",
       "    <tr>\n",
       "      <th>1</th>\n",
       "      <td>1</td>\n",
       "      <td>1000</td>\n",
       "    </tr>\n",
       "    <tr>\n",
       "      <th>2</th>\n",
       "      <td>2</td>\n",
       "      <td>1000</td>\n",
       "    </tr>\n",
       "    <tr>\n",
       "      <th>3</th>\n",
       "      <td>3</td>\n",
       "      <td>1000</td>\n",
       "    </tr>\n",
       "  </tbody>\n",
       "</table>\n",
       "</div>"
      ],
      "text/plain": [
       "   price_range  sales_cnt\n",
       "0            0       1000\n",
       "1            1       1000\n",
       "2            2       1000\n",
       "3            3       1000"
      ]
     },
     "execution_count": 12,
     "metadata": {},
     "output_type": "execute_result"
    }
   ],
   "source": [
    "df = tuple_to_df(rows,['price_range','sales_cnt'])\n",
    "df"
   ]
  },
  {
   "cell_type": "markdown",
   "id": "ac3707c5",
   "metadata": {},
   "source": [
    "* price range has equal sales count"
   ]
  },
  {
   "cell_type": "markdown",
   "id": "a566354f",
   "metadata": {},
   "source": [
    "### <li>What is mobile weight average per price range?</li>"
   ]
  },
  {
   "cell_type": "code",
   "execution_count": 13,
   "id": "17f55170",
   "metadata": {},
   "outputs": [
    {
     "name": "stdout",
     "output_type": "stream",
     "text": [
      "try to connect to data_db Database...\n",
      "Successuly connected\n"
     ]
    }
   ],
   "source": [
    "# sales per year\n",
    "sql = '''SELECT price_range, avg(mobile_wt)as avg_mobile_weight from Features_tb GROUP by price_range'''\n",
    "data=[]\n",
    "rows = import_sql(db_path,sql,data)"
   ]
  },
  {
   "cell_type": "code",
   "execution_count": 14,
   "id": "94e88261",
   "metadata": {
    "scrolled": true
   },
   "outputs": [
    {
     "data": {
      "text/html": [
       "<div>\n",
       "<style scoped>\n",
       "    .dataframe tbody tr th:only-of-type {\n",
       "        vertical-align: middle;\n",
       "    }\n",
       "\n",
       "    .dataframe tbody tr th {\n",
       "        vertical-align: top;\n",
       "    }\n",
       "\n",
       "    .dataframe thead th {\n",
       "        text-align: right;\n",
       "    }\n",
       "</style>\n",
       "<table border=\"1\" class=\"dataframe\">\n",
       "  <thead>\n",
       "    <tr style=\"text-align: right;\">\n",
       "      <th></th>\n",
       "      <th>price_range</th>\n",
       "      <th>avg_mobile_weight</th>\n",
       "    </tr>\n",
       "  </thead>\n",
       "  <tbody>\n",
       "    <tr>\n",
       "      <th>0</th>\n",
       "      <td>0</td>\n",
       "      <td>140.552</td>\n",
       "    </tr>\n",
       "    <tr>\n",
       "      <th>1</th>\n",
       "      <td>1</td>\n",
       "      <td>140.510</td>\n",
       "    </tr>\n",
       "    <tr>\n",
       "      <th>2</th>\n",
       "      <td>2</td>\n",
       "      <td>143.614</td>\n",
       "    </tr>\n",
       "    <tr>\n",
       "      <th>3</th>\n",
       "      <td>3</td>\n",
       "      <td>136.320</td>\n",
       "    </tr>\n",
       "  </tbody>\n",
       "</table>\n",
       "</div>"
      ],
      "text/plain": [
       "   price_range  avg_mobile_weight\n",
       "0            0            140.552\n",
       "1            1            140.510\n",
       "2            2            143.614\n",
       "3            3            136.320"
      ]
     },
     "execution_count": 14,
     "metadata": {},
     "output_type": "execute_result"
    }
   ],
   "source": [
    "df = tuple_to_df(rows,['price_range','avg_mobile_weight'])\n",
    "df"
   ]
  },
  {
   "cell_type": "markdown",
   "id": "61ad65fa",
   "metadata": {},
   "source": [
    "#### <li>Does number of cores of processor affect on sales?</li>"
   ]
  },
  {
   "cell_type": "code",
   "execution_count": 15,
   "id": "22f4df53",
   "metadata": {},
   "outputs": [
    {
     "name": "stdout",
     "output_type": "stream",
     "text": [
      "try to connect to data_db Database...\n",
      "Successuly connected\n"
     ]
    }
   ],
   "source": [
    "# sales Month per year\n",
    "sql = '''SELECT n_cores, count(id) as cnt from Features_tb GROUP by n_cores'''\n",
    "data=[]\n",
    "rows = import_sql(db_path,sql,data)"
   ]
  },
  {
   "cell_type": "code",
   "execution_count": 16,
   "id": "da1f8775",
   "metadata": {
    "scrolled": true
   },
   "outputs": [
    {
     "data": {
      "text/html": [
       "<div>\n",
       "<style scoped>\n",
       "    .dataframe tbody tr th:only-of-type {\n",
       "        vertical-align: middle;\n",
       "    }\n",
       "\n",
       "    .dataframe tbody tr th {\n",
       "        vertical-align: top;\n",
       "    }\n",
       "\n",
       "    .dataframe thead th {\n",
       "        text-align: right;\n",
       "    }\n",
       "</style>\n",
       "<table border=\"1\" class=\"dataframe\">\n",
       "  <thead>\n",
       "    <tr style=\"text-align: right;\">\n",
       "      <th></th>\n",
       "      <th>n_cores</th>\n",
       "      <th>sales_count</th>\n",
       "      <th>sales%</th>\n",
       "    </tr>\n",
       "  </thead>\n",
       "  <tbody>\n",
       "    <tr>\n",
       "      <th>0</th>\n",
       "      <td>1</td>\n",
       "      <td>484</td>\n",
       "      <td>12.10</td>\n",
       "    </tr>\n",
       "    <tr>\n",
       "      <th>1</th>\n",
       "      <td>2</td>\n",
       "      <td>494</td>\n",
       "      <td>12.35</td>\n",
       "    </tr>\n",
       "    <tr>\n",
       "      <th>2</th>\n",
       "      <td>3</td>\n",
       "      <td>492</td>\n",
       "      <td>12.30</td>\n",
       "    </tr>\n",
       "    <tr>\n",
       "      <th>3</th>\n",
       "      <td>4</td>\n",
       "      <td>548</td>\n",
       "      <td>13.70</td>\n",
       "    </tr>\n",
       "    <tr>\n",
       "      <th>4</th>\n",
       "      <td>5</td>\n",
       "      <td>492</td>\n",
       "      <td>12.30</td>\n",
       "    </tr>\n",
       "    <tr>\n",
       "      <th>5</th>\n",
       "      <td>6</td>\n",
       "      <td>460</td>\n",
       "      <td>11.50</td>\n",
       "    </tr>\n",
       "    <tr>\n",
       "      <th>6</th>\n",
       "      <td>7</td>\n",
       "      <td>518</td>\n",
       "      <td>12.95</td>\n",
       "    </tr>\n",
       "    <tr>\n",
       "      <th>7</th>\n",
       "      <td>8</td>\n",
       "      <td>512</td>\n",
       "      <td>12.80</td>\n",
       "    </tr>\n",
       "  </tbody>\n",
       "</table>\n",
       "</div>"
      ],
      "text/plain": [
       "   n_cores  sales_count  sales%\n",
       "0        1          484   12.10\n",
       "1        2          494   12.35\n",
       "2        3          492   12.30\n",
       "3        4          548   13.70\n",
       "4        5          492   12.30\n",
       "5        6          460   11.50\n",
       "6        7          518   12.95\n",
       "7        8          512   12.80"
      ]
     },
     "execution_count": 16,
     "metadata": {},
     "output_type": "execute_result"
    }
   ],
   "source": [
    "df = tuple_to_df(rows,['n_cores','sales_count'])\n",
    "df['sales%'] = df['sales_count']/df['sales_count'].sum()*100\n",
    "df"
   ]
  },
  {
   "cell_type": "markdown",
   "id": "dfe693f8",
   "metadata": {},
   "source": [
    "* it seems that number of cores didn't affect number of sales."
   ]
  },
  {
   "cell_type": "markdown",
   "id": "0fb79905",
   "metadata": {},
   "source": [
    "#### <li>what is the ram average for mobiles which have front camera per price range?</li>\n"
   ]
  },
  {
   "cell_type": "code",
   "execution_count": 17,
   "id": "acb8ee7a",
   "metadata": {},
   "outputs": [
    {
     "name": "stdout",
     "output_type": "stream",
     "text": [
      "try to connect to data_db Database...\n",
      "Successuly connected\n"
     ]
    }
   ],
   "source": [
    "# sales Month per year\n",
    "sql = '''SELECT price_range, avg(ram) from Features_tb WHERE fc == ? GROUP by price_range'''\n",
    "data=[1]\n",
    "rows = import_sql(db_path,sql,data)"
   ]
  },
  {
   "cell_type": "code",
   "execution_count": 18,
   "id": "cf5dd5e3",
   "metadata": {
    "scrolled": true
   },
   "outputs": [
    {
     "data": {
      "text/html": [
       "<div>\n",
       "<style scoped>\n",
       "    .dataframe tbody tr th:only-of-type {\n",
       "        vertical-align: middle;\n",
       "    }\n",
       "\n",
       "    .dataframe tbody tr th {\n",
       "        vertical-align: top;\n",
       "    }\n",
       "\n",
       "    .dataframe thead th {\n",
       "        text-align: right;\n",
       "    }\n",
       "</style>\n",
       "<table border=\"1\" class=\"dataframe\">\n",
       "  <thead>\n",
       "    <tr style=\"text-align: right;\">\n",
       "      <th></th>\n",
       "      <th>price_range</th>\n",
       "      <th>ram_avg</th>\n",
       "    </tr>\n",
       "  </thead>\n",
       "  <tbody>\n",
       "    <tr>\n",
       "      <th>0</th>\n",
       "      <td>0</td>\n",
       "      <td>829.164179</td>\n",
       "    </tr>\n",
       "    <tr>\n",
       "      <th>1</th>\n",
       "      <td>1</td>\n",
       "      <td>1704.187500</td>\n",
       "    </tr>\n",
       "    <tr>\n",
       "      <th>2</th>\n",
       "      <td>2</td>\n",
       "      <td>2641.659091</td>\n",
       "    </tr>\n",
       "    <tr>\n",
       "      <th>3</th>\n",
       "      <td>3</td>\n",
       "      <td>3458.900000</td>\n",
       "    </tr>\n",
       "  </tbody>\n",
       "</table>\n",
       "</div>"
      ],
      "text/plain": [
       "   price_range      ram_avg\n",
       "0            0   829.164179\n",
       "1            1  1704.187500\n",
       "2            2  2641.659091\n",
       "3            3  3458.900000"
      ]
     },
     "execution_count": 18,
     "metadata": {},
     "output_type": "execute_result"
    }
   ],
   "source": [
    "df = tuple_to_df(rows,['price_range','ram_avg'])\n",
    "df"
   ]
  },
  {
   "cell_type": "markdown",
   "id": "77ae0ffd",
   "metadata": {},
   "source": [
    "#### <li>What is the battery power average & clock speed for mobiles per price range & wifi</li>"
   ]
  },
  {
   "cell_type": "code",
   "execution_count": 19,
   "id": "eb74601a",
   "metadata": {},
   "outputs": [
    {
     "name": "stdout",
     "output_type": "stream",
     "text": [
      "try to connect to data_db Database...\n",
      "Successuly connected\n"
     ]
    }
   ],
   "source": [
    "# sales per department\n",
    "sql = '''\n",
    "SELECT price_range ,wifi, avg(battery_power) as power_avg, avg(clock_speed) as clock_speed_avg \n",
    "from Features_tb \n",
    "GROUP by price_range, wifi \n",
    "ORDER by power_avg DESC;\n",
    "'''\n",
    "data=[]\n",
    "rows = import_sql(db_path,sql,data)"
   ]
  },
  {
   "cell_type": "code",
   "execution_count": 20,
   "id": "3873086b",
   "metadata": {
    "scrolled": true
   },
   "outputs": [
    {
     "data": {
      "text/html": [
       "<div>\n",
       "<style scoped>\n",
       "    .dataframe tbody tr th:only-of-type {\n",
       "        vertical-align: middle;\n",
       "    }\n",
       "\n",
       "    .dataframe tbody tr th {\n",
       "        vertical-align: top;\n",
       "    }\n",
       "\n",
       "    .dataframe thead th {\n",
       "        text-align: right;\n",
       "    }\n",
       "</style>\n",
       "<table border=\"1\" class=\"dataframe\">\n",
       "  <thead>\n",
       "    <tr style=\"text-align: right;\">\n",
       "      <th></th>\n",
       "      <th>price_range</th>\n",
       "      <th>wifi</th>\n",
       "      <th>power_avg</th>\n",
       "      <th>clock_speed_avg</th>\n",
       "    </tr>\n",
       "  </thead>\n",
       "  <tbody>\n",
       "    <tr>\n",
       "      <th>0</th>\n",
       "      <td>3</td>\n",
       "      <td>1</td>\n",
       "      <td>1380.515267</td>\n",
       "      <td>1.524809</td>\n",
       "    </tr>\n",
       "    <tr>\n",
       "      <th>1</th>\n",
       "      <td>3</td>\n",
       "      <td>0</td>\n",
       "      <td>1379.399160</td>\n",
       "      <td>1.515546</td>\n",
       "    </tr>\n",
       "    <tr>\n",
       "      <th>2</th>\n",
       "      <td>2</td>\n",
       "      <td>0</td>\n",
       "      <td>1245.024194</td>\n",
       "      <td>1.537097</td>\n",
       "    </tr>\n",
       "    <tr>\n",
       "      <th>3</th>\n",
       "      <td>1</td>\n",
       "      <td>1</td>\n",
       "      <td>1231.055556</td>\n",
       "      <td>1.479365</td>\n",
       "    </tr>\n",
       "    <tr>\n",
       "      <th>4</th>\n",
       "      <td>1</td>\n",
       "      <td>0</td>\n",
       "      <td>1226.645161</td>\n",
       "      <td>1.497984</td>\n",
       "    </tr>\n",
       "    <tr>\n",
       "      <th>5</th>\n",
       "      <td>2</td>\n",
       "      <td>1</td>\n",
       "      <td>1211.880952</td>\n",
       "      <td>1.522619</td>\n",
       "    </tr>\n",
       "    <tr>\n",
       "      <th>6</th>\n",
       "      <td>0</td>\n",
       "      <td>0</td>\n",
       "      <td>1125.289683</td>\n",
       "      <td>1.617063</td>\n",
       "    </tr>\n",
       "    <tr>\n",
       "      <th>7</th>\n",
       "      <td>0</td>\n",
       "      <td>1</td>\n",
       "      <td>1108.379032</td>\n",
       "      <td>1.482258</td>\n",
       "    </tr>\n",
       "  </tbody>\n",
       "</table>\n",
       "</div>"
      ],
      "text/plain": [
       "   price_range  wifi    power_avg  clock_speed_avg\n",
       "0            3     1  1380.515267         1.524809\n",
       "1            3     0  1379.399160         1.515546\n",
       "2            2     0  1245.024194         1.537097\n",
       "3            1     1  1231.055556         1.479365\n",
       "4            1     0  1226.645161         1.497984\n",
       "5            2     1  1211.880952         1.522619\n",
       "6            0     0  1125.289683         1.617063\n",
       "7            0     1  1108.379032         1.482258"
      ]
     },
     "execution_count": 20,
     "metadata": {},
     "output_type": "execute_result"
    }
   ],
   "source": [
    "df = tuple_to_df(rows,['price_range','wifi','power_avg','clock_speed_avg'])\n",
    "df"
   ]
  },
  {
   "cell_type": "markdown",
   "id": "48101be9",
   "metadata": {},
   "source": [
    "#### <li>What is the average ram , battery power & number of sales for mobile support 4G</li>"
   ]
  },
  {
   "cell_type": "code",
   "execution_count": 21,
   "id": "e8837d32",
   "metadata": {},
   "outputs": [
    {
     "name": "stdout",
     "output_type": "stream",
     "text": [
      "try to connect to data_db Database...\n",
      "Successuly connected\n"
     ]
    }
   ],
   "source": [
    "# sales per department\n",
    "sql = '''\n",
    "SELECT avg(ram) as ram_avg ,avg(battery_power) as power_avg,count(id) as cnt_sales\n",
    "from Features_tb\n",
    "WHERE four_g == ?\n",
    "'''\n",
    "data=[1]\n",
    "rows = import_sql(db_path,sql,data)"
   ]
  },
  {
   "cell_type": "code",
   "execution_count": 22,
   "id": "ba367a65",
   "metadata": {
    "scrolled": true
   },
   "outputs": [
    {
     "name": "stdout",
     "output_type": "stream",
     "text": [
      "ram_avg:2131.81, power_avg:1245.11, cnt_sales:2086\n"
     ]
    }
   ],
   "source": [
    "print(f'ram_avg:{round(rows[0][0],2)}, power_avg:{round(rows[0][1],2)}, cnt_sales:{round(rows[0][2],2)}')"
   ]
  },
  {
   "cell_type": "markdown",
   "id": "5b776c43",
   "metadata": {},
   "source": [
    "#### <li>What is average of px_height & px_width of mobiles which has front camera </li>"
   ]
  },
  {
   "cell_type": "code",
   "execution_count": 23,
   "id": "b5431df9",
   "metadata": {},
   "outputs": [
    {
     "name": "stdout",
     "output_type": "stream",
     "text": [
      "try to connect to data_db Database...\n",
      "Successuly connected\n"
     ]
    }
   ],
   "source": [
    "# sales per department\n",
    "sql = '''\n",
    "SELECT avg(px_height) as px_height_avg ,avg(px_width) as px_width_avg\n",
    "from Features_tb \n",
    "WHERE fc > ?\n",
    "'''\n",
    "data=[0]\n",
    "rows = import_sql(db_path,sql,data)"
   ]
  },
  {
   "cell_type": "code",
   "execution_count": 24,
   "id": "d5baabf0",
   "metadata": {
    "scrolled": true
   },
   "outputs": [
    {
     "name": "stdout",
     "output_type": "stream",
     "text": [
      "px_height_avg:639.2, px_width_avg:1248.47\n"
     ]
    }
   ],
   "source": [
    "print(f'px_height_avg:{round(rows[0][0],2)}, px_width_avg:{round(rows[0][1],2)}')"
   ]
  },
  {
   "cell_type": "markdown",
   "id": "5a2c7898",
   "metadata": {},
   "source": [
    "####  <li>How many sales of mobile which has touch screen & wifi</li>"
   ]
  },
  {
   "cell_type": "code",
   "execution_count": 25,
   "id": "a39677a8",
   "metadata": {},
   "outputs": [
    {
     "name": "stdout",
     "output_type": "stream",
     "text": [
      "try to connect to data_db Database...\n",
      "Successuly connected\n"
     ]
    }
   ],
   "source": [
    "# sales per department\n",
    "sql = '''\n",
    "SELECT count(id) as sales_cnt \n",
    "From Features_tb \n",
    "WHERE touch_screen == ? AND wifi ==?\n",
    "'''\n",
    "data=[1,1]\n",
    "rows = import_sql(db_path,sql,data)"
   ]
  },
  {
   "cell_type": "code",
   "execution_count": 26,
   "id": "f489a979",
   "metadata": {
    "scrolled": true
   },
   "outputs": [
    {
     "name": "stdout",
     "output_type": "stream",
     "text": [
      "number of sales:1032\n"
     ]
    }
   ],
   "source": [
    "print(f'number of sales:{round(rows[0][0],2)}')"
   ]
  },
  {
   "cell_type": "code",
   "execution_count": null,
   "id": "3b4be7fe",
   "metadata": {},
   "outputs": [],
   "source": []
  }
 ],
 "metadata": {
  "kernelspec": {
   "display_name": "Python 3 (ipykernel)",
   "language": "python",
   "name": "python3"
  },
  "language_info": {
   "codemirror_mode": {
    "name": "ipython",
    "version": 3
   },
   "file_extension": ".py",
   "mimetype": "text/x-python",
   "name": "python",
   "nbconvert_exporter": "python",
   "pygments_lexer": "ipython3",
   "version": "3.9.7"
  }
 },
 "nbformat": 4,
 "nbformat_minor": 5
}
